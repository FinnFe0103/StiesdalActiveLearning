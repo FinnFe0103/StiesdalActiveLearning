{
 "cells": [
  {
   "attachments": {},
   "cell_type": "markdown",
   "metadata": {},
   "source": [
    "# Traditional DoE vs. Bayesian Optimization\n",
    "\n",
    "The [first](https://youtu.be/Evua529dAgc) and\n",
    "[second](https://youtu.be/41fQs4JxRQA) videos from Taylor Sparks' [Optimization Tutorial\n",
    "YouTube playlist](https://youtube.com/playlist?list=PLL0SWcFqypClTIMQDOs_Jug70qaVPOzEc)\n",
    "are based on the results from this notebook. I suggest watching these two videos prior\n",
    "to working through this notebook for better context.\n",
    "\n",
    "This notebook first describes uninformed\n",
    "sampling methods including random, grid, and quasi-random (e.g., Latin hypercube, Sobol\n",
    "sequences) and shows how quasi-random achieves a much more even distribution of points.\n",
    "Finally, we compare the efficiency of these traditional methods for design of\n",
    "experiments (DoE) against Bayesian optimization. We show that, on average, Bayesian\n",
    "optimization is much more efficient than traditional DoE."
   ]
  },
  {
   "cell_type": "code",
   "execution_count": 2,
   "metadata": {},
   "outputs": [
    {
     "name": "stdout",
     "output_type": "stream",
     "text": [
      "Defaulting to user installation because normal site-packages is not writeable\n",
      "Collecting plotly\n",
      "  Downloading plotly-5.20.0-py3-none-any.whl.metadata (7.0 kB)\n",
      "Collecting tenacity>=6.2.0 (from plotly)\n",
      "  Downloading tenacity-8.2.3-py3-none-any.whl.metadata (1.0 kB)\n",
      "Requirement already satisfied: packaging in /Users/alexanderries/Library/Python/3.9/lib/python/site-packages (from plotly) (23.2)\n",
      "Downloading plotly-5.20.0-py3-none-any.whl (15.7 MB)\n",
      "\u001b[2K   \u001b[90m━━━━━━━━━━━━━━━━━━━━━━━━━━━━━━━━━━━━━━━━\u001b[0m \u001b[32m15.7/15.7 MB\u001b[0m \u001b[31m19.3 MB/s\u001b[0m eta \u001b[36m0:00:00\u001b[0m00:01\u001b[0m00:01\u001b[0m\n",
      "\u001b[?25hDownloading tenacity-8.2.3-py3-none-any.whl (24 kB)\n",
      "Installing collected packages: tenacity, plotly\n",
      "Successfully installed plotly-5.20.0 tenacity-8.2.3\n",
      "\n",
      "\u001b[1m[\u001b[0m\u001b[34;49mnotice\u001b[0m\u001b[1;39;49m]\u001b[0m\u001b[39;49m A new release of pip is available: \u001b[0m\u001b[31;49m23.3.2\u001b[0m\u001b[39;49m -> \u001b[0m\u001b[32;49m24.0\u001b[0m\n",
      "\u001b[1m[\u001b[0m\u001b[34;49mnotice\u001b[0m\u001b[1;39;49m]\u001b[0m\u001b[39;49m To update, run: \u001b[0m\u001b[32;49m/Library/Developer/CommandLineTools/usr/bin/python3 -m pip install --upgrade pip\u001b[0m\n"
     ]
    }
   ],
   "source": [
    "! pip install plotly"
   ]
  },
  {
   "cell_type": "code",
   "execution_count": 4,
   "metadata": {},
   "outputs": [],
   "source": [
    "import numpy as np\n",
    "import pandas as pd\n",
    "import plotly.express as px\n",
    "from scipy.stats import qmc\n",
    "from os import path"
   ]
  },
  {
   "cell_type": "code",
   "execution_count": 5,
   "metadata": {},
   "outputs": [],
   "source": [
    "bounds = {\"x1\": [0, 1], \"x2\": [0, 1]}\n",
    "num_samples = 10"
   ]
  },
  {
   "attachments": {},
   "cell_type": "markdown",
   "metadata": {},
   "source": [
    "## Uninformed Sampling Methods\n",
    "\n",
    "These are sampling methods that do not incorporate information about the objective function\n",
    "to be optimized. We will cover grid search, random search, and two quasi-random methods:\n",
    "Latin hypercube and Sobol sequences."
   ]
  },
  {
   "attachments": {},
   "cell_type": "markdown",
   "metadata": {},
   "source": [
    "### Grid\n",
    "\n",
    "Grid sampling is a structured approach to sampling from a search space. It involves\n",
    "creating a grid of points over the space, and then selecting points from the grid. When\n",
    "grids are used for certain types of problems (e.g., finite element methods), the\n",
    "algorithms are often more straightforward than for non-lattice point sets. This can be\n",
    "an effective way to ensure that the entire search space is explored, but it can also\n",
    "lead to a lot of unnecessary points being generated, especially for high-dimensional\n",
    "search spaces, due to large, systematic \"pockets\" in the search space.\n"
   ]
  },
  {
   "cell_type": "code",
   "execution_count": 6,
   "metadata": {},
   "outputs": [
    {
     "name": "stdout",
     "output_type": "stream",
     "text": [
      "3\n"
     ]
    },
    {
     "data": {
      "text/html": [
       "<div>\n",
       "<style scoped>\n",
       "    .dataframe tbody tr th:only-of-type {\n",
       "        vertical-align: middle;\n",
       "    }\n",
       "\n",
       "    .dataframe tbody tr th {\n",
       "        vertical-align: top;\n",
       "    }\n",
       "\n",
       "    .dataframe thead th {\n",
       "        text-align: right;\n",
       "    }\n",
       "</style>\n",
       "<table border=\"1\" class=\"dataframe\">\n",
       "  <thead>\n",
       "    <tr style=\"text-align: right;\">\n",
       "      <th></th>\n",
       "      <th>x1</th>\n",
       "      <th>x2</th>\n",
       "    </tr>\n",
       "  </thead>\n",
       "  <tbody>\n",
       "    <tr>\n",
       "      <th>0</th>\n",
       "      <td>0.0</td>\n",
       "      <td>0.0</td>\n",
       "    </tr>\n",
       "    <tr>\n",
       "      <th>1</th>\n",
       "      <td>0.0</td>\n",
       "      <td>0.5</td>\n",
       "    </tr>\n",
       "    <tr>\n",
       "      <th>2</th>\n",
       "      <td>0.0</td>\n",
       "      <td>1.0</td>\n",
       "    </tr>\n",
       "    <tr>\n",
       "      <th>3</th>\n",
       "      <td>0.5</td>\n",
       "      <td>0.0</td>\n",
       "    </tr>\n",
       "    <tr>\n",
       "      <th>4</th>\n",
       "      <td>0.5</td>\n",
       "      <td>0.5</td>\n",
       "    </tr>\n",
       "    <tr>\n",
       "      <th>5</th>\n",
       "      <td>0.5</td>\n",
       "      <td>1.0</td>\n",
       "    </tr>\n",
       "    <tr>\n",
       "      <th>6</th>\n",
       "      <td>1.0</td>\n",
       "      <td>0.0</td>\n",
       "    </tr>\n",
       "    <tr>\n",
       "      <th>7</th>\n",
       "      <td>1.0</td>\n",
       "      <td>0.5</td>\n",
       "    </tr>\n",
       "    <tr>\n",
       "      <th>8</th>\n",
       "      <td>1.0</td>\n",
       "      <td>1.0</td>\n",
       "    </tr>\n",
       "  </tbody>\n",
       "</table>\n",
       "</div>"
      ],
      "text/plain": [
       "    x1   x2\n",
       "0  0.0  0.0\n",
       "1  0.0  0.5\n",
       "2  0.0  1.0\n",
       "3  0.5  0.0\n",
       "4  0.5  0.5\n",
       "5  0.5  1.0\n",
       "6  1.0  0.0\n",
       "7  1.0  0.5\n",
       "8  1.0  1.0"
      ]
     },
     "execution_count": 6,
     "metadata": {},
     "output_type": "execute_result"
    }
   ],
   "source": [
    "from sklearn.model_selection import ParameterGrid\n",
    "\n",
    "def get_grid_samples(bounds, num_samples = 10, seed=None):\n",
    "    # seed is unused, for compatibility only\n",
    "    param_grid = {}\n",
    "    num_pts_per_dim = max(1, np.floor(num_samples ** (1 / len(bounds))).astype(int))\n",
    "    for name, bnd in bounds.items():\n",
    "        param_grid[name] = np.linspace(bnd[0], bnd[1], num=num_pts_per_dim)\n",
    "    print(num_pts_per_dim)\n",
    "    return pd.DataFrame(list(ParameterGrid(param_grid)))\n",
    "\n",
    "grid_samples = get_grid_samples(bounds, num_samples=num_samples)\n",
    "grid_samples"
   ]
  },
  {
   "cell_type": "code",
   "execution_count": 12,
   "metadata": {},
   "outputs": [
    {
     "ename": "ValueError",
     "evalue": "Mime type rendering requires nbformat>=4.2.0 but it is not installed",
     "output_type": "error",
     "traceback": [
      "\u001b[0;31m---------------------------------------------------------------------------\u001b[0m",
      "\u001b[0;31mValueError\u001b[0m                                Traceback (most recent call last)",
      "File \u001b[0;32m~/Library/Python/3.9/lib/python/site-packages/IPython/core/formatters.py:922\u001b[0m, in \u001b[0;36mIPythonDisplayFormatter.__call__\u001b[0;34m(self, obj)\u001b[0m\n\u001b[1;32m    920\u001b[0m method \u001b[38;5;241m=\u001b[39m get_real_method(obj, \u001b[38;5;28mself\u001b[39m\u001b[38;5;241m.\u001b[39mprint_method)\n\u001b[1;32m    921\u001b[0m \u001b[38;5;28;01mif\u001b[39;00m method \u001b[38;5;129;01mis\u001b[39;00m \u001b[38;5;129;01mnot\u001b[39;00m \u001b[38;5;28;01mNone\u001b[39;00m:\n\u001b[0;32m--> 922\u001b[0m     \u001b[43mmethod\u001b[49m\u001b[43m(\u001b[49m\u001b[43m)\u001b[49m\n\u001b[1;32m    923\u001b[0m     \u001b[38;5;28;01mreturn\u001b[39;00m \u001b[38;5;28;01mTrue\u001b[39;00m\n",
      "File \u001b[0;32m~/Library/Python/3.9/lib/python/site-packages/plotly/basedatatypes.py:832\u001b[0m, in \u001b[0;36mBaseFigure._ipython_display_\u001b[0;34m(self)\u001b[0m\n\u001b[1;32m    829\u001b[0m \u001b[38;5;28;01mimport\u001b[39;00m \u001b[38;5;21;01mplotly\u001b[39;00m\u001b[38;5;21;01m.\u001b[39;00m\u001b[38;5;21;01mio\u001b[39;00m \u001b[38;5;28;01mas\u001b[39;00m \u001b[38;5;21;01mpio\u001b[39;00m\n\u001b[1;32m    831\u001b[0m \u001b[38;5;28;01mif\u001b[39;00m pio\u001b[38;5;241m.\u001b[39mrenderers\u001b[38;5;241m.\u001b[39mrender_on_display \u001b[38;5;129;01mand\u001b[39;00m pio\u001b[38;5;241m.\u001b[39mrenderers\u001b[38;5;241m.\u001b[39mdefault:\n\u001b[0;32m--> 832\u001b[0m     \u001b[43mpio\u001b[49m\u001b[38;5;241;43m.\u001b[39;49m\u001b[43mshow\u001b[49m\u001b[43m(\u001b[49m\u001b[38;5;28;43mself\u001b[39;49m\u001b[43m)\u001b[49m\n\u001b[1;32m    833\u001b[0m \u001b[38;5;28;01melse\u001b[39;00m:\n\u001b[1;32m    834\u001b[0m     \u001b[38;5;28mprint\u001b[39m(\u001b[38;5;28mrepr\u001b[39m(\u001b[38;5;28mself\u001b[39m))\n",
      "File \u001b[0;32m~/Library/Python/3.9/lib/python/site-packages/plotly/io/_renderers.py:394\u001b[0m, in \u001b[0;36mshow\u001b[0;34m(fig, renderer, validate, **kwargs)\u001b[0m\n\u001b[1;32m    389\u001b[0m         \u001b[38;5;28;01mraise\u001b[39;00m \u001b[38;5;167;01mValueError\u001b[39;00m(\n\u001b[1;32m    390\u001b[0m             \u001b[38;5;124m\"\u001b[39m\u001b[38;5;124mMime type rendering requires ipython but it is not installed\u001b[39m\u001b[38;5;124m\"\u001b[39m\n\u001b[1;32m    391\u001b[0m         )\n\u001b[1;32m    393\u001b[0m     \u001b[38;5;28;01mif\u001b[39;00m \u001b[38;5;129;01mnot\u001b[39;00m nbformat \u001b[38;5;129;01mor\u001b[39;00m Version(nbformat\u001b[38;5;241m.\u001b[39m__version__) \u001b[38;5;241m<\u001b[39m Version(\u001b[38;5;124m\"\u001b[39m\u001b[38;5;124m4.2.0\u001b[39m\u001b[38;5;124m\"\u001b[39m):\n\u001b[0;32m--> 394\u001b[0m         \u001b[38;5;28;01mraise\u001b[39;00m \u001b[38;5;167;01mValueError\u001b[39;00m(\n\u001b[1;32m    395\u001b[0m             \u001b[38;5;124m\"\u001b[39m\u001b[38;5;124mMime type rendering requires nbformat>=4.2.0 but it is not installed\u001b[39m\u001b[38;5;124m\"\u001b[39m\n\u001b[1;32m    396\u001b[0m         )\n\u001b[1;32m    398\u001b[0m     ipython_display\u001b[38;5;241m.\u001b[39mdisplay(bundle, raw\u001b[38;5;241m=\u001b[39m\u001b[38;5;28;01mTrue\u001b[39;00m)\n\u001b[1;32m    400\u001b[0m \u001b[38;5;66;03m# external renderers\u001b[39;00m\n",
      "\u001b[0;31mValueError\u001b[0m: Mime type rendering requires nbformat>=4.2.0 but it is not installed"
     ]
    },
    {
     "data": {
      "application/vnd.plotly.v1+json": {
       "config": {
        "plotlyServerURL": "https://plot.ly"
       },
       "data": [
        {
         "hovertemplate": "x1=%{x}<br>x2=%{y}<extra></extra>",
         "legendgroup": "",
         "marker": {
          "color": "#636efa",
          "symbol": "circle"
         },
         "mode": "markers",
         "name": "",
         "orientation": "v",
         "showlegend": false,
         "type": "scatter",
         "x": [
          0,
          0,
          0,
          0.5,
          0.5,
          0.5,
          1,
          1,
          1
         ],
         "xaxis": "x",
         "y": [
          0,
          0.5,
          1,
          0,
          0.5,
          1,
          0,
          0.5,
          1
         ],
         "yaxis": "y"
        }
       ],
       "layout": {
        "height": 400,
        "legend": {
         "tracegroupgap": 0
        },
        "margin": {
         "t": 60
        },
        "template": {
         "data": {
          "bar": [
           {
            "error_x": {
             "color": "#2a3f5f"
            },
            "error_y": {
             "color": "#2a3f5f"
            },
            "marker": {
             "line": {
              "color": "#E5ECF6",
              "width": 0.5
             },
             "pattern": {
              "fillmode": "overlay",
              "size": 10,
              "solidity": 0.2
             }
            },
            "type": "bar"
           }
          ],
          "barpolar": [
           {
            "marker": {
             "line": {
              "color": "#E5ECF6",
              "width": 0.5
             },
             "pattern": {
              "fillmode": "overlay",
              "size": 10,
              "solidity": 0.2
             }
            },
            "type": "barpolar"
           }
          ],
          "carpet": [
           {
            "aaxis": {
             "endlinecolor": "#2a3f5f",
             "gridcolor": "white",
             "linecolor": "white",
             "minorgridcolor": "white",
             "startlinecolor": "#2a3f5f"
            },
            "baxis": {
             "endlinecolor": "#2a3f5f",
             "gridcolor": "white",
             "linecolor": "white",
             "minorgridcolor": "white",
             "startlinecolor": "#2a3f5f"
            },
            "type": "carpet"
           }
          ],
          "choropleth": [
           {
            "colorbar": {
             "outlinewidth": 0,
             "ticks": ""
            },
            "type": "choropleth"
           }
          ],
          "contour": [
           {
            "colorbar": {
             "outlinewidth": 0,
             "ticks": ""
            },
            "colorscale": [
             [
              0,
              "#0d0887"
             ],
             [
              0.1111111111111111,
              "#46039f"
             ],
             [
              0.2222222222222222,
              "#7201a8"
             ],
             [
              0.3333333333333333,
              "#9c179e"
             ],
             [
              0.4444444444444444,
              "#bd3786"
             ],
             [
              0.5555555555555556,
              "#d8576b"
             ],
             [
              0.6666666666666666,
              "#ed7953"
             ],
             [
              0.7777777777777778,
              "#fb9f3a"
             ],
             [
              0.8888888888888888,
              "#fdca26"
             ],
             [
              1,
              "#f0f921"
             ]
            ],
            "type": "contour"
           }
          ],
          "contourcarpet": [
           {
            "colorbar": {
             "outlinewidth": 0,
             "ticks": ""
            },
            "type": "contourcarpet"
           }
          ],
          "heatmap": [
           {
            "colorbar": {
             "outlinewidth": 0,
             "ticks": ""
            },
            "colorscale": [
             [
              0,
              "#0d0887"
             ],
             [
              0.1111111111111111,
              "#46039f"
             ],
             [
              0.2222222222222222,
              "#7201a8"
             ],
             [
              0.3333333333333333,
              "#9c179e"
             ],
             [
              0.4444444444444444,
              "#bd3786"
             ],
             [
              0.5555555555555556,
              "#d8576b"
             ],
             [
              0.6666666666666666,
              "#ed7953"
             ],
             [
              0.7777777777777778,
              "#fb9f3a"
             ],
             [
              0.8888888888888888,
              "#fdca26"
             ],
             [
              1,
              "#f0f921"
             ]
            ],
            "type": "heatmap"
           }
          ],
          "heatmapgl": [
           {
            "colorbar": {
             "outlinewidth": 0,
             "ticks": ""
            },
            "colorscale": [
             [
              0,
              "#0d0887"
             ],
             [
              0.1111111111111111,
              "#46039f"
             ],
             [
              0.2222222222222222,
              "#7201a8"
             ],
             [
              0.3333333333333333,
              "#9c179e"
             ],
             [
              0.4444444444444444,
              "#bd3786"
             ],
             [
              0.5555555555555556,
              "#d8576b"
             ],
             [
              0.6666666666666666,
              "#ed7953"
             ],
             [
              0.7777777777777778,
              "#fb9f3a"
             ],
             [
              0.8888888888888888,
              "#fdca26"
             ],
             [
              1,
              "#f0f921"
             ]
            ],
            "type": "heatmapgl"
           }
          ],
          "histogram": [
           {
            "marker": {
             "pattern": {
              "fillmode": "overlay",
              "size": 10,
              "solidity": 0.2
             }
            },
            "type": "histogram"
           }
          ],
          "histogram2d": [
           {
            "colorbar": {
             "outlinewidth": 0,
             "ticks": ""
            },
            "colorscale": [
             [
              0,
              "#0d0887"
             ],
             [
              0.1111111111111111,
              "#46039f"
             ],
             [
              0.2222222222222222,
              "#7201a8"
             ],
             [
              0.3333333333333333,
              "#9c179e"
             ],
             [
              0.4444444444444444,
              "#bd3786"
             ],
             [
              0.5555555555555556,
              "#d8576b"
             ],
             [
              0.6666666666666666,
              "#ed7953"
             ],
             [
              0.7777777777777778,
              "#fb9f3a"
             ],
             [
              0.8888888888888888,
              "#fdca26"
             ],
             [
              1,
              "#f0f921"
             ]
            ],
            "type": "histogram2d"
           }
          ],
          "histogram2dcontour": [
           {
            "colorbar": {
             "outlinewidth": 0,
             "ticks": ""
            },
            "colorscale": [
             [
              0,
              "#0d0887"
             ],
             [
              0.1111111111111111,
              "#46039f"
             ],
             [
              0.2222222222222222,
              "#7201a8"
             ],
             [
              0.3333333333333333,
              "#9c179e"
             ],
             [
              0.4444444444444444,
              "#bd3786"
             ],
             [
              0.5555555555555556,
              "#d8576b"
             ],
             [
              0.6666666666666666,
              "#ed7953"
             ],
             [
              0.7777777777777778,
              "#fb9f3a"
             ],
             [
              0.8888888888888888,
              "#fdca26"
             ],
             [
              1,
              "#f0f921"
             ]
            ],
            "type": "histogram2dcontour"
           }
          ],
          "mesh3d": [
           {
            "colorbar": {
             "outlinewidth": 0,
             "ticks": ""
            },
            "type": "mesh3d"
           }
          ],
          "parcoords": [
           {
            "line": {
             "colorbar": {
              "outlinewidth": 0,
              "ticks": ""
             }
            },
            "type": "parcoords"
           }
          ],
          "pie": [
           {
            "automargin": true,
            "type": "pie"
           }
          ],
          "scatter": [
           {
            "fillpattern": {
             "fillmode": "overlay",
             "size": 10,
             "solidity": 0.2
            },
            "type": "scatter"
           }
          ],
          "scatter3d": [
           {
            "line": {
             "colorbar": {
              "outlinewidth": 0,
              "ticks": ""
             }
            },
            "marker": {
             "colorbar": {
              "outlinewidth": 0,
              "ticks": ""
             }
            },
            "type": "scatter3d"
           }
          ],
          "scattercarpet": [
           {
            "marker": {
             "colorbar": {
              "outlinewidth": 0,
              "ticks": ""
             }
            },
            "type": "scattercarpet"
           }
          ],
          "scattergeo": [
           {
            "marker": {
             "colorbar": {
              "outlinewidth": 0,
              "ticks": ""
             }
            },
            "type": "scattergeo"
           }
          ],
          "scattergl": [
           {
            "marker": {
             "colorbar": {
              "outlinewidth": 0,
              "ticks": ""
             }
            },
            "type": "scattergl"
           }
          ],
          "scattermapbox": [
           {
            "marker": {
             "colorbar": {
              "outlinewidth": 0,
              "ticks": ""
             }
            },
            "type": "scattermapbox"
           }
          ],
          "scatterpolar": [
           {
            "marker": {
             "colorbar": {
              "outlinewidth": 0,
              "ticks": ""
             }
            },
            "type": "scatterpolar"
           }
          ],
          "scatterpolargl": [
           {
            "marker": {
             "colorbar": {
              "outlinewidth": 0,
              "ticks": ""
             }
            },
            "type": "scatterpolargl"
           }
          ],
          "scatterternary": [
           {
            "marker": {
             "colorbar": {
              "outlinewidth": 0,
              "ticks": ""
             }
            },
            "type": "scatterternary"
           }
          ],
          "surface": [
           {
            "colorbar": {
             "outlinewidth": 0,
             "ticks": ""
            },
            "colorscale": [
             [
              0,
              "#0d0887"
             ],
             [
              0.1111111111111111,
              "#46039f"
             ],
             [
              0.2222222222222222,
              "#7201a8"
             ],
             [
              0.3333333333333333,
              "#9c179e"
             ],
             [
              0.4444444444444444,
              "#bd3786"
             ],
             [
              0.5555555555555556,
              "#d8576b"
             ],
             [
              0.6666666666666666,
              "#ed7953"
             ],
             [
              0.7777777777777778,
              "#fb9f3a"
             ],
             [
              0.8888888888888888,
              "#fdca26"
             ],
             [
              1,
              "#f0f921"
             ]
            ],
            "type": "surface"
           }
          ],
          "table": [
           {
            "cells": {
             "fill": {
              "color": "#EBF0F8"
             },
             "line": {
              "color": "white"
             }
            },
            "header": {
             "fill": {
              "color": "#C8D4E3"
             },
             "line": {
              "color": "white"
             }
            },
            "type": "table"
           }
          ]
         },
         "layout": {
          "annotationdefaults": {
           "arrowcolor": "#2a3f5f",
           "arrowhead": 0,
           "arrowwidth": 1
          },
          "autotypenumbers": "strict",
          "coloraxis": {
           "colorbar": {
            "outlinewidth": 0,
            "ticks": ""
           }
          },
          "colorscale": {
           "diverging": [
            [
             0,
             "#8e0152"
            ],
            [
             0.1,
             "#c51b7d"
            ],
            [
             0.2,
             "#de77ae"
            ],
            [
             0.3,
             "#f1b6da"
            ],
            [
             0.4,
             "#fde0ef"
            ],
            [
             0.5,
             "#f7f7f7"
            ],
            [
             0.6,
             "#e6f5d0"
            ],
            [
             0.7,
             "#b8e186"
            ],
            [
             0.8,
             "#7fbc41"
            ],
            [
             0.9,
             "#4d9221"
            ],
            [
             1,
             "#276419"
            ]
           ],
           "sequential": [
            [
             0,
             "#0d0887"
            ],
            [
             0.1111111111111111,
             "#46039f"
            ],
            [
             0.2222222222222222,
             "#7201a8"
            ],
            [
             0.3333333333333333,
             "#9c179e"
            ],
            [
             0.4444444444444444,
             "#bd3786"
            ],
            [
             0.5555555555555556,
             "#d8576b"
            ],
            [
             0.6666666666666666,
             "#ed7953"
            ],
            [
             0.7777777777777778,
             "#fb9f3a"
            ],
            [
             0.8888888888888888,
             "#fdca26"
            ],
            [
             1,
             "#f0f921"
            ]
           ],
           "sequentialminus": [
            [
             0,
             "#0d0887"
            ],
            [
             0.1111111111111111,
             "#46039f"
            ],
            [
             0.2222222222222222,
             "#7201a8"
            ],
            [
             0.3333333333333333,
             "#9c179e"
            ],
            [
             0.4444444444444444,
             "#bd3786"
            ],
            [
             0.5555555555555556,
             "#d8576b"
            ],
            [
             0.6666666666666666,
             "#ed7953"
            ],
            [
             0.7777777777777778,
             "#fb9f3a"
            ],
            [
             0.8888888888888888,
             "#fdca26"
            ],
            [
             1,
             "#f0f921"
            ]
           ]
          },
          "colorway": [
           "#636efa",
           "#EF553B",
           "#00cc96",
           "#ab63fa",
           "#FFA15A",
           "#19d3f3",
           "#FF6692",
           "#B6E880",
           "#FF97FF",
           "#FECB52"
          ],
          "font": {
           "color": "#2a3f5f"
          },
          "geo": {
           "bgcolor": "white",
           "lakecolor": "white",
           "landcolor": "#E5ECF6",
           "showlakes": true,
           "showland": true,
           "subunitcolor": "white"
          },
          "hoverlabel": {
           "align": "left"
          },
          "hovermode": "closest",
          "mapbox": {
           "style": "light"
          },
          "paper_bgcolor": "white",
          "plot_bgcolor": "#E5ECF6",
          "polar": {
           "angularaxis": {
            "gridcolor": "white",
            "linecolor": "white",
            "ticks": ""
           },
           "bgcolor": "#E5ECF6",
           "radialaxis": {
            "gridcolor": "white",
            "linecolor": "white",
            "ticks": ""
           }
          },
          "scene": {
           "xaxis": {
            "backgroundcolor": "#E5ECF6",
            "gridcolor": "white",
            "gridwidth": 2,
            "linecolor": "white",
            "showbackground": true,
            "ticks": "",
            "zerolinecolor": "white"
           },
           "yaxis": {
            "backgroundcolor": "#E5ECF6",
            "gridcolor": "white",
            "gridwidth": 2,
            "linecolor": "white",
            "showbackground": true,
            "ticks": "",
            "zerolinecolor": "white"
           },
           "zaxis": {
            "backgroundcolor": "#E5ECF6",
            "gridcolor": "white",
            "gridwidth": 2,
            "linecolor": "white",
            "showbackground": true,
            "ticks": "",
            "zerolinecolor": "white"
           }
          },
          "shapedefaults": {
           "line": {
            "color": "#2a3f5f"
           }
          },
          "ternary": {
           "aaxis": {
            "gridcolor": "white",
            "linecolor": "white",
            "ticks": ""
           },
           "baxis": {
            "gridcolor": "white",
            "linecolor": "white",
            "ticks": ""
           },
           "bgcolor": "#E5ECF6",
           "caxis": {
            "gridcolor": "white",
            "linecolor": "white",
            "ticks": ""
           }
          },
          "title": {
           "x": 0.05
          },
          "xaxis": {
           "automargin": true,
           "gridcolor": "white",
           "linecolor": "white",
           "ticks": "",
           "title": {
            "standoff": 15
           },
           "zerolinecolor": "white",
           "zerolinewidth": 2
          },
          "yaxis": {
           "automargin": true,
           "gridcolor": "white",
           "linecolor": "white",
           "ticks": "",
           "title": {
            "standoff": 15
           },
           "zerolinecolor": "white",
           "zerolinewidth": 2
          }
         }
        },
        "width": 400,
        "xaxis": {
         "anchor": "y",
         "domain": [
          0,
          1
         ],
         "title": {
          "text": "x1"
         }
        },
        "yaxis": {
         "anchor": "x",
         "domain": [
          0,
          1
         ],
         "title": {
          "text": "x2"
         }
        }
       }
      },
      "text/html": [
       "<div>                        <script type=\"text/javascript\">window.PlotlyConfig = {MathJaxConfig: 'local'};</script>\n",
       "        <script charset=\"utf-8\" src=\"https://cdn.plot.ly/plotly-2.30.0.min.js\"></script>                <div id=\"8457597e-c330-46d4-894b-66234df32565\" class=\"plotly-graph-div\" style=\"height:400px; width:400px;\"></div>            <script type=\"text/javascript\">                                    window.PLOTLYENV=window.PLOTLYENV || {};                                    if (document.getElementById(\"8457597e-c330-46d4-894b-66234df32565\")) {                    Plotly.newPlot(                        \"8457597e-c330-46d4-894b-66234df32565\",                        [{\"hovertemplate\":\"x1=%{x}\\u003cbr\\u003ex2=%{y}\\u003cextra\\u003e\\u003c\\u002fextra\\u003e\",\"legendgroup\":\"\",\"marker\":{\"color\":\"#636efa\",\"symbol\":\"circle\"},\"mode\":\"markers\",\"name\":\"\",\"orientation\":\"v\",\"showlegend\":false,\"x\":[0.0,0.0,0.0,0.5,0.5,0.5,1.0,1.0,1.0],\"xaxis\":\"x\",\"y\":[0.0,0.5,1.0,0.0,0.5,1.0,0.0,0.5,1.0],\"yaxis\":\"y\",\"type\":\"scatter\"}],                        {\"template\":{\"data\":{\"histogram2dcontour\":[{\"type\":\"histogram2dcontour\",\"colorbar\":{\"outlinewidth\":0,\"ticks\":\"\"},\"colorscale\":[[0.0,\"#0d0887\"],[0.1111111111111111,\"#46039f\"],[0.2222222222222222,\"#7201a8\"],[0.3333333333333333,\"#9c179e\"],[0.4444444444444444,\"#bd3786\"],[0.5555555555555556,\"#d8576b\"],[0.6666666666666666,\"#ed7953\"],[0.7777777777777778,\"#fb9f3a\"],[0.8888888888888888,\"#fdca26\"],[1.0,\"#f0f921\"]]}],\"choropleth\":[{\"type\":\"choropleth\",\"colorbar\":{\"outlinewidth\":0,\"ticks\":\"\"}}],\"histogram2d\":[{\"type\":\"histogram2d\",\"colorbar\":{\"outlinewidth\":0,\"ticks\":\"\"},\"colorscale\":[[0.0,\"#0d0887\"],[0.1111111111111111,\"#46039f\"],[0.2222222222222222,\"#7201a8\"],[0.3333333333333333,\"#9c179e\"],[0.4444444444444444,\"#bd3786\"],[0.5555555555555556,\"#d8576b\"],[0.6666666666666666,\"#ed7953\"],[0.7777777777777778,\"#fb9f3a\"],[0.8888888888888888,\"#fdca26\"],[1.0,\"#f0f921\"]]}],\"heatmap\":[{\"type\":\"heatmap\",\"colorbar\":{\"outlinewidth\":0,\"ticks\":\"\"},\"colorscale\":[[0.0,\"#0d0887\"],[0.1111111111111111,\"#46039f\"],[0.2222222222222222,\"#7201a8\"],[0.3333333333333333,\"#9c179e\"],[0.4444444444444444,\"#bd3786\"],[0.5555555555555556,\"#d8576b\"],[0.6666666666666666,\"#ed7953\"],[0.7777777777777778,\"#fb9f3a\"],[0.8888888888888888,\"#fdca26\"],[1.0,\"#f0f921\"]]}],\"heatmapgl\":[{\"type\":\"heatmapgl\",\"colorbar\":{\"outlinewidth\":0,\"ticks\":\"\"},\"colorscale\":[[0.0,\"#0d0887\"],[0.1111111111111111,\"#46039f\"],[0.2222222222222222,\"#7201a8\"],[0.3333333333333333,\"#9c179e\"],[0.4444444444444444,\"#bd3786\"],[0.5555555555555556,\"#d8576b\"],[0.6666666666666666,\"#ed7953\"],[0.7777777777777778,\"#fb9f3a\"],[0.8888888888888888,\"#fdca26\"],[1.0,\"#f0f921\"]]}],\"contourcarpet\":[{\"type\":\"contourcarpet\",\"colorbar\":{\"outlinewidth\":0,\"ticks\":\"\"}}],\"contour\":[{\"type\":\"contour\",\"colorbar\":{\"outlinewidth\":0,\"ticks\":\"\"},\"colorscale\":[[0.0,\"#0d0887\"],[0.1111111111111111,\"#46039f\"],[0.2222222222222222,\"#7201a8\"],[0.3333333333333333,\"#9c179e\"],[0.4444444444444444,\"#bd3786\"],[0.5555555555555556,\"#d8576b\"],[0.6666666666666666,\"#ed7953\"],[0.7777777777777778,\"#fb9f3a\"],[0.8888888888888888,\"#fdca26\"],[1.0,\"#f0f921\"]]}],\"surface\":[{\"type\":\"surface\",\"colorbar\":{\"outlinewidth\":0,\"ticks\":\"\"},\"colorscale\":[[0.0,\"#0d0887\"],[0.1111111111111111,\"#46039f\"],[0.2222222222222222,\"#7201a8\"],[0.3333333333333333,\"#9c179e\"],[0.4444444444444444,\"#bd3786\"],[0.5555555555555556,\"#d8576b\"],[0.6666666666666666,\"#ed7953\"],[0.7777777777777778,\"#fb9f3a\"],[0.8888888888888888,\"#fdca26\"],[1.0,\"#f0f921\"]]}],\"mesh3d\":[{\"type\":\"mesh3d\",\"colorbar\":{\"outlinewidth\":0,\"ticks\":\"\"}}],\"scatter\":[{\"fillpattern\":{\"fillmode\":\"overlay\",\"size\":10,\"solidity\":0.2},\"type\":\"scatter\"}],\"parcoords\":[{\"type\":\"parcoords\",\"line\":{\"colorbar\":{\"outlinewidth\":0,\"ticks\":\"\"}}}],\"scatterpolargl\":[{\"type\":\"scatterpolargl\",\"marker\":{\"colorbar\":{\"outlinewidth\":0,\"ticks\":\"\"}}}],\"bar\":[{\"error_x\":{\"color\":\"#2a3f5f\"},\"error_y\":{\"color\":\"#2a3f5f\"},\"marker\":{\"line\":{\"color\":\"#E5ECF6\",\"width\":0.5},\"pattern\":{\"fillmode\":\"overlay\",\"size\":10,\"solidity\":0.2}},\"type\":\"bar\"}],\"scattergeo\":[{\"type\":\"scattergeo\",\"marker\":{\"colorbar\":{\"outlinewidth\":0,\"ticks\":\"\"}}}],\"scatterpolar\":[{\"type\":\"scatterpolar\",\"marker\":{\"colorbar\":{\"outlinewidth\":0,\"ticks\":\"\"}}}],\"histogram\":[{\"marker\":{\"pattern\":{\"fillmode\":\"overlay\",\"size\":10,\"solidity\":0.2}},\"type\":\"histogram\"}],\"scattergl\":[{\"type\":\"scattergl\",\"marker\":{\"colorbar\":{\"outlinewidth\":0,\"ticks\":\"\"}}}],\"scatter3d\":[{\"type\":\"scatter3d\",\"line\":{\"colorbar\":{\"outlinewidth\":0,\"ticks\":\"\"}},\"marker\":{\"colorbar\":{\"outlinewidth\":0,\"ticks\":\"\"}}}],\"scattermapbox\":[{\"type\":\"scattermapbox\",\"marker\":{\"colorbar\":{\"outlinewidth\":0,\"ticks\":\"\"}}}],\"scatterternary\":[{\"type\":\"scatterternary\",\"marker\":{\"colorbar\":{\"outlinewidth\":0,\"ticks\":\"\"}}}],\"scattercarpet\":[{\"type\":\"scattercarpet\",\"marker\":{\"colorbar\":{\"outlinewidth\":0,\"ticks\":\"\"}}}],\"carpet\":[{\"aaxis\":{\"endlinecolor\":\"#2a3f5f\",\"gridcolor\":\"white\",\"linecolor\":\"white\",\"minorgridcolor\":\"white\",\"startlinecolor\":\"#2a3f5f\"},\"baxis\":{\"endlinecolor\":\"#2a3f5f\",\"gridcolor\":\"white\",\"linecolor\":\"white\",\"minorgridcolor\":\"white\",\"startlinecolor\":\"#2a3f5f\"},\"type\":\"carpet\"}],\"table\":[{\"cells\":{\"fill\":{\"color\":\"#EBF0F8\"},\"line\":{\"color\":\"white\"}},\"header\":{\"fill\":{\"color\":\"#C8D4E3\"},\"line\":{\"color\":\"white\"}},\"type\":\"table\"}],\"barpolar\":[{\"marker\":{\"line\":{\"color\":\"#E5ECF6\",\"width\":0.5},\"pattern\":{\"fillmode\":\"overlay\",\"size\":10,\"solidity\":0.2}},\"type\":\"barpolar\"}],\"pie\":[{\"automargin\":true,\"type\":\"pie\"}]},\"layout\":{\"autotypenumbers\":\"strict\",\"colorway\":[\"#636efa\",\"#EF553B\",\"#00cc96\",\"#ab63fa\",\"#FFA15A\",\"#19d3f3\",\"#FF6692\",\"#B6E880\",\"#FF97FF\",\"#FECB52\"],\"font\":{\"color\":\"#2a3f5f\"},\"hovermode\":\"closest\",\"hoverlabel\":{\"align\":\"left\"},\"paper_bgcolor\":\"white\",\"plot_bgcolor\":\"#E5ECF6\",\"polar\":{\"bgcolor\":\"#E5ECF6\",\"angularaxis\":{\"gridcolor\":\"white\",\"linecolor\":\"white\",\"ticks\":\"\"},\"radialaxis\":{\"gridcolor\":\"white\",\"linecolor\":\"white\",\"ticks\":\"\"}},\"ternary\":{\"bgcolor\":\"#E5ECF6\",\"aaxis\":{\"gridcolor\":\"white\",\"linecolor\":\"white\",\"ticks\":\"\"},\"baxis\":{\"gridcolor\":\"white\",\"linecolor\":\"white\",\"ticks\":\"\"},\"caxis\":{\"gridcolor\":\"white\",\"linecolor\":\"white\",\"ticks\":\"\"}},\"coloraxis\":{\"colorbar\":{\"outlinewidth\":0,\"ticks\":\"\"}},\"colorscale\":{\"sequential\":[[0.0,\"#0d0887\"],[0.1111111111111111,\"#46039f\"],[0.2222222222222222,\"#7201a8\"],[0.3333333333333333,\"#9c179e\"],[0.4444444444444444,\"#bd3786\"],[0.5555555555555556,\"#d8576b\"],[0.6666666666666666,\"#ed7953\"],[0.7777777777777778,\"#fb9f3a\"],[0.8888888888888888,\"#fdca26\"],[1.0,\"#f0f921\"]],\"sequentialminus\":[[0.0,\"#0d0887\"],[0.1111111111111111,\"#46039f\"],[0.2222222222222222,\"#7201a8\"],[0.3333333333333333,\"#9c179e\"],[0.4444444444444444,\"#bd3786\"],[0.5555555555555556,\"#d8576b\"],[0.6666666666666666,\"#ed7953\"],[0.7777777777777778,\"#fb9f3a\"],[0.8888888888888888,\"#fdca26\"],[1.0,\"#f0f921\"]],\"diverging\":[[0,\"#8e0152\"],[0.1,\"#c51b7d\"],[0.2,\"#de77ae\"],[0.3,\"#f1b6da\"],[0.4,\"#fde0ef\"],[0.5,\"#f7f7f7\"],[0.6,\"#e6f5d0\"],[0.7,\"#b8e186\"],[0.8,\"#7fbc41\"],[0.9,\"#4d9221\"],[1,\"#276419\"]]},\"xaxis\":{\"gridcolor\":\"white\",\"linecolor\":\"white\",\"ticks\":\"\",\"title\":{\"standoff\":15},\"zerolinecolor\":\"white\",\"automargin\":true,\"zerolinewidth\":2},\"yaxis\":{\"gridcolor\":\"white\",\"linecolor\":\"white\",\"ticks\":\"\",\"title\":{\"standoff\":15},\"zerolinecolor\":\"white\",\"automargin\":true,\"zerolinewidth\":2},\"scene\":{\"xaxis\":{\"backgroundcolor\":\"#E5ECF6\",\"gridcolor\":\"white\",\"linecolor\":\"white\",\"showbackground\":true,\"ticks\":\"\",\"zerolinecolor\":\"white\",\"gridwidth\":2},\"yaxis\":{\"backgroundcolor\":\"#E5ECF6\",\"gridcolor\":\"white\",\"linecolor\":\"white\",\"showbackground\":true,\"ticks\":\"\",\"zerolinecolor\":\"white\",\"gridwidth\":2},\"zaxis\":{\"backgroundcolor\":\"#E5ECF6\",\"gridcolor\":\"white\",\"linecolor\":\"white\",\"showbackground\":true,\"ticks\":\"\",\"zerolinecolor\":\"white\",\"gridwidth\":2}},\"shapedefaults\":{\"line\":{\"color\":\"#2a3f5f\"}},\"annotationdefaults\":{\"arrowcolor\":\"#2a3f5f\",\"arrowhead\":0,\"arrowwidth\":1},\"geo\":{\"bgcolor\":\"white\",\"landcolor\":\"#E5ECF6\",\"subunitcolor\":\"white\",\"showland\":true,\"showlakes\":true,\"lakecolor\":\"white\"},\"title\":{\"x\":0.05},\"mapbox\":{\"style\":\"light\"}}},\"xaxis\":{\"anchor\":\"y\",\"domain\":[0.0,1.0],\"title\":{\"text\":\"x1\"}},\"yaxis\":{\"anchor\":\"x\",\"domain\":[0.0,1.0],\"title\":{\"text\":\"x2\"}},\"legend\":{\"tracegroupgap\":0},\"margin\":{\"t\":60},\"height\":400,\"width\":400},                        {\"responsive\": true}                    )                };                            </script>        </div>"
      ],
      "text/plain": [
       "Figure({\n",
       "    'data': [{'hovertemplate': 'x1=%{x}<br>x2=%{y}<extra></extra>',\n",
       "              'legendgroup': '',\n",
       "              'marker': {'color': '#636efa', 'symbol': 'circle'},\n",
       "              'mode': 'markers',\n",
       "              'name': '',\n",
       "              'orientation': 'v',\n",
       "              'showlegend': False,\n",
       "              'type': 'scatter',\n",
       "              'x': array([0. , 0. , 0. , 0.5, 0.5, 0.5, 1. , 1. , 1. ]),\n",
       "              'xaxis': 'x',\n",
       "              'y': array([0. , 0.5, 1. , 0. , 0.5, 1. , 0. , 0.5, 1. ]),\n",
       "              'yaxis': 'y'}],\n",
       "    'layout': {'height': 400,\n",
       "               'legend': {'tracegroupgap': 0},\n",
       "               'margin': {'t': 60},\n",
       "               'template': '...',\n",
       "               'width': 400,\n",
       "               'xaxis': {'anchor': 'y', 'domain': [0.0, 1.0], 'title': {'text': 'x1'}},\n",
       "               'yaxis': {'anchor': 'x', 'domain': [0.0, 1.0], 'title': {'text': 'x2'}}}\n",
       "})"
      ]
     },
     "execution_count": 12,
     "metadata": {},
     "output_type": "execute_result"
    }
   ],
   "source": [
    "grid_fig = px.scatter(grid_samples, x=\"x1\", y=\"x2\", width=400, height=400)\n",
    "grid_fig"
   ]
  },
  {
   "attachments": {},
   "cell_type": "markdown",
   "metadata": {},
   "source": [
    "### Random\n",
    "\n",
    "Random sampling is a simple and straightforward method for generating samples from a\n",
    "search space. It involves randomly selecting points from the space, without any regard\n",
    "for their distribution. This can be an effective method for exploring search spaces, and\n",
    "it is often more effective than grid search. While it doesn't have the large, systematic\n",
    "pockets characteristic of grid search, it has large, occasional gaps due to the random\n",
    "nature of the search."
   ]
  },
  {
   "cell_type": "code",
   "execution_count": 8,
   "metadata": {},
   "outputs": [
    {
     "data": {
      "text/html": [
       "<div>\n",
       "<style scoped>\n",
       "    .dataframe tbody tr th:only-of-type {\n",
       "        vertical-align: middle;\n",
       "    }\n",
       "\n",
       "    .dataframe tbody tr th {\n",
       "        vertical-align: top;\n",
       "    }\n",
       "\n",
       "    .dataframe thead th {\n",
       "        text-align: right;\n",
       "    }\n",
       "</style>\n",
       "<table border=\"1\" class=\"dataframe\">\n",
       "  <thead>\n",
       "    <tr style=\"text-align: right;\">\n",
       "      <th></th>\n",
       "      <th>x1</th>\n",
       "      <th>x2</th>\n",
       "    </tr>\n",
       "  </thead>\n",
       "  <tbody>\n",
       "    <tr>\n",
       "      <th>0</th>\n",
       "      <td>0.636962</td>\n",
       "      <td>0.935072</td>\n",
       "    </tr>\n",
       "    <tr>\n",
       "      <th>1</th>\n",
       "      <td>0.269787</td>\n",
       "      <td>0.815854</td>\n",
       "    </tr>\n",
       "    <tr>\n",
       "      <th>2</th>\n",
       "      <td>0.040974</td>\n",
       "      <td>0.002739</td>\n",
       "    </tr>\n",
       "    <tr>\n",
       "      <th>3</th>\n",
       "      <td>0.016528</td>\n",
       "      <td>0.857404</td>\n",
       "    </tr>\n",
       "    <tr>\n",
       "      <th>4</th>\n",
       "      <td>0.813270</td>\n",
       "      <td>0.033586</td>\n",
       "    </tr>\n",
       "    <tr>\n",
       "      <th>5</th>\n",
       "      <td>0.912756</td>\n",
       "      <td>0.729655</td>\n",
       "    </tr>\n",
       "    <tr>\n",
       "      <th>6</th>\n",
       "      <td>0.606636</td>\n",
       "      <td>0.175656</td>\n",
       "    </tr>\n",
       "    <tr>\n",
       "      <th>7</th>\n",
       "      <td>0.729497</td>\n",
       "      <td>0.863179</td>\n",
       "    </tr>\n",
       "    <tr>\n",
       "      <th>8</th>\n",
       "      <td>0.543625</td>\n",
       "      <td>0.541461</td>\n",
       "    </tr>\n",
       "  </tbody>\n",
       "</table>\n",
       "</div>"
      ],
      "text/plain": [
       "         x1        x2\n",
       "0  0.636962  0.935072\n",
       "1  0.269787  0.815854\n",
       "2  0.040974  0.002739\n",
       "3  0.016528  0.857404\n",
       "4  0.813270  0.033586\n",
       "5  0.912756  0.729655\n",
       "6  0.606636  0.175656\n",
       "7  0.729497  0.863179\n",
       "8  0.543625  0.541461"
      ]
     },
     "execution_count": 8,
     "metadata": {},
     "output_type": "execute_result"
    }
   ],
   "source": [
    "from numpy.random import default_rng\n",
    "\n",
    "def get_random_samples(bounds, num_samples=9, seed=None):\n",
    "    rng = default_rng(seed)\n",
    "    samples = {}\n",
    "    for parameter, bound in bounds.items():\n",
    "        samples[parameter] = rng.uniform(bound[0], bound[1], num_samples)\n",
    "    return pd.DataFrame(samples)\n",
    "\n",
    "random_samples = get_random_samples(bounds, seed=0)\n",
    "random_samples"
   ]
  },
  {
   "cell_type": "code",
   "execution_count": 6,
   "metadata": {},
   "outputs": [
    {
     "data": {
      "application/vnd.plotly.v1+json": {
       "config": {
        "plotlyServerURL": "https://plot.ly"
       },
       "data": [
        {
         "hovertemplate": "x1=%{x}<br>x2=%{y}<extra></extra>",
         "legendgroup": "",
         "marker": {
          "color": "#636efa",
          "symbol": "circle"
         },
         "mode": "markers",
         "name": "",
         "orientation": "v",
         "showlegend": false,
         "type": "scatter",
         "x": [
          0.6369616873214543,
          0.2697867137638703,
          0.04097352393619469,
          0.016527635528529094,
          0.8132702392002724,
          0.9127555772777217,
          0.6066357757671799,
          0.7294965609839984,
          0.5436249914654229
         ],
         "xaxis": "x",
         "y": [
          0.9350724237877682,
          0.8158535541215322,
          0.002738500170148095,
          0.8574042765875693,
          0.033585575305464355,
          0.7296554464299441,
          0.17565562060255901,
          0.8631789223498866,
          0.5414612202490917
         ],
         "yaxis": "y"
        }
       ],
       "layout": {
        "height": 400,
        "legend": {
         "tracegroupgap": 0
        },
        "margin": {
         "t": 60
        },
        "template": {
         "data": {
          "bar": [
           {
            "error_x": {
             "color": "#2a3f5f"
            },
            "error_y": {
             "color": "#2a3f5f"
            },
            "marker": {
             "line": {
              "color": "#E5ECF6",
              "width": 0.5
             },
             "pattern": {
              "fillmode": "overlay",
              "size": 10,
              "solidity": 0.2
             }
            },
            "type": "bar"
           }
          ],
          "barpolar": [
           {
            "marker": {
             "line": {
              "color": "#E5ECF6",
              "width": 0.5
             },
             "pattern": {
              "fillmode": "overlay",
              "size": 10,
              "solidity": 0.2
             }
            },
            "type": "barpolar"
           }
          ],
          "carpet": [
           {
            "aaxis": {
             "endlinecolor": "#2a3f5f",
             "gridcolor": "white",
             "linecolor": "white",
             "minorgridcolor": "white",
             "startlinecolor": "#2a3f5f"
            },
            "baxis": {
             "endlinecolor": "#2a3f5f",
             "gridcolor": "white",
             "linecolor": "white",
             "minorgridcolor": "white",
             "startlinecolor": "#2a3f5f"
            },
            "type": "carpet"
           }
          ],
          "choropleth": [
           {
            "colorbar": {
             "outlinewidth": 0,
             "ticks": ""
            },
            "type": "choropleth"
           }
          ],
          "contour": [
           {
            "colorbar": {
             "outlinewidth": 0,
             "ticks": ""
            },
            "colorscale": [
             [
              0,
              "#0d0887"
             ],
             [
              0.1111111111111111,
              "#46039f"
             ],
             [
              0.2222222222222222,
              "#7201a8"
             ],
             [
              0.3333333333333333,
              "#9c179e"
             ],
             [
              0.4444444444444444,
              "#bd3786"
             ],
             [
              0.5555555555555556,
              "#d8576b"
             ],
             [
              0.6666666666666666,
              "#ed7953"
             ],
             [
              0.7777777777777778,
              "#fb9f3a"
             ],
             [
              0.8888888888888888,
              "#fdca26"
             ],
             [
              1,
              "#f0f921"
             ]
            ],
            "type": "contour"
           }
          ],
          "contourcarpet": [
           {
            "colorbar": {
             "outlinewidth": 0,
             "ticks": ""
            },
            "type": "contourcarpet"
           }
          ],
          "heatmap": [
           {
            "colorbar": {
             "outlinewidth": 0,
             "ticks": ""
            },
            "colorscale": [
             [
              0,
              "#0d0887"
             ],
             [
              0.1111111111111111,
              "#46039f"
             ],
             [
              0.2222222222222222,
              "#7201a8"
             ],
             [
              0.3333333333333333,
              "#9c179e"
             ],
             [
              0.4444444444444444,
              "#bd3786"
             ],
             [
              0.5555555555555556,
              "#d8576b"
             ],
             [
              0.6666666666666666,
              "#ed7953"
             ],
             [
              0.7777777777777778,
              "#fb9f3a"
             ],
             [
              0.8888888888888888,
              "#fdca26"
             ],
             [
              1,
              "#f0f921"
             ]
            ],
            "type": "heatmap"
           }
          ],
          "heatmapgl": [
           {
            "colorbar": {
             "outlinewidth": 0,
             "ticks": ""
            },
            "colorscale": [
             [
              0,
              "#0d0887"
             ],
             [
              0.1111111111111111,
              "#46039f"
             ],
             [
              0.2222222222222222,
              "#7201a8"
             ],
             [
              0.3333333333333333,
              "#9c179e"
             ],
             [
              0.4444444444444444,
              "#bd3786"
             ],
             [
              0.5555555555555556,
              "#d8576b"
             ],
             [
              0.6666666666666666,
              "#ed7953"
             ],
             [
              0.7777777777777778,
              "#fb9f3a"
             ],
             [
              0.8888888888888888,
              "#fdca26"
             ],
             [
              1,
              "#f0f921"
             ]
            ],
            "type": "heatmapgl"
           }
          ],
          "histogram": [
           {
            "marker": {
             "pattern": {
              "fillmode": "overlay",
              "size": 10,
              "solidity": 0.2
             }
            },
            "type": "histogram"
           }
          ],
          "histogram2d": [
           {
            "colorbar": {
             "outlinewidth": 0,
             "ticks": ""
            },
            "colorscale": [
             [
              0,
              "#0d0887"
             ],
             [
              0.1111111111111111,
              "#46039f"
             ],
             [
              0.2222222222222222,
              "#7201a8"
             ],
             [
              0.3333333333333333,
              "#9c179e"
             ],
             [
              0.4444444444444444,
              "#bd3786"
             ],
             [
              0.5555555555555556,
              "#d8576b"
             ],
             [
              0.6666666666666666,
              "#ed7953"
             ],
             [
              0.7777777777777778,
              "#fb9f3a"
             ],
             [
              0.8888888888888888,
              "#fdca26"
             ],
             [
              1,
              "#f0f921"
             ]
            ],
            "type": "histogram2d"
           }
          ],
          "histogram2dcontour": [
           {
            "colorbar": {
             "outlinewidth": 0,
             "ticks": ""
            },
            "colorscale": [
             [
              0,
              "#0d0887"
             ],
             [
              0.1111111111111111,
              "#46039f"
             ],
             [
              0.2222222222222222,
              "#7201a8"
             ],
             [
              0.3333333333333333,
              "#9c179e"
             ],
             [
              0.4444444444444444,
              "#bd3786"
             ],
             [
              0.5555555555555556,
              "#d8576b"
             ],
             [
              0.6666666666666666,
              "#ed7953"
             ],
             [
              0.7777777777777778,
              "#fb9f3a"
             ],
             [
              0.8888888888888888,
              "#fdca26"
             ],
             [
              1,
              "#f0f921"
             ]
            ],
            "type": "histogram2dcontour"
           }
          ],
          "mesh3d": [
           {
            "colorbar": {
             "outlinewidth": 0,
             "ticks": ""
            },
            "type": "mesh3d"
           }
          ],
          "parcoords": [
           {
            "line": {
             "colorbar": {
              "outlinewidth": 0,
              "ticks": ""
             }
            },
            "type": "parcoords"
           }
          ],
          "pie": [
           {
            "automargin": true,
            "type": "pie"
           }
          ],
          "scatter": [
           {
            "fillpattern": {
             "fillmode": "overlay",
             "size": 10,
             "solidity": 0.2
            },
            "type": "scatter"
           }
          ],
          "scatter3d": [
           {
            "line": {
             "colorbar": {
              "outlinewidth": 0,
              "ticks": ""
             }
            },
            "marker": {
             "colorbar": {
              "outlinewidth": 0,
              "ticks": ""
             }
            },
            "type": "scatter3d"
           }
          ],
          "scattercarpet": [
           {
            "marker": {
             "colorbar": {
              "outlinewidth": 0,
              "ticks": ""
             }
            },
            "type": "scattercarpet"
           }
          ],
          "scattergeo": [
           {
            "marker": {
             "colorbar": {
              "outlinewidth": 0,
              "ticks": ""
             }
            },
            "type": "scattergeo"
           }
          ],
          "scattergl": [
           {
            "marker": {
             "colorbar": {
              "outlinewidth": 0,
              "ticks": ""
             }
            },
            "type": "scattergl"
           }
          ],
          "scattermapbox": [
           {
            "marker": {
             "colorbar": {
              "outlinewidth": 0,
              "ticks": ""
             }
            },
            "type": "scattermapbox"
           }
          ],
          "scatterpolar": [
           {
            "marker": {
             "colorbar": {
              "outlinewidth": 0,
              "ticks": ""
             }
            },
            "type": "scatterpolar"
           }
          ],
          "scatterpolargl": [
           {
            "marker": {
             "colorbar": {
              "outlinewidth": 0,
              "ticks": ""
             }
            },
            "type": "scatterpolargl"
           }
          ],
          "scatterternary": [
           {
            "marker": {
             "colorbar": {
              "outlinewidth": 0,
              "ticks": ""
             }
            },
            "type": "scatterternary"
           }
          ],
          "surface": [
           {
            "colorbar": {
             "outlinewidth": 0,
             "ticks": ""
            },
            "colorscale": [
             [
              0,
              "#0d0887"
             ],
             [
              0.1111111111111111,
              "#46039f"
             ],
             [
              0.2222222222222222,
              "#7201a8"
             ],
             [
              0.3333333333333333,
              "#9c179e"
             ],
             [
              0.4444444444444444,
              "#bd3786"
             ],
             [
              0.5555555555555556,
              "#d8576b"
             ],
             [
              0.6666666666666666,
              "#ed7953"
             ],
             [
              0.7777777777777778,
              "#fb9f3a"
             ],
             [
              0.8888888888888888,
              "#fdca26"
             ],
             [
              1,
              "#f0f921"
             ]
            ],
            "type": "surface"
           }
          ],
          "table": [
           {
            "cells": {
             "fill": {
              "color": "#EBF0F8"
             },
             "line": {
              "color": "white"
             }
            },
            "header": {
             "fill": {
              "color": "#C8D4E3"
             },
             "line": {
              "color": "white"
             }
            },
            "type": "table"
           }
          ]
         },
         "layout": {
          "annotationdefaults": {
           "arrowcolor": "#2a3f5f",
           "arrowhead": 0,
           "arrowwidth": 1
          },
          "autotypenumbers": "strict",
          "coloraxis": {
           "colorbar": {
            "outlinewidth": 0,
            "ticks": ""
           }
          },
          "colorscale": {
           "diverging": [
            [
             0,
             "#8e0152"
            ],
            [
             0.1,
             "#c51b7d"
            ],
            [
             0.2,
             "#de77ae"
            ],
            [
             0.3,
             "#f1b6da"
            ],
            [
             0.4,
             "#fde0ef"
            ],
            [
             0.5,
             "#f7f7f7"
            ],
            [
             0.6,
             "#e6f5d0"
            ],
            [
             0.7,
             "#b8e186"
            ],
            [
             0.8,
             "#7fbc41"
            ],
            [
             0.9,
             "#4d9221"
            ],
            [
             1,
             "#276419"
            ]
           ],
           "sequential": [
            [
             0,
             "#0d0887"
            ],
            [
             0.1111111111111111,
             "#46039f"
            ],
            [
             0.2222222222222222,
             "#7201a8"
            ],
            [
             0.3333333333333333,
             "#9c179e"
            ],
            [
             0.4444444444444444,
             "#bd3786"
            ],
            [
             0.5555555555555556,
             "#d8576b"
            ],
            [
             0.6666666666666666,
             "#ed7953"
            ],
            [
             0.7777777777777778,
             "#fb9f3a"
            ],
            [
             0.8888888888888888,
             "#fdca26"
            ],
            [
             1,
             "#f0f921"
            ]
           ],
           "sequentialminus": [
            [
             0,
             "#0d0887"
            ],
            [
             0.1111111111111111,
             "#46039f"
            ],
            [
             0.2222222222222222,
             "#7201a8"
            ],
            [
             0.3333333333333333,
             "#9c179e"
            ],
            [
             0.4444444444444444,
             "#bd3786"
            ],
            [
             0.5555555555555556,
             "#d8576b"
            ],
            [
             0.6666666666666666,
             "#ed7953"
            ],
            [
             0.7777777777777778,
             "#fb9f3a"
            ],
            [
             0.8888888888888888,
             "#fdca26"
            ],
            [
             1,
             "#f0f921"
            ]
           ]
          },
          "colorway": [
           "#636efa",
           "#EF553B",
           "#00cc96",
           "#ab63fa",
           "#FFA15A",
           "#19d3f3",
           "#FF6692",
           "#B6E880",
           "#FF97FF",
           "#FECB52"
          ],
          "font": {
           "color": "#2a3f5f"
          },
          "geo": {
           "bgcolor": "white",
           "lakecolor": "white",
           "landcolor": "#E5ECF6",
           "showlakes": true,
           "showland": true,
           "subunitcolor": "white"
          },
          "hoverlabel": {
           "align": "left"
          },
          "hovermode": "closest",
          "mapbox": {
           "style": "light"
          },
          "paper_bgcolor": "white",
          "plot_bgcolor": "#E5ECF6",
          "polar": {
           "angularaxis": {
            "gridcolor": "white",
            "linecolor": "white",
            "ticks": ""
           },
           "bgcolor": "#E5ECF6",
           "radialaxis": {
            "gridcolor": "white",
            "linecolor": "white",
            "ticks": ""
           }
          },
          "scene": {
           "xaxis": {
            "backgroundcolor": "#E5ECF6",
            "gridcolor": "white",
            "gridwidth": 2,
            "linecolor": "white",
            "showbackground": true,
            "ticks": "",
            "zerolinecolor": "white"
           },
           "yaxis": {
            "backgroundcolor": "#E5ECF6",
            "gridcolor": "white",
            "gridwidth": 2,
            "linecolor": "white",
            "showbackground": true,
            "ticks": "",
            "zerolinecolor": "white"
           },
           "zaxis": {
            "backgroundcolor": "#E5ECF6",
            "gridcolor": "white",
            "gridwidth": 2,
            "linecolor": "white",
            "showbackground": true,
            "ticks": "",
            "zerolinecolor": "white"
           }
          },
          "shapedefaults": {
           "line": {
            "color": "#2a3f5f"
           }
          },
          "ternary": {
           "aaxis": {
            "gridcolor": "white",
            "linecolor": "white",
            "ticks": ""
           },
           "baxis": {
            "gridcolor": "white",
            "linecolor": "white",
            "ticks": ""
           },
           "bgcolor": "#E5ECF6",
           "caxis": {
            "gridcolor": "white",
            "linecolor": "white",
            "ticks": ""
           }
          },
          "title": {
           "x": 0.05
          },
          "xaxis": {
           "automargin": true,
           "gridcolor": "white",
           "linecolor": "white",
           "ticks": "",
           "title": {
            "standoff": 15
           },
           "zerolinecolor": "white",
           "zerolinewidth": 2
          },
          "yaxis": {
           "automargin": true,
           "gridcolor": "white",
           "linecolor": "white",
           "ticks": "",
           "title": {
            "standoff": 15
           },
           "zerolinecolor": "white",
           "zerolinewidth": 2
          }
         }
        },
        "width": 400,
        "xaxis": {
         "anchor": "y",
         "domain": [
          0,
          1
         ],
         "title": {
          "text": "x1"
         }
        },
        "yaxis": {
         "anchor": "x",
         "domain": [
          0,
          1
         ],
         "title": {
          "text": "x2"
         }
        }
       }
      }
     },
     "metadata": {},
     "output_type": "display_data"
    }
   ],
   "source": [
    "random_fig = px.scatter(random_samples, x=\"x1\", y=\"x2\", width=400, height=400)\n",
    "random_fig"
   ]
  },
  {
   "attachments": {},
   "cell_type": "markdown",
   "metadata": {},
   "source": [
    "## Quasi-Random\n",
    "\n",
    "Quasi-random sampling methods, also known as low-discrepancy or deterministic sampling methods, are a family of sampling techniques that are designed to\n",
    "produce samples that are more evenly distributed than random samples. Unlike random\n",
    "sampling, which selects points randomly and independently, quasi-random sampling methods\n",
    "aim to achieve a more uniform coverage of the parameter space by reducing the\n",
    "**discrepancy** between the generated points and the desired distribution.\n",
    "\n",
    "We'll discuss two common quasi-random sampling methods: Latin hypercube and\n",
    "Sobol sequences."
   ]
  },
  {
   "attachments": {},
   "cell_type": "markdown",
   "metadata": {},
   "source": [
    "### Latin Hypercube\n",
    "\n",
    "Latin hypercube sampling (LHS) is a variation of grid sampling that aims to improve the\n",
    "uniformity of the samples. It does this by ensuring that each dimension of the search\n",
    "space is represented equally in the sample set. It involves dividing the parameter space\n",
    "into equally spaced intervals and randomly selecting one point within each interval. LHS\n",
    "ensures a more even coverage of the parameter space compared to random or grid sampling\n",
    "methods (i.e., lower discrepancy)."
   ]
  },
  {
   "cell_type": "code",
   "execution_count": 7,
   "metadata": {},
   "outputs": [
    {
     "data": {
      "text/html": [
       "<div>\n",
       "<style scoped>\n",
       "    .dataframe tbody tr th:only-of-type {\n",
       "        vertical-align: middle;\n",
       "    }\n",
       "\n",
       "    .dataframe tbody tr th {\n",
       "        vertical-align: top;\n",
       "    }\n",
       "\n",
       "    .dataframe thead th {\n",
       "        text-align: right;\n",
       "    }\n",
       "</style>\n",
       "<table border=\"1\" class=\"dataframe\">\n",
       "  <thead>\n",
       "    <tr style=\"text-align: right;\">\n",
       "      <th></th>\n",
       "      <th>x1</th>\n",
       "      <th>x2</th>\n",
       "    </tr>\n",
       "  </thead>\n",
       "  <tbody>\n",
       "    <tr>\n",
       "      <th>0</th>\n",
       "      <td>0.245638</td>\n",
       "      <td>0.173021</td>\n",
       "    </tr>\n",
       "    <tr>\n",
       "      <th>1</th>\n",
       "      <td>0.436304</td>\n",
       "      <td>0.298347</td>\n",
       "    </tr>\n",
       "    <tr>\n",
       "      <th>2</th>\n",
       "      <td>0.927034</td>\n",
       "      <td>0.708724</td>\n",
       "    </tr>\n",
       "    <tr>\n",
       "      <th>3</th>\n",
       "      <td>0.114260</td>\n",
       "      <td>0.827050</td>\n",
       "    </tr>\n",
       "    <tr>\n",
       "      <th>4</th>\n",
       "      <td>0.718673</td>\n",
       "      <td>0.006493</td>\n",
       "    </tr>\n",
       "    <tr>\n",
       "      <th>5</th>\n",
       "      <td>0.013682</td>\n",
       "      <td>0.499726</td>\n",
       "    </tr>\n",
       "    <tr>\n",
       "      <th>6</th>\n",
       "      <td>0.595903</td>\n",
       "      <td>0.996641</td>\n",
       "    </tr>\n",
       "    <tr>\n",
       "      <th>7</th>\n",
       "      <td>0.639336</td>\n",
       "      <td>0.582434</td>\n",
       "    </tr>\n",
       "    <tr>\n",
       "      <th>8</th>\n",
       "      <td>0.318415</td>\n",
       "      <td>0.645854</td>\n",
       "    </tr>\n",
       "    <tr>\n",
       "      <th>9</th>\n",
       "      <td>0.870029</td>\n",
       "      <td>0.357731</td>\n",
       "    </tr>\n",
       "  </tbody>\n",
       "</table>\n",
       "</div>"
      ],
      "text/plain": [
       "         x1        x2\n",
       "0  0.245638  0.173021\n",
       "1  0.436304  0.298347\n",
       "2  0.927034  0.708724\n",
       "3  0.114260  0.827050\n",
       "4  0.718673  0.006493\n",
       "5  0.013682  0.499726\n",
       "6  0.595903  0.996641\n",
       "7  0.639336  0.582434\n",
       "8  0.318415  0.645854\n",
       "9  0.870029  0.357731"
      ]
     },
     "execution_count": 7,
     "metadata": {},
     "output_type": "execute_result"
    }
   ],
   "source": [
    "def get_latin_hypercube_samples(bounds, num_samples=10, seed=None):\n",
    "    sampler = qmc.LatinHypercube(d=len(bounds), optimization=\"random-cd\", seed=seed)\n",
    "    samples = sampler.random(num_samples)\n",
    "    l_bounds = [bound[0] for bound in bounds.values()]\n",
    "    u_bounds = [bound[1] for bound in bounds.values()]\n",
    "    samples = qmc.scale(samples, l_bounds, u_bounds)\n",
    "    return pd.DataFrame(samples, columns=list(bounds.keys()))\n",
    "\n",
    "latin_hypercube_samples = get_latin_hypercube_samples(bounds, seed=0)\n",
    "latin_hypercube_samples"
   ]
  },
  {
   "cell_type": "code",
   "execution_count": 8,
   "metadata": {},
   "outputs": [
    {
     "data": {
      "application/vnd.plotly.v1+json": {
       "config": {
        "plotlyServerURL": "https://plot.ly"
       },
       "data": [
        {
         "hovertemplate": "x1=%{x}<br>x2=%{y}<extra></extra>",
         "legendgroup": "",
         "marker": {
          "color": "#636efa",
          "symbol": "circle"
         },
         "mode": "markers",
         "name": "",
         "orientation": "v",
         "showlegend": false,
         "type": "scatter",
         "x": [
          0.2456375008534577,
          0.43630383126785455,
          0.9270344553570056,
          0.11425957234124307,
          0.7186729760799728,
          0.013682107765011341,
          0.5959026476063805,
          0.639336422423282,
          0.31841464458784674,
          0.8700288109462615
         ],
         "xaxis": "x",
         "y": [
          0.17302132862361297,
          0.29834723644714706,
          0.7087244422722279,
          0.8270503439016001,
          0.006492757621223177,
          0.4997261499829852,
          0.9966414424694536,
          0.5824344379397441,
          0.6458538779750909,
          0.3577312778802342
         ],
         "yaxis": "y"
        }
       ],
       "layout": {
        "height": 400,
        "legend": {
         "tracegroupgap": 0
        },
        "margin": {
         "t": 60
        },
        "template": {
         "data": {
          "bar": [
           {
            "error_x": {
             "color": "#2a3f5f"
            },
            "error_y": {
             "color": "#2a3f5f"
            },
            "marker": {
             "line": {
              "color": "#E5ECF6",
              "width": 0.5
             },
             "pattern": {
              "fillmode": "overlay",
              "size": 10,
              "solidity": 0.2
             }
            },
            "type": "bar"
           }
          ],
          "barpolar": [
           {
            "marker": {
             "line": {
              "color": "#E5ECF6",
              "width": 0.5
             },
             "pattern": {
              "fillmode": "overlay",
              "size": 10,
              "solidity": 0.2
             }
            },
            "type": "barpolar"
           }
          ],
          "carpet": [
           {
            "aaxis": {
             "endlinecolor": "#2a3f5f",
             "gridcolor": "white",
             "linecolor": "white",
             "minorgridcolor": "white",
             "startlinecolor": "#2a3f5f"
            },
            "baxis": {
             "endlinecolor": "#2a3f5f",
             "gridcolor": "white",
             "linecolor": "white",
             "minorgridcolor": "white",
             "startlinecolor": "#2a3f5f"
            },
            "type": "carpet"
           }
          ],
          "choropleth": [
           {
            "colorbar": {
             "outlinewidth": 0,
             "ticks": ""
            },
            "type": "choropleth"
           }
          ],
          "contour": [
           {
            "colorbar": {
             "outlinewidth": 0,
             "ticks": ""
            },
            "colorscale": [
             [
              0,
              "#0d0887"
             ],
             [
              0.1111111111111111,
              "#46039f"
             ],
             [
              0.2222222222222222,
              "#7201a8"
             ],
             [
              0.3333333333333333,
              "#9c179e"
             ],
             [
              0.4444444444444444,
              "#bd3786"
             ],
             [
              0.5555555555555556,
              "#d8576b"
             ],
             [
              0.6666666666666666,
              "#ed7953"
             ],
             [
              0.7777777777777778,
              "#fb9f3a"
             ],
             [
              0.8888888888888888,
              "#fdca26"
             ],
             [
              1,
              "#f0f921"
             ]
            ],
            "type": "contour"
           }
          ],
          "contourcarpet": [
           {
            "colorbar": {
             "outlinewidth": 0,
             "ticks": ""
            },
            "type": "contourcarpet"
           }
          ],
          "heatmap": [
           {
            "colorbar": {
             "outlinewidth": 0,
             "ticks": ""
            },
            "colorscale": [
             [
              0,
              "#0d0887"
             ],
             [
              0.1111111111111111,
              "#46039f"
             ],
             [
              0.2222222222222222,
              "#7201a8"
             ],
             [
              0.3333333333333333,
              "#9c179e"
             ],
             [
              0.4444444444444444,
              "#bd3786"
             ],
             [
              0.5555555555555556,
              "#d8576b"
             ],
             [
              0.6666666666666666,
              "#ed7953"
             ],
             [
              0.7777777777777778,
              "#fb9f3a"
             ],
             [
              0.8888888888888888,
              "#fdca26"
             ],
             [
              1,
              "#f0f921"
             ]
            ],
            "type": "heatmap"
           }
          ],
          "heatmapgl": [
           {
            "colorbar": {
             "outlinewidth": 0,
             "ticks": ""
            },
            "colorscale": [
             [
              0,
              "#0d0887"
             ],
             [
              0.1111111111111111,
              "#46039f"
             ],
             [
              0.2222222222222222,
              "#7201a8"
             ],
             [
              0.3333333333333333,
              "#9c179e"
             ],
             [
              0.4444444444444444,
              "#bd3786"
             ],
             [
              0.5555555555555556,
              "#d8576b"
             ],
             [
              0.6666666666666666,
              "#ed7953"
             ],
             [
              0.7777777777777778,
              "#fb9f3a"
             ],
             [
              0.8888888888888888,
              "#fdca26"
             ],
             [
              1,
              "#f0f921"
             ]
            ],
            "type": "heatmapgl"
           }
          ],
          "histogram": [
           {
            "marker": {
             "pattern": {
              "fillmode": "overlay",
              "size": 10,
              "solidity": 0.2
             }
            },
            "type": "histogram"
           }
          ],
          "histogram2d": [
           {
            "colorbar": {
             "outlinewidth": 0,
             "ticks": ""
            },
            "colorscale": [
             [
              0,
              "#0d0887"
             ],
             [
              0.1111111111111111,
              "#46039f"
             ],
             [
              0.2222222222222222,
              "#7201a8"
             ],
             [
              0.3333333333333333,
              "#9c179e"
             ],
             [
              0.4444444444444444,
              "#bd3786"
             ],
             [
              0.5555555555555556,
              "#d8576b"
             ],
             [
              0.6666666666666666,
              "#ed7953"
             ],
             [
              0.7777777777777778,
              "#fb9f3a"
             ],
             [
              0.8888888888888888,
              "#fdca26"
             ],
             [
              1,
              "#f0f921"
             ]
            ],
            "type": "histogram2d"
           }
          ],
          "histogram2dcontour": [
           {
            "colorbar": {
             "outlinewidth": 0,
             "ticks": ""
            },
            "colorscale": [
             [
              0,
              "#0d0887"
             ],
             [
              0.1111111111111111,
              "#46039f"
             ],
             [
              0.2222222222222222,
              "#7201a8"
             ],
             [
              0.3333333333333333,
              "#9c179e"
             ],
             [
              0.4444444444444444,
              "#bd3786"
             ],
             [
              0.5555555555555556,
              "#d8576b"
             ],
             [
              0.6666666666666666,
              "#ed7953"
             ],
             [
              0.7777777777777778,
              "#fb9f3a"
             ],
             [
              0.8888888888888888,
              "#fdca26"
             ],
             [
              1,
              "#f0f921"
             ]
            ],
            "type": "histogram2dcontour"
           }
          ],
          "mesh3d": [
           {
            "colorbar": {
             "outlinewidth": 0,
             "ticks": ""
            },
            "type": "mesh3d"
           }
          ],
          "parcoords": [
           {
            "line": {
             "colorbar": {
              "outlinewidth": 0,
              "ticks": ""
             }
            },
            "type": "parcoords"
           }
          ],
          "pie": [
           {
            "automargin": true,
            "type": "pie"
           }
          ],
          "scatter": [
           {
            "fillpattern": {
             "fillmode": "overlay",
             "size": 10,
             "solidity": 0.2
            },
            "type": "scatter"
           }
          ],
          "scatter3d": [
           {
            "line": {
             "colorbar": {
              "outlinewidth": 0,
              "ticks": ""
             }
            },
            "marker": {
             "colorbar": {
              "outlinewidth": 0,
              "ticks": ""
             }
            },
            "type": "scatter3d"
           }
          ],
          "scattercarpet": [
           {
            "marker": {
             "colorbar": {
              "outlinewidth": 0,
              "ticks": ""
             }
            },
            "type": "scattercarpet"
           }
          ],
          "scattergeo": [
           {
            "marker": {
             "colorbar": {
              "outlinewidth": 0,
              "ticks": ""
             }
            },
            "type": "scattergeo"
           }
          ],
          "scattergl": [
           {
            "marker": {
             "colorbar": {
              "outlinewidth": 0,
              "ticks": ""
             }
            },
            "type": "scattergl"
           }
          ],
          "scattermapbox": [
           {
            "marker": {
             "colorbar": {
              "outlinewidth": 0,
              "ticks": ""
             }
            },
            "type": "scattermapbox"
           }
          ],
          "scatterpolar": [
           {
            "marker": {
             "colorbar": {
              "outlinewidth": 0,
              "ticks": ""
             }
            },
            "type": "scatterpolar"
           }
          ],
          "scatterpolargl": [
           {
            "marker": {
             "colorbar": {
              "outlinewidth": 0,
              "ticks": ""
             }
            },
            "type": "scatterpolargl"
           }
          ],
          "scatterternary": [
           {
            "marker": {
             "colorbar": {
              "outlinewidth": 0,
              "ticks": ""
             }
            },
            "type": "scatterternary"
           }
          ],
          "surface": [
           {
            "colorbar": {
             "outlinewidth": 0,
             "ticks": ""
            },
            "colorscale": [
             [
              0,
              "#0d0887"
             ],
             [
              0.1111111111111111,
              "#46039f"
             ],
             [
              0.2222222222222222,
              "#7201a8"
             ],
             [
              0.3333333333333333,
              "#9c179e"
             ],
             [
              0.4444444444444444,
              "#bd3786"
             ],
             [
              0.5555555555555556,
              "#d8576b"
             ],
             [
              0.6666666666666666,
              "#ed7953"
             ],
             [
              0.7777777777777778,
              "#fb9f3a"
             ],
             [
              0.8888888888888888,
              "#fdca26"
             ],
             [
              1,
              "#f0f921"
             ]
            ],
            "type": "surface"
           }
          ],
          "table": [
           {
            "cells": {
             "fill": {
              "color": "#EBF0F8"
             },
             "line": {
              "color": "white"
             }
            },
            "header": {
             "fill": {
              "color": "#C8D4E3"
             },
             "line": {
              "color": "white"
             }
            },
            "type": "table"
           }
          ]
         },
         "layout": {
          "annotationdefaults": {
           "arrowcolor": "#2a3f5f",
           "arrowhead": 0,
           "arrowwidth": 1
          },
          "autotypenumbers": "strict",
          "coloraxis": {
           "colorbar": {
            "outlinewidth": 0,
            "ticks": ""
           }
          },
          "colorscale": {
           "diverging": [
            [
             0,
             "#8e0152"
            ],
            [
             0.1,
             "#c51b7d"
            ],
            [
             0.2,
             "#de77ae"
            ],
            [
             0.3,
             "#f1b6da"
            ],
            [
             0.4,
             "#fde0ef"
            ],
            [
             0.5,
             "#f7f7f7"
            ],
            [
             0.6,
             "#e6f5d0"
            ],
            [
             0.7,
             "#b8e186"
            ],
            [
             0.8,
             "#7fbc41"
            ],
            [
             0.9,
             "#4d9221"
            ],
            [
             1,
             "#276419"
            ]
           ],
           "sequential": [
            [
             0,
             "#0d0887"
            ],
            [
             0.1111111111111111,
             "#46039f"
            ],
            [
             0.2222222222222222,
             "#7201a8"
            ],
            [
             0.3333333333333333,
             "#9c179e"
            ],
            [
             0.4444444444444444,
             "#bd3786"
            ],
            [
             0.5555555555555556,
             "#d8576b"
            ],
            [
             0.6666666666666666,
             "#ed7953"
            ],
            [
             0.7777777777777778,
             "#fb9f3a"
            ],
            [
             0.8888888888888888,
             "#fdca26"
            ],
            [
             1,
             "#f0f921"
            ]
           ],
           "sequentialminus": [
            [
             0,
             "#0d0887"
            ],
            [
             0.1111111111111111,
             "#46039f"
            ],
            [
             0.2222222222222222,
             "#7201a8"
            ],
            [
             0.3333333333333333,
             "#9c179e"
            ],
            [
             0.4444444444444444,
             "#bd3786"
            ],
            [
             0.5555555555555556,
             "#d8576b"
            ],
            [
             0.6666666666666666,
             "#ed7953"
            ],
            [
             0.7777777777777778,
             "#fb9f3a"
            ],
            [
             0.8888888888888888,
             "#fdca26"
            ],
            [
             1,
             "#f0f921"
            ]
           ]
          },
          "colorway": [
           "#636efa",
           "#EF553B",
           "#00cc96",
           "#ab63fa",
           "#FFA15A",
           "#19d3f3",
           "#FF6692",
           "#B6E880",
           "#FF97FF",
           "#FECB52"
          ],
          "font": {
           "color": "#2a3f5f"
          },
          "geo": {
           "bgcolor": "white",
           "lakecolor": "white",
           "landcolor": "#E5ECF6",
           "showlakes": true,
           "showland": true,
           "subunitcolor": "white"
          },
          "hoverlabel": {
           "align": "left"
          },
          "hovermode": "closest",
          "mapbox": {
           "style": "light"
          },
          "paper_bgcolor": "white",
          "plot_bgcolor": "#E5ECF6",
          "polar": {
           "angularaxis": {
            "gridcolor": "white",
            "linecolor": "white",
            "ticks": ""
           },
           "bgcolor": "#E5ECF6",
           "radialaxis": {
            "gridcolor": "white",
            "linecolor": "white",
            "ticks": ""
           }
          },
          "scene": {
           "xaxis": {
            "backgroundcolor": "#E5ECF6",
            "gridcolor": "white",
            "gridwidth": 2,
            "linecolor": "white",
            "showbackground": true,
            "ticks": "",
            "zerolinecolor": "white"
           },
           "yaxis": {
            "backgroundcolor": "#E5ECF6",
            "gridcolor": "white",
            "gridwidth": 2,
            "linecolor": "white",
            "showbackground": true,
            "ticks": "",
            "zerolinecolor": "white"
           },
           "zaxis": {
            "backgroundcolor": "#E5ECF6",
            "gridcolor": "white",
            "gridwidth": 2,
            "linecolor": "white",
            "showbackground": true,
            "ticks": "",
            "zerolinecolor": "white"
           }
          },
          "shapedefaults": {
           "line": {
            "color": "#2a3f5f"
           }
          },
          "ternary": {
           "aaxis": {
            "gridcolor": "white",
            "linecolor": "white",
            "ticks": ""
           },
           "baxis": {
            "gridcolor": "white",
            "linecolor": "white",
            "ticks": ""
           },
           "bgcolor": "#E5ECF6",
           "caxis": {
            "gridcolor": "white",
            "linecolor": "white",
            "ticks": ""
           }
          },
          "title": {
           "x": 0.05
          },
          "xaxis": {
           "automargin": true,
           "gridcolor": "white",
           "linecolor": "white",
           "ticks": "",
           "title": {
            "standoff": 15
           },
           "zerolinecolor": "white",
           "zerolinewidth": 2
          },
          "yaxis": {
           "automargin": true,
           "gridcolor": "white",
           "linecolor": "white",
           "ticks": "",
           "title": {
            "standoff": 15
           },
           "zerolinecolor": "white",
           "zerolinewidth": 2
          }
         }
        },
        "width": 400,
        "xaxis": {
         "anchor": "y",
         "domain": [
          0,
          1
         ],
         "title": {
          "text": "x1"
         }
        },
        "yaxis": {
         "anchor": "x",
         "domain": [
          0,
          1
         ],
         "title": {
          "text": "x2"
         }
        }
       }
      }
     },
     "metadata": {},
     "output_type": "display_data"
    }
   ],
   "source": [
    "latin_hypercube_fig = px.scatter(\n",
    "    latin_hypercube_samples, x=\"x1\", y=\"x2\", width=400, height=400\n",
    ")\n",
    "latin_hypercube_fig\n"
   ]
  },
  {
   "attachments": {},
   "cell_type": "markdown",
   "metadata": {},
   "source": [
    "### Comparison between sampling methods\n",
    "\n",
    "The quasi-random methods tend to have better space-filling properties than random or\n",
    "grid search. Note the large systematic gaps in grid, the large occasional gaps in\n",
    "random, and the more even distribution of points in LHS and Sobol."
   ]
  },
  {
   "cell_type": "code",
   "execution_count": 11,
   "metadata": {},
   "outputs": [
    {
     "name": "stdout",
     "output_type": "stream",
     "text": [
      "10\n",
      "7\n",
      "3\n",
      "2\n"
     ]
    },
    {
     "name": "stderr",
     "output_type": "stream",
     "text": [
      "C:\\Users\\sterg\\AppData\\Local\\Temp\\ipykernel_29488\\2746881076.py:5: UserWarning:\n",
      "\n",
      "The balance properties of Sobol' points require n to be a power of 2.\n",
      "\n",
      "C:\\Users\\sterg\\AppData\\Local\\Temp\\ipykernel_29488\\2746881076.py:5: UserWarning:\n",
      "\n",
      "The balance properties of Sobol' points require n to be a power of 2.\n",
      "\n",
      "C:\\Users\\sterg\\AppData\\Local\\Temp\\ipykernel_29488\\2746881076.py:5: UserWarning:\n",
      "\n",
      "The balance properties of Sobol' points require n to be a power of 2.\n",
      "\n",
      "C:\\Users\\sterg\\AppData\\Local\\Temp\\ipykernel_29488\\2746881076.py:5: UserWarning:\n",
      "\n",
      "The balance properties of Sobol' points require n to be a power of 2.\n",
      "\n"
     ]
    }
   ],
   "source": [
    "sampling_fns = dict(\n",
    "    grid=get_grid_samples,\n",
    "    random=get_random_samples,\n",
    "    latin_hypercube=get_latin_hypercube_samples,\n",
    "    sobol=get_sobol_samples,\n",
    ")\n",
    "\n",
    "sample_nums = [5, 10, 50, 100]\n",
    "sample_nums.reverse()\n",
    "        \n",
    "sample_dfs = []\n",
    "for name, sampling_fn in sampling_fns.items():\n",
    "    for num_samples in sample_nums:\n",
    "        sample_df = sampling_fn(bounds, num_samples)\n",
    "        sample_df[\"name\"] = name\n",
    "        sample_df[\"num_samples\"] = num_samples\n",
    "        sample_dfs.append(sample_df)\n",
    "\n",
    "compare_df = pd.concat(sample_dfs, axis=0)"
   ]
  },
  {
   "cell_type": "code",
   "execution_count": 12,
   "metadata": {},
   "outputs": [
    {
     "data": {
      "text/html": [
       "<div>\n",
       "<style scoped>\n",
       "    .dataframe tbody tr th:only-of-type {\n",
       "        vertical-align: middle;\n",
       "    }\n",
       "\n",
       "    .dataframe tbody tr th {\n",
       "        vertical-align: top;\n",
       "    }\n",
       "\n",
       "    .dataframe thead th {\n",
       "        text-align: right;\n",
       "    }\n",
       "</style>\n",
       "<table border=\"1\" class=\"dataframe\">\n",
       "  <thead>\n",
       "    <tr style=\"text-align: right;\">\n",
       "      <th></th>\n",
       "      <th>x1</th>\n",
       "      <th>x2</th>\n",
       "      <th>name</th>\n",
       "      <th>num_samples</th>\n",
       "    </tr>\n",
       "  </thead>\n",
       "  <tbody>\n",
       "    <tr>\n",
       "      <th>0</th>\n",
       "      <td>0.000000</td>\n",
       "      <td>0.000000</td>\n",
       "      <td>grid</td>\n",
       "      <td>100</td>\n",
       "    </tr>\n",
       "    <tr>\n",
       "      <th>1</th>\n",
       "      <td>0.000000</td>\n",
       "      <td>0.111111</td>\n",
       "      <td>grid</td>\n",
       "      <td>100</td>\n",
       "    </tr>\n",
       "    <tr>\n",
       "      <th>2</th>\n",
       "      <td>0.000000</td>\n",
       "      <td>0.222222</td>\n",
       "      <td>grid</td>\n",
       "      <td>100</td>\n",
       "    </tr>\n",
       "    <tr>\n",
       "      <th>3</th>\n",
       "      <td>0.000000</td>\n",
       "      <td>0.333333</td>\n",
       "      <td>grid</td>\n",
       "      <td>100</td>\n",
       "    </tr>\n",
       "    <tr>\n",
       "      <th>4</th>\n",
       "      <td>0.000000</td>\n",
       "      <td>0.444444</td>\n",
       "      <td>grid</td>\n",
       "      <td>100</td>\n",
       "    </tr>\n",
       "    <tr>\n",
       "      <th>...</th>\n",
       "      <td>...</td>\n",
       "      <td>...</td>\n",
       "      <td>...</td>\n",
       "      <td>...</td>\n",
       "    </tr>\n",
       "    <tr>\n",
       "      <th>0</th>\n",
       "      <td>0.924471</td>\n",
       "      <td>0.379841</td>\n",
       "      <td>sobol</td>\n",
       "      <td>5</td>\n",
       "    </tr>\n",
       "    <tr>\n",
       "      <th>1</th>\n",
       "      <td>0.321745</td>\n",
       "      <td>0.816658</td>\n",
       "      <td>sobol</td>\n",
       "      <td>5</td>\n",
       "    </tr>\n",
       "    <tr>\n",
       "      <th>2</th>\n",
       "      <td>0.119724</td>\n",
       "      <td>0.066057</td>\n",
       "      <td>sobol</td>\n",
       "      <td>5</td>\n",
       "    </tr>\n",
       "    <tr>\n",
       "      <th>3</th>\n",
       "      <td>0.626250</td>\n",
       "      <td>0.628000</td>\n",
       "      <td>sobol</td>\n",
       "      <td>5</td>\n",
       "    </tr>\n",
       "    <tr>\n",
       "      <th>4</th>\n",
       "      <td>0.557449</td>\n",
       "      <td>0.146910</td>\n",
       "      <td>sobol</td>\n",
       "      <td>5</td>\n",
       "    </tr>\n",
       "  </tbody>\n",
       "</table>\n",
       "<p>657 rows × 4 columns</p>\n",
       "</div>"
      ],
      "text/plain": [
       "          x1        x2   name  num_samples\n",
       "0   0.000000  0.000000   grid          100\n",
       "1   0.000000  0.111111   grid          100\n",
       "2   0.000000  0.222222   grid          100\n",
       "3   0.000000  0.333333   grid          100\n",
       "4   0.000000  0.444444   grid          100\n",
       "..       ...       ...    ...          ...\n",
       "0   0.924471  0.379841  sobol            5\n",
       "1   0.321745  0.816658  sobol            5\n",
       "2   0.119724  0.066057  sobol            5\n",
       "3   0.626250  0.628000  sobol            5\n",
       "4   0.557449  0.146910  sobol            5\n",
       "\n",
       "[657 rows x 4 columns]"
      ]
     },
     "execution_count": 12,
     "metadata": {},
     "output_type": "execute_result"
    }
   ],
   "source": [
    "compare_df"
   ]
  },
  {
   "cell_type": "code",
   "execution_count": 13,
   "metadata": {},
   "outputs": [
    {
     "data": {
      "application/vnd.plotly.v1+json": {
       "config": {
        "plotlyServerURL": "https://plot.ly"
       },
       "data": [
        {
         "hovertemplate": "num_samples=100<br>name=grid<br>x1=%{x}<br>x2=%{y}<extra></extra>",
         "legendgroup": "",
         "marker": {
          "color": "#636efa",
          "symbol": "circle"
         },
         "mode": "markers",
         "name": "",
         "orientation": "v",
         "showlegend": false,
         "type": "scatter",
         "x": [
          0,
          0,
          0,
          0,
          0,
          0,
          0,
          0,
          0,
          0,
          0.1111111111111111,
          0.1111111111111111,
          0.1111111111111111,
          0.1111111111111111,
          0.1111111111111111,
          0.1111111111111111,
          0.1111111111111111,
          0.1111111111111111,
          0.1111111111111111,
          0.1111111111111111,
          0.2222222222222222,
          0.2222222222222222,
          0.2222222222222222,
          0.2222222222222222,
          0.2222222222222222,
          0.2222222222222222,
          0.2222222222222222,
          0.2222222222222222,
          0.2222222222222222,
          0.2222222222222222,
          0.3333333333333333,
          0.3333333333333333,
          0.3333333333333333,
          0.3333333333333333,
          0.3333333333333333,
          0.3333333333333333,
          0.3333333333333333,
          0.3333333333333333,
          0.3333333333333333,
          0.3333333333333333,
          0.4444444444444444,
          0.4444444444444444,
          0.4444444444444444,
          0.4444444444444444,
          0.4444444444444444,
          0.4444444444444444,
          0.4444444444444444,
          0.4444444444444444,
          0.4444444444444444,
          0.4444444444444444,
          0.5555555555555556,
          0.5555555555555556,
          0.5555555555555556,
          0.5555555555555556,
          0.5555555555555556,
          0.5555555555555556,
          0.5555555555555556,
          0.5555555555555556,
          0.5555555555555556,
          0.5555555555555556,
          0.6666666666666666,
          0.6666666666666666,
          0.6666666666666666,
          0.6666666666666666,
          0.6666666666666666,
          0.6666666666666666,
          0.6666666666666666,
          0.6666666666666666,
          0.6666666666666666,
          0.6666666666666666,
          0.7777777777777777,
          0.7777777777777777,
          0.7777777777777777,
          0.7777777777777777,
          0.7777777777777777,
          0.7777777777777777,
          0.7777777777777777,
          0.7777777777777777,
          0.7777777777777777,
          0.7777777777777777,
          0.8888888888888888,
          0.8888888888888888,
          0.8888888888888888,
          0.8888888888888888,
          0.8888888888888888,
          0.8888888888888888,
          0.8888888888888888,
          0.8888888888888888,
          0.8888888888888888,
          0.8888888888888888,
          1,
          1,
          1,
          1,
          1,
          1,
          1,
          1,
          1,
          1
         ],
         "xaxis": "x13",
         "y": [
          0,
          0.1111111111111111,
          0.2222222222222222,
          0.3333333333333333,
          0.4444444444444444,
          0.5555555555555556,
          0.6666666666666666,
          0.7777777777777777,
          0.8888888888888888,
          1,
          0,
          0.1111111111111111,
          0.2222222222222222,
          0.3333333333333333,
          0.4444444444444444,
          0.5555555555555556,
          0.6666666666666666,
          0.7777777777777777,
          0.8888888888888888,
          1,
          0,
          0.1111111111111111,
          0.2222222222222222,
          0.3333333333333333,
          0.4444444444444444,
          0.5555555555555556,
          0.6666666666666666,
          0.7777777777777777,
          0.8888888888888888,
          1,
          0,
          0.1111111111111111,
          0.2222222222222222,
          0.3333333333333333,
          0.4444444444444444,
          0.5555555555555556,
          0.6666666666666666,
          0.7777777777777777,
          0.8888888888888888,
          1,
          0,
          0.1111111111111111,
          0.2222222222222222,
          0.3333333333333333,
          0.4444444444444444,
          0.5555555555555556,
          0.6666666666666666,
          0.7777777777777777,
          0.8888888888888888,
          1,
          0,
          0.1111111111111111,
          0.2222222222222222,
          0.3333333333333333,
          0.4444444444444444,
          0.5555555555555556,
          0.6666666666666666,
          0.7777777777777777,
          0.8888888888888888,
          1,
          0,
          0.1111111111111111,
          0.2222222222222222,
          0.3333333333333333,
          0.4444444444444444,
          0.5555555555555556,
          0.6666666666666666,
          0.7777777777777777,
          0.8888888888888888,
          1,
          0,
          0.1111111111111111,
          0.2222222222222222,
          0.3333333333333333,
          0.4444444444444444,
          0.5555555555555556,
          0.6666666666666666,
          0.7777777777777777,
          0.8888888888888888,
          1,
          0,
          0.1111111111111111,
          0.2222222222222222,
          0.3333333333333333,
          0.4444444444444444,
          0.5555555555555556,
          0.6666666666666666,
          0.7777777777777777,
          0.8888888888888888,
          1,
          0,
          0.1111111111111111,
          0.2222222222222222,
          0.3333333333333333,
          0.4444444444444444,
          0.5555555555555556,
          0.6666666666666666,
          0.7777777777777777,
          0.8888888888888888,
          1
         ],
         "yaxis": "y13"
        },
        {
         "hovertemplate": "num_samples=100<br>name=random<br>x1=%{x}<br>x2=%{y}<extra></extra>",
         "legendgroup": "",
         "marker": {
          "color": "#636efa",
          "symbol": "circle"
         },
         "mode": "markers",
         "name": "",
         "orientation": "v",
         "showlegend": false,
         "type": "scatter",
         "x": [
          0.4576876508235155,
          0.34902685668377453,
          0.07741777222351842,
          0.6014040287131306,
          0.2919750156473142,
          0.8679191793250794,
          0.3701206410963347,
          0.14905050201685544,
          0.07750709861067295,
          0.3779442522344644,
          0.979462535887623,
          0.6483139293385219,
          0.007166927432209813,
          0.9518497866816836,
          0.17631118902572707,
          0.8820759497927534,
          0.6636796057766131,
          0.5970836211467748,
          0.9713564184123186,
          0.5869989776074919,
          0.23624574618681649,
          0.5032966833535512,
          0.2936543439019539,
          0.9711476047397218,
          0.759005988054046,
          0.9273402748148959,
          0.6085907097464426,
          0.27022843177433087,
          0.5177827769598299,
          0.0889468277014056,
          0.5089340261166634,
          0.7061516640960142,
          0.8467381786832393,
          0.12976784736315627,
          0.9186492463766607,
          0.09182677695216535,
          0.6916885537888906,
          0.3836911981655641,
          0.14306410518428048,
          0.7129276527329013,
          0.2626878897148658,
          0.8958799451649784,
          0.2031026581593829,
          0.5545169380360572,
          0.05197685731926571,
          0.7655352403878569,
          0.8998309769989333,
          0.0875111729851723,
          0.7067037241365592,
          0.2850405569604315,
          0.22816472426005552,
          0.6379902266942691,
          0.19938894292226128,
          0.12059810654550818,
          0.9409219106088285,
          0.6142500238987101,
          0.518904115252969,
          0.5739272295561726,
          0.8913373092205727,
          0.38672193350480555,
          0.25032807316598327,
          0.4527302745979115,
          0.9965298753141855,
          0.8185523301193249,
          0.8653049901312782,
          0.6183561708245342,
          0.390832387680933,
          0.09748231413020336,
          0.12484868387096293,
          0.5974182729009587,
          0.5658785166699358,
          0.04749044896741805,
          0.681751386509522,
          0.6434887857228073,
          0.2516807260980113,
          0.6155236521541799,
          0.3480086134014865,
          0.2723099478845741,
          0.9976406969620446,
          0.13014811204286603,
          0.7259869871103243,
          0.3240048816005737,
          0.668135850428744,
          0.5980679800778326,
          0.610208483252867,
          0.4907666796842499,
          0.05379520005869887,
          0.3159154335410478,
          0.9044903170853485,
          0.04047020465815909,
          0.01876097882293637,
          0.8065610120044863,
          0.44267460878921305,
          0.6899325506338837,
          0.30541403277791523,
          0.955931612748407,
          0.17105885906223728,
          0.6105976072843661,
          0.25686857161727705,
          0.05989489086731181
         ],
         "xaxis": "x14",
         "y": [
          0.49437217709832915,
          0.4512493001257727,
          0.4995931350532169,
          0.4985795117053474,
          0.3095103721209238,
          0.8995483765065933,
          0.4930226528854763,
          0.7392889655658353,
          0.25397534136746125,
          0.5334222750606318,
          0.7390171588150249,
          0.582938790619008,
          0.6543260779976062,
          0.42189040380650156,
          0.14361981683493985,
          0.6169672545954745,
          0.7872251936139819,
          0.35631711094054164,
          0.9312199701872433,
          0.6223717966780549,
          0.7319099741715964,
          0.27680016123444817,
          0.4384161480674357,
          0.357546524145805,
          0.9111969011803344,
          0.7637266523061699,
          0.33816997601323895,
          0.23953734996076748,
          0.5908295565650578,
          0.0713225923794758,
          0.03742415636285601,
          0.10276353728361665,
          0.035261313359547075,
          0.7655109405283497,
          0.7562847850427554,
          0.7106317296153692,
          0.7540787033052405,
          0.3673509126433151,
          0.10610005270262868,
          0.1467297514444289,
          0.4847653667316254,
          0.4407939055914025,
          0.6824498277464516,
          0.25383469056840624,
          0.06261862729176038,
          0.4483876706339541,
          0.8231179307622555,
          0.7880159300851757,
          0.23872866720958674,
          0.499073092325541,
          0.37096235256521737,
          0.08982168360619236,
          0.5988763662016687,
          0.6118393922733213,
          0.15169932201642278,
          0.6716480583097444,
          0.6337356521791119,
          0.13616606299403167,
          0.7058968592449127,
          0.47024239403427615,
          0.5431439914830036,
          0.6737552874113228,
          0.5516071251083198,
          0.5964407464860563,
          0.19191849598501876,
          0.1347879605832938,
          0.5180961479525406,
          0.026044793307665737,
          0.2574816190291118,
          0.3665262214304714,
          0.43329509228953844,
          0.08639153786683063,
          0.8595905600046774,
          0.7885268271544168,
          0.08195192276193908,
          0.12896938929396495,
          0.336311740332511,
          0.40218882548079926,
          0.08561576214800715,
          0.8333670197991108,
          0.42619082088360005,
          0.576089293063736,
          0.6666490522177074,
          0.7947054540112785,
          0.3895751404024297,
          0.10900408357864833,
          0.34712460220393637,
          0.8883293110561071,
          0.8098045722185849,
          0.314152846153696,
          0.08220212441305841,
          0.580607755436709,
          0.4191639648706815,
          0.39571122043941076,
          0.01730199710750957,
          0.977548954803554,
          0.9538372506128113,
          0.9186035550596036,
          0.5016657454938527,
          0.7347742077126989
         ],
         "yaxis": "y14"
        },
        {
         "hovertemplate": "num_samples=100<br>name=latin_hypercube<br>x1=%{x}<br>x2=%{y}<extra></extra>",
         "legendgroup": "",
         "marker": {
          "color": "#636efa",
          "symbol": "circle"
         },
         "mode": "markers",
         "name": "",
         "orientation": "v",
         "showlegend": false,
         "type": "scatter",
         "x": [
          0.4708795607396033,
          0.07121520539428744,
          0.45618307119965834,
          0.39967297496875803,
          0.24570801558425187,
          0.9020077099049488,
          0.9174237953379096,
          0.10098807304667513,
          0.5423619255554817,
          0.6849733673918244,
          0.2908977433123423,
          0.7558499413709996,
          0.5342856961286355,
          0.6463396945068048,
          0.14411219910154582,
          0.6905538005262735,
          0.22149422762212634,
          0.08155248727725367,
          0.02590507803640985,
          0.35475477187475124,
          0.8054901772297184,
          0.7032542821989195,
          0.20291140741900549,
          0.9622911685959318,
          0.9917214693975649,
          0.1330990954452057,
          0.5209346539015777,
          0.7908648512611713,
          0.5921743967947691,
          0.6607882315339243,
          0.941710338494659,
          0.8689118974380118,
          0.4300256009864875,
          0.4994740652589313,
          0.09686733507133778,
          0.9730446681872036,
          0.506318095278772,
          0.8439472802193522,
          0.6351860327173076,
          0.9316961360553176,
          0.25446377243326856,
          0.15210416477991134,
          0.03009157560745817,
          0.11783249177332111,
          0.33323685526947977,
          0.5787807274830269,
          0.7371304901827578,
          0.18946686430083823,
          0.23101273502770464,
          0.7677675363828709,
          0.01838782226795106,
          0.9274565354316067,
          0.21193792375200896,
          0.6574434650591193,
          0.7295215601791807,
          0.4847009217996843,
          0.6024788223145178,
          0.12827479177615297,
          0.8266083924881409,
          0.1963226476257361,
          0.3231692402551426,
          0.8399317429142577,
          0.5603799629692598,
          0.16555951468168953,
          0.6137922415563828,
          0.3155981989422502,
          0.007947218199831827,
          0.8974040835952217,
          0.787013745227839,
          0.9872570523252086,
          0.27345461581817676,
          0.9543318408149537,
          0.40496688249198776,
          0.049927351810563465,
          0.4427997572692219,
          0.7197993951066638,
          0.42860612056918757,
          0.30423448086226607,
          0.46546839424420156,
          0.7424455581828546,
          0.7797346241145072,
          0.412311100830799,
          0.8192553879495766,
          0.26104081773489424,
          0.36221830975087294,
          0.0542064861070183,
          0.8748195397323352,
          0.6261306786121935,
          0.1782914552878426,
          0.06667647667398985,
          0.8503701274542034,
          0.344633321892197,
          0.8830632819999377,
          0.37971717735591204,
          0.6779931205668959,
          0.3814743813648811,
          0.5864871972350479,
          0.5186387975904124,
          0.2835731291630668,
          0.5566199300940834
         ],
         "xaxis": "x15",
         "y": [
          0.2628688837714194,
          0.035096319364765136,
          0.6021762532633061,
          0.6512515834565997,
          0.6234644165005919,
          0.3368232169694837,
          0.9161616942172539,
          0.8804039921874229,
          0.3909674891424084,
          0.962320137696867,
          0.7657260757651696,
          0.23740380961748045,
          0.891384719115176,
          0.8589210596882104,
          0.9758851607176448,
          0.12101554584304557,
          0.40952184317782164,
          0.4542813517862871,
          0.9254162231487085,
          0.5023364877998274,
          0.3862301595411688,
          0.6105598373477737,
          0.8429152392952759,
          0.6341263187653506,
          0.1929429925101305,
          0.3290729082008661,
          0.5335698529938766,
          0.7720840055354613,
          0.10612318519970239,
          0.6720407887303392,
          0.7426393307462077,
          0.7104336683401824,
          0.808003953800692,
          0.04243858500555275,
          0.42041611891558184,
          0.4601042336979836,
          0.8379218358300424,
          0.1377297765978229,
          0.007898521825325898,
          0.5524159229304416,
          0.9049612843764098,
          0.5420617998160292,
          0.36515710490024555,
          0.6406524954223463,
          0.7853508523260208,
          0.9561361999343935,
          0.8101662765360486,
          0.06534599770017556,
          0.18726712695827494,
          0.05436968913792931,
          0.5991789445598479,
          0.2583929964003701,
          0.6830124422020409,
          0.49532413287637306,
          0.586110323726692,
          0.726359391551873,
          0.43588599758225127,
          0.11923178100240023,
          0.6652416159484515,
          0.48157063307419135,
          0.34776842580316725,
          0.9858036101541795,
          0.1535320863722975,
          0.21078839360049245,
          0.7520982794086758,
          0.014341136142472188,
          0.16751088391844163,
          0.8263638999636043,
          0.1749561599720804,
          0.8738945411328847,
          0.5237884420902312,
          0.07196213670805934,
          0.37785270779377206,
          0.7312795195622607,
          0.14753585932658259,
          0.357890607290585,
          0.44497538453391683,
          0.9939388640744683,
          0.8653121273683868,
          0.47439396537654455,
          0.9306618531785277,
          0.09360612986179939,
          0.4128825566982735,
          0.08684578956864789,
          0.9418999078300933,
          0.27371535405063174,
          0.31935626396969496,
          0.2275087351427203,
          0.700562736279394,
          0.7959847479373443,
          0.5186137127813002,
          0.30174234521080157,
          0.026979288780546232,
          0.20042878367078476,
          0.2873340036805888,
          0.5639823603781056,
          0.6957213554663564,
          0.29910261105657865,
          0.24823880655915684,
          0.578797045212751
         ],
         "yaxis": "y15"
        },
        {
         "hovertemplate": "num_samples=100<br>name=sobol<br>x1=%{x}<br>x2=%{y}<extra></extra>",
         "legendgroup": "",
         "marker": {
          "color": "#636efa",
          "symbol": "circle"
         },
         "mode": "markers",
         "name": "",
         "orientation": "v",
         "showlegend": false,
         "type": "scatter",
         "x": [
          0.8405356276780367,
          0.40913079865276814,
          0.0016598105430603027,
          0.7499596476554871,
          0.5625586230307817,
          0.1858260352164507,
          0.27835507690906525,
          0.9719826728105545,
          0.8847877597436309,
          0.36353965755552053,
          0.20997450221329927,
          0.5403060661628842,
          0.6472160285338759,
          0.10251516755670309,
          0.4489500420168042,
          0.8027343647554517,
          0.7527160430327058,
          0.4965879702940583,
          0.09351250063627958,
          0.6577446116134524,
          0.5297775203362107,
          0.21897720638662577,
          0.31590170692652464,
          0.934806059114635,
          0.9574868194758892,
          0.29120297357439995,
          0.13422083668410778,
          0.6164221744984388,
          0.6960961483418941,
          0.05326506122946739,
          0.39628289453685284,
          0.8550314735621214,
          0.8604773636907339,
          0.39003959856927395,
          0.04311646893620491,
          0.7054473347961903,
          0.6070365216583014,
          0.1443959977477789,
          0.29747283831238747,
          0.9520064629614353,
          0.9136368064209819,
          0.3377307681366801,
          0.24471347127109766,
          0.5047010639682412,
          0.6827789722010493,
          0.06779517512768507,
          0.4747778484597802,
          0.7738431999459863,
          0.7962126107886434,
          0.4541785093024373,
          0.11164893116801977,
          0.636788978241384,
          0.5506910504773259,
          0.20085970778018236,
          0.3583301594480872,
          0.891267447732389,
          0.9940291866660118,
          0.25746431201696396,
          0.161028066650033,
          0.5885123405605555,
          0.7239714935421944,
          0.026484377682209015,
          0.43004816211760044,
          0.8184546772390604,
          0.8265566527843475,
          0.422007292509079,
          0.018930869176983833,
          0.7315861750394106,
          0.580928310751915,
          0.16855119168758392,
          0.2654747385531664,
          0.9859578032046556,
          0.8992473529651761,
          0.35016721952706575,
          0.19318412896245718,
          0.5581836616620421,
          0.6293270187452435,
          0.1192941265180707,
          0.46231100615113974,
          0.7882632976397872,
          0.7657108260318637,
          0.48272728454321623,
          0.0752572501078248,
          0.6751338923349977,
          0.5123767657205462,
          0.23722098302096128,
          0.32975097838789225,
          0.9217998618260026,
          0.9439961593598127,
          0.3055443447083235,
          0.15198014304041862,
          0.5995135121047497,
          0.7130009662359953,
          0.035501910373568535,
          0.38193773850798607,
          0.8685183487832546,
          0.8476008661091328,
          0.4040185697376728,
          0.06148994527757168,
          0.688176279887557
         ],
         "xaxis": "x16",
         "y": [
          0.06982214003801346,
          0.8958832994103432,
          0.34589293133467436,
          0.6720461202785373,
          0.4165923837572336,
          0.6177145782858133,
          0.14047820214182138,
          0.8415703559294343,
          0.30285038612782955,
          0.7226694133132696,
          0.01886314619332552,
          0.9387732492759824,
          0.21480626240372658,
          0.7596863247454166,
          0.4987510656937957,
          0.5436001336202025,
          0.4597140122205019,
          0.5045256484299898,
          0.23822760675102472,
          0.7831303188577294,
          0.057949066162109375,
          0.9778217375278473,
          0.27939494233578444,
          0.6992366192862391,
          0.1639341227710247,
          0.8650026731193066,
          0.37750598695129156,
          0.5786665668711066,
          0.3224720638245344,
          0.6486016493290663,
          0.10885871667414904,
          0.9349582614377141,
          0.3701706677675247,
          0.6651120036840439,
          0.09204364102333784,
          0.8870760528370738,
          0.1473627109080553,
          0.8173650819808245,
          0.42544920835644007,
          0.595420585013926,
          0.010189427062869072,
          0.9613724183291197,
          0.29602691251784563,
          0.7473019333556294,
          0.4761023186147213,
          0.5523463450372219,
          0.19022335018962622,
          0.76643733587116,
          0.22930223681032658,
          0.8054930958896875,
          0.4526386493816972,
          0.5289215380325913,
          0.25698258727788925,
          0.7082344815135002,
          0.033602784387767315,
          0.9848246378824115,
          0.4020353741943836,
          0.5719688422977924,
          0.1864075129851699,
          0.8564320569857955,
          0.11550683341920376,
          0.9105013366788626,
          0.33109225798398256,
          0.6260557668283582,
          0.43059181328862906,
          0.6044314717873931,
          0.15394488349556923,
          0.8278756178915501,
          0.08302799332886934,
          0.8819286869838834,
          0.35966490767896175,
          0.6585346069186926,
          0.19682339671999216,
          0.7769204461947083,
          0.48121129907667637,
          0.5614003781229258,
          0.2855390263721347,
          0.7406971110031009,
          0.0011401548981666565,
          0.956268198788166,
          0.040211659856140614,
          0.9953008415177464,
          0.26209848932921886,
          0.7172797005623579,
          0.4421595921739936,
          0.5223098089918494,
          0.2202598862349987,
          0.8003800623118877,
          0.336227941326797,
          0.6350754676386714,
          0.12208017706871033,
          0.9210187792778015,
          0.17738494370132685,
          0.8512935051694512,
          0.3915207851678133,
          0.5653983522206545,
          0.12950323428958654,
          0.8344779750332236,
          0.4080306850373745,
          0.6130974553525448
         ],
         "yaxis": "y16"
        },
        {
         "hovertemplate": "num_samples=50<br>name=grid<br>x1=%{x}<br>x2=%{y}<extra></extra>",
         "legendgroup": "",
         "marker": {
          "color": "#636efa",
          "symbol": "circle"
         },
         "mode": "markers",
         "name": "",
         "orientation": "v",
         "showlegend": false,
         "type": "scatter",
         "x": [
          0,
          0,
          0,
          0,
          0,
          0,
          0,
          0.16666666666666666,
          0.16666666666666666,
          0.16666666666666666,
          0.16666666666666666,
          0.16666666666666666,
          0.16666666666666666,
          0.16666666666666666,
          0.3333333333333333,
          0.3333333333333333,
          0.3333333333333333,
          0.3333333333333333,
          0.3333333333333333,
          0.3333333333333333,
          0.3333333333333333,
          0.5,
          0.5,
          0.5,
          0.5,
          0.5,
          0.5,
          0.5,
          0.6666666666666666,
          0.6666666666666666,
          0.6666666666666666,
          0.6666666666666666,
          0.6666666666666666,
          0.6666666666666666,
          0.6666666666666666,
          0.8333333333333333,
          0.8333333333333333,
          0.8333333333333333,
          0.8333333333333333,
          0.8333333333333333,
          0.8333333333333333,
          0.8333333333333333,
          1,
          1,
          1,
          1,
          1,
          1,
          1
         ],
         "xaxis": "x9",
         "y": [
          0,
          0.16666666666666666,
          0.3333333333333333,
          0.5,
          0.6666666666666666,
          0.8333333333333333,
          1,
          0,
          0.16666666666666666,
          0.3333333333333333,
          0.5,
          0.6666666666666666,
          0.8333333333333333,
          1,
          0,
          0.16666666666666666,
          0.3333333333333333,
          0.5,
          0.6666666666666666,
          0.8333333333333333,
          1,
          0,
          0.16666666666666666,
          0.3333333333333333,
          0.5,
          0.6666666666666666,
          0.8333333333333333,
          1,
          0,
          0.16666666666666666,
          0.3333333333333333,
          0.5,
          0.6666666666666666,
          0.8333333333333333,
          1,
          0,
          0.16666666666666666,
          0.3333333333333333,
          0.5,
          0.6666666666666666,
          0.8333333333333333,
          1,
          0,
          0.16666666666666666,
          0.3333333333333333,
          0.5,
          0.6666666666666666,
          0.8333333333333333,
          1
         ],
         "yaxis": "y9"
        },
        {
         "hovertemplate": "num_samples=50<br>name=random<br>x1=%{x}<br>x2=%{y}<extra></extra>",
         "legendgroup": "",
         "marker": {
          "color": "#636efa",
          "symbol": "circle"
         },
         "mode": "markers",
         "name": "",
         "orientation": "v",
         "showlegend": false,
         "type": "scatter",
         "x": [
          0.1794639558412412,
          0.5581274555381862,
          0.03394473843050272,
          0.10545456948104082,
          0.6165242309208334,
          0.8414485963281885,
          0.486334224777521,
          0.3765733116695218,
          0.8610974619043088,
          0.1984357396716595,
          0.5942685943302205,
          0.5928927791264931,
          0.0940834934807151,
          0.2799899025612309,
          0.6318157671717738,
          0.0787649401185283,
          0.2633142860413805,
          0.18027804870243047,
          0.9655164973570199,
          0.38873570534212176,
          0.9622019925941082,
          0.4498588167797254,
          0.4917218462862596,
          0.554545903364071,
          0.6857053925115444,
          0.615313007248447,
          0.4653630303411328,
          0.2343749476088649,
          0.8955298119893073,
          0.791846321523572,
          0.09348813609627071,
          0.5188224495743939,
          0.1098148436827382,
          0.37821267199885744,
          0.35300376602376904,
          0.23740254058475907,
          0.5040876953332194,
          0.7922750415193349,
          0.8546401562846707,
          0.9282665282110694,
          0.9502861332596496,
          0.47890994096450656,
          0.7021412515221758,
          0.4583830701622492,
          0.7956304077874494,
          0.8126195812930227,
          0.936816255886886,
          0.46885231746410594,
          0.650309614442725,
          0.4552977447487876
         ],
         "xaxis": "x10",
         "y": [
          0.5498749137387259,
          0.9172890049192844,
          0.34430436277487064,
          0.26957909344217357,
          0.011562732204363546,
          0.47722059809624284,
          0.2380339853390444,
          0.6633340244053708,
          0.6161928801831046,
          0.6134189448293013,
          0.5961208655121695,
          0.7032033334884,
          0.6108121281257967,
          0.3833824968099586,
          0.4573992757771139,
          0.38355628061023095,
          0.4244625515241386,
          0.9348783652492606,
          0.6047290797764253,
          0.357788345005593,
          0.891998338322468,
          0.8714359642410914,
          0.2181820872128334,
          0.7292076987748042,
          0.23454122442388547,
          0.9379803590302361,
          0.3633995784529661,
          0.4746131767096403,
          0.06049121513586009,
          0.38661221130569956,
          0.02597656971899298,
          0.1765229831562829,
          0.3852331371390849,
          0.10215409867411462,
          0.7006454354040921,
          0.22186195387583074,
          0.189954539140054,
          0.33582280279300114,
          0.10069020171190901,
          0.5687596028622921,
          0.2747796718055313,
          0.9044692538417397,
          0.05324607648936197,
          0.5193703073645957,
          0.21259620386132438,
          0.35827414299379357,
          0.2719689093862946,
          0.468750583173953,
          0.22204299770327252,
          0.03056803787438178
         ],
         "yaxis": "y10"
        },
        {
         "hovertemplate": "num_samples=50<br>name=latin_hypercube<br>x1=%{x}<br>x2=%{y}<extra></extra>",
         "legendgroup": "",
         "marker": {
          "color": "#636efa",
          "symbol": "circle"
         },
         "mode": "markers",
         "name": "",
         "orientation": "v",
         "showlegend": false,
         "type": "scatter",
         "x": [
          0.9171719746348724,
          0.9797039874701023,
          0.44086897608735454,
          0.022022888165135625,
          0.1455133568081482,
          0.8966924213226549,
          0.9926268241292615,
          0.7751744930082494,
          0.10464405858447057,
          0.5966852705064303,
          0.5157644539764499,
          0.6069346469233874,
          0.3376957652286625,
          0.3990637245250874,
          0.284539299882665,
          0.229299474800195,
          0.6337076235653948,
          0.3158083954582759,
          0.5735528501720647,
          0.5283715385463562,
          0.07783455198079374,
          0.46301530348728215,
          0.087106676427616,
          0.37718893781578744,
          0.5532227854153156,
          0.6795593356645181,
          0.8329506050159368,
          0.26652513247542736,
          0.7162657954977384,
          0.6574088676986234,
          0.4980273605152211,
          0.7874836787339791,
          0.818668737674883,
          0.7505845325199216,
          0.9277423692278188,
          0.43360225652881046,
          0.05881806849463328,
          0.0068199370005000625,
          0.251596818117667,
          0.6951985686483734,
          0.20000260934053,
          0.40387381529766064,
          0.7301960622661823,
          0.9409024800843802,
          0.1930104127399905,
          0.8677646959379625,
          0.8592259862011182,
          0.17866013096514344,
          0.3573180617448687,
          0.1213306312076499
         ],
         "xaxis": "x11",
         "y": [
          0.7537087389294592,
          0.13196460187709796,
          0.8705793236373374,
          0.6109164983266805,
          0.16082097595374859,
          0.2638490627555713,
          0.635281730442558,
          0.6949284201394537,
          0.3616447621321769,
          0.7867166318955536,
          0.30715812260984293,
          0.4625429232705418,
          0.2174068810706943,
          0.5668191403822571,
          0.4389865962530582,
          0.4993520994128658,
          0.23629584252419605,
          0.7342755844558725,
          0.10228742431484981,
          0.8409617642285997,
          0.09875603318672757,
          0.14596103647866326,
          0.5265167472274869,
          0.04353897714458048,
          0.7090791038362332,
          0.3406685772912732,
          0.0224603124981142,
          0.9729642817837315,
          0.07555640156131024,
          0.9955931661917644,
          0.4584553621339594,
          0.197686633493323,
          0.9012269052956955,
          0.4156361385247539,
          0.386729259970151,
          0.2878119982494555,
          0.9300507855140357,
          0.25251974070899236,
          0.010395913997533469,
          0.5856078026892564,
          0.3247704782732951,
          0.6409524225140276,
          0.8378101720395962,
          0.9426971736374671,
          0.6679816385434469,
          0.504808108994434,
          0.5444993177553971,
          0.7791126024354292,
          0.809606079940095,
          0.8860595441206135
         ],
         "yaxis": "y11"
        },
        {
         "hovertemplate": "num_samples=50<br>name=sobol<br>x1=%{x}<br>x2=%{y}<extra></extra>",
         "legendgroup": "",
         "marker": {
          "color": "#636efa",
          "symbol": "circle"
         },
         "mode": "markers",
         "name": "",
         "orientation": "v",
         "showlegend": false,
         "type": "scatter",
         "x": [
          0.43656153976917267,
          0.6186162335798144,
          0.9419532679021358,
          0.002868897281587124,
          0.2069062376394868,
          0.7711193431168795,
          0.6644044267013669,
          0.35757005028426647,
          0.29137582145631313,
          0.7305950196459889,
          0.829929182305932,
          0.14809991512447596,
          0.06888073589652777,
          0.8759455420076847,
          0.5596244810149074,
          0.4955492988228798,
          0.45795701537281275,
          0.5181192550808191,
          0.9213417740538716,
          0.10258201323449612,
          0.17982638627290726,
          0.8733944473788142,
          0.6910512484610081,
          0.2557278564199805,
          0.31410691794008017,
          0.6326686702668667,
          0.8067766232416034,
          0.2464478462934494,
          0.04438772611320019,
          0.9795400546863675,
          0.5849204231053591,
          0.3911517346277833,
          0.38463502656668425,
          0.5777691304683685,
          0.9866766249760985,
          0.05091927573084831,
          0.2236748356372118,
          0.7846238845959306,
          0.6548370849341154,
          0.3368641333654523,
          0.2778714122250676,
          0.7138258125633001,
          0.8506347248330712,
          0.15766810812056065,
          0.10972817614674568,
          0.9278712412342429,
          0.5115739926695824,
          0.4508265284821391,
          0.4708502534776926,
          0.5354991564527154
         ],
         "xaxis": "x12",
         "y": [
          0.07429652102291584,
          0.5146026602014899,
          0.4241181379184127,
          0.9850296173244715,
          0.3640266479924321,
          0.802875429391861,
          0.13535695523023605,
          0.6957878964021802,
          0.48524452187120914,
          0.9238449996337295,
          0.014387457631528378,
          0.5745698381215334,
          0.19551451969891787,
          0.6355720981955528,
          0.3031485080718994,
          0.8638116838410497,
          0.2666256073862314,
          0.8319161152467132,
          0.23375762905925512,
          0.6696537155658007,
          0.040837411768734455,
          0.6047013476490974,
          0.46048422157764435,
          0.8959300788119435,
          0.1698679644614458,
          0.7334833582863212,
          0.3317021643742919,
          0.7668996993452311,
          0.3956560464575887,
          0.9606982320547104,
          0.10497567802667618,
          0.5406232224777341,
          0.40797867253422737,
          0.9718120926991105,
          0.09337347839027643,
          0.5287888161838055,
          0.1494833929464221,
          0.7148044165223837,
          0.35086932592093945,
          0.7867959318682551,
          0.0285138301551342,
          0.5935865351930261,
          0.47208737675100565,
          0.9077654369175434,
          0.2870092270895839,
          0.8505941014736891,
          0.21459141932427883,
          0.6497584385797381,
          0.24691402539610863,
          0.6857322910800576
         ],
         "yaxis": "y12"
        },
        {
         "hovertemplate": "num_samples=10<br>name=grid<br>x1=%{x}<br>x2=%{y}<extra></extra>",
         "legendgroup": "",
         "marker": {
          "color": "#636efa",
          "symbol": "circle"
         },
         "mode": "markers",
         "name": "",
         "orientation": "v",
         "showlegend": false,
         "type": "scatter",
         "x": [
          0,
          0,
          0,
          0.5,
          0.5,
          0.5,
          1,
          1,
          1
         ],
         "xaxis": "x5",
         "y": [
          0,
          0.5,
          1,
          0,
          0.5,
          1,
          0,
          0.5,
          1
         ],
         "yaxis": "y5"
        },
        {
         "hovertemplate": "num_samples=10<br>name=random<br>x1=%{x}<br>x2=%{y}<extra></extra>",
         "legendgroup": "",
         "marker": {
          "color": "#636efa",
          "symbol": "circle"
         },
         "mode": "markers",
         "name": "",
         "orientation": "v",
         "showlegend": false,
         "type": "scatter",
         "x": [
          0.3667940724868326,
          0.9207452263655252,
          0.20601588845403718,
          0.8415563465540999,
          0.5890001504055988,
          0.8579598954678741,
          0.7149421677608118,
          0.4231993848627422,
          0.023298242129649815,
          0.8433954115633044
         ],
         "xaxis": "x6",
         "y": [
          0.09612791484490435,
          0.3371205339992682,
          0.284609690840677,
          0.9240652897547533,
          0.059527670717528736,
          0.5501569306143618,
          0.6835076034173031,
          0.27861823673771413,
          0.570414256852251,
          0.11503255058940598
         ],
         "yaxis": "y6"
        },
        {
         "hovertemplate": "num_samples=10<br>name=latin_hypercube<br>x1=%{x}<br>x2=%{y}<extra></extra>",
         "legendgroup": "",
         "marker": {
          "color": "#636efa",
          "symbol": "circle"
         },
         "mode": "markers",
         "name": "",
         "orientation": "v",
         "showlegend": false,
         "type": "scatter",
         "x": [
          0.602638911800916,
          0.29449228052148946,
          0.8026900184142824,
          0.7385218434946849,
          0.43737639909613735,
          0.540812978782059,
          0.36012744424897897,
          0.020834365019661284,
          0.14453490822723714,
          0.9904159509032272
         ],
         "xaxis": "x7",
         "y": [
          0.617501032591252,
          0.18611680040953021,
          0.8649477297636359,
          0.4954927959830272,
          0.5153755433174642,
          0.22000853758271982,
          0.9661363268532224,
          0.33154009363821535,
          0.7096604445907907,
          0.0587640408651939
         ],
         "yaxis": "y7"
        },
        {
         "hovertemplate": "num_samples=10<br>name=sobol<br>x1=%{x}<br>x2=%{y}<extra></extra>",
         "legendgroup": "",
         "marker": {
          "color": "#636efa",
          "symbol": "circle"
         },
         "mode": "markers",
         "name": "",
         "orientation": "v",
         "showlegend": false,
         "type": "scatter",
         "x": [
          0.4518014267086983,
          0.8872913997620344,
          0.5211723539978266,
          0.08556034788489342,
          0.23962384462356567,
          0.6791262831538916,
          0.7952452916651964,
          0.3558649607002735,
          0.2714141719043255,
          0.8358099106699228
         ],
         "xaxis": "x8",
         "y": [
          0.8098986018449068,
          0.29863094445317984,
          0.7392247542738914,
          0.24260362703353167,
          0.5988168818876147,
          0.1031875740736723,
          0.9185222694650292,
          0.4062933064997196,
          0.6782993283122778,
          0.18169535975903273
         ],
         "yaxis": "y8"
        },
        {
         "hovertemplate": "num_samples=5<br>name=grid<br>x1=%{x}<br>x2=%{y}<extra></extra>",
         "legendgroup": "",
         "marker": {
          "color": "#636efa",
          "symbol": "circle"
         },
         "mode": "markers",
         "name": "",
         "orientation": "v",
         "showlegend": false,
         "type": "scatter",
         "x": [
          0,
          0,
          1,
          1
         ],
         "xaxis": "x",
         "y": [
          0,
          1,
          0,
          1
         ],
         "yaxis": "y"
        },
        {
         "hovertemplate": "num_samples=5<br>name=random<br>x1=%{x}<br>x2=%{y}<extra></extra>",
         "legendgroup": "",
         "marker": {
          "color": "#636efa",
          "symbol": "circle"
         },
         "mode": "markers",
         "name": "",
         "orientation": "v",
         "showlegend": false,
         "type": "scatter",
         "x": [
          0.8008479030598902,
          0.6322682862715094,
          0.9483874553780537,
          0.9272187808290357,
          0.22258250622259956
         ],
         "xaxis": "x2",
         "y": [
          0.23941739273057894,
          0.8674807903043585,
          0.1208694297420243,
          0.978710759586119,
          0.25184314404015806
         ],
         "yaxis": "y2"
        },
        {
         "hovertemplate": "num_samples=5<br>name=latin_hypercube<br>x1=%{x}<br>x2=%{y}<extra></extra>",
         "legendgroup": "",
         "marker": {
          "color": "#636efa",
          "symbol": "circle"
         },
         "mode": "markers",
         "name": "",
         "orientation": "v",
         "showlegend": false,
         "type": "scatter",
         "x": [
          0.5724575174370816,
          0.06118443747674849,
          0.20657560401167854,
          0.6208141984958724,
          0.8410561374205532
         ],
         "xaxis": "x3",
         "y": [
          0.05383729448892496,
          0.42991477768485,
          0.7625204464037013,
          0.9537597079452395,
          0.3555001087601105
         ],
         "yaxis": "y3"
        },
        {
         "hovertemplate": "num_samples=5<br>name=sobol<br>x1=%{x}<br>x2=%{y}<extra></extra>",
         "legendgroup": "",
         "marker": {
          "color": "#636efa",
          "symbol": "circle"
         },
         "mode": "markers",
         "name": "",
         "orientation": "v",
         "showlegend": false,
         "type": "scatter",
         "x": [
          0.9244714472442865,
          0.3217450035735965,
          0.11972394026815891,
          0.6262503964826465,
          0.5574493706226349
         ],
         "xaxis": "x4",
         "y": [
          0.3798405956476927,
          0.8166582891717553,
          0.06605710741132498,
          0.6280003413558006,
          0.14690967742353678
         ],
         "yaxis": "y4"
        }
       ],
       "layout": {
        "annotations": [
         {
          "font": {},
          "showarrow": false,
          "text": "name=grid",
          "x": 0.11499999999999999,
          "xanchor": "center",
          "xref": "paper",
          "y": 1,
          "yanchor": "bottom",
          "yref": "paper"
         },
         {
          "font": {},
          "showarrow": false,
          "text": "name=random",
          "x": 0.365,
          "xanchor": "center",
          "xref": "paper",
          "y": 1,
          "yanchor": "bottom",
          "yref": "paper"
         },
         {
          "font": {},
          "showarrow": false,
          "text": "name=latin_hypercube",
          "x": 0.615,
          "xanchor": "center",
          "xref": "paper",
          "y": 1,
          "yanchor": "bottom",
          "yref": "paper"
         },
         {
          "font": {},
          "showarrow": false,
          "text": "name=sobol",
          "x": 0.865,
          "xanchor": "center",
          "xref": "paper",
          "y": 1,
          "yanchor": "bottom",
          "yref": "paper"
         },
         {
          "font": {},
          "showarrow": false,
          "text": "num_samples=5",
          "textangle": 90,
          "x": 0.98,
          "xanchor": "left",
          "xref": "paper",
          "y": 0.11375,
          "yanchor": "middle",
          "yref": "paper"
         },
         {
          "font": {},
          "showarrow": false,
          "text": "num_samples=10",
          "textangle": 90,
          "x": 0.98,
          "xanchor": "left",
          "xref": "paper",
          "y": 0.37124999999999997,
          "yanchor": "middle",
          "yref": "paper"
         },
         {
          "font": {},
          "showarrow": false,
          "text": "num_samples=50",
          "textangle": 90,
          "x": 0.98,
          "xanchor": "left",
          "xref": "paper",
          "y": 0.62875,
          "yanchor": "middle",
          "yref": "paper"
         },
         {
          "font": {},
          "showarrow": false,
          "text": "num_samples=100",
          "textangle": 90,
          "x": 0.98,
          "xanchor": "left",
          "xref": "paper",
          "y": 0.88625,
          "yanchor": "middle",
          "yref": "paper"
         }
        ],
        "height": 800,
        "legend": {
         "tracegroupgap": 0
        },
        "margin": {
         "t": 60
        },
        "template": {
         "data": {
          "bar": [
           {
            "error_x": {
             "color": "#2a3f5f"
            },
            "error_y": {
             "color": "#2a3f5f"
            },
            "marker": {
             "line": {
              "color": "#E5ECF6",
              "width": 0.5
             },
             "pattern": {
              "fillmode": "overlay",
              "size": 10,
              "solidity": 0.2
             }
            },
            "type": "bar"
           }
          ],
          "barpolar": [
           {
            "marker": {
             "line": {
              "color": "#E5ECF6",
              "width": 0.5
             },
             "pattern": {
              "fillmode": "overlay",
              "size": 10,
              "solidity": 0.2
             }
            },
            "type": "barpolar"
           }
          ],
          "carpet": [
           {
            "aaxis": {
             "endlinecolor": "#2a3f5f",
             "gridcolor": "white",
             "linecolor": "white",
             "minorgridcolor": "white",
             "startlinecolor": "#2a3f5f"
            },
            "baxis": {
             "endlinecolor": "#2a3f5f",
             "gridcolor": "white",
             "linecolor": "white",
             "minorgridcolor": "white",
             "startlinecolor": "#2a3f5f"
            },
            "type": "carpet"
           }
          ],
          "choropleth": [
           {
            "colorbar": {
             "outlinewidth": 0,
             "ticks": ""
            },
            "type": "choropleth"
           }
          ],
          "contour": [
           {
            "colorbar": {
             "outlinewidth": 0,
             "ticks": ""
            },
            "colorscale": [
             [
              0,
              "#0d0887"
             ],
             [
              0.1111111111111111,
              "#46039f"
             ],
             [
              0.2222222222222222,
              "#7201a8"
             ],
             [
              0.3333333333333333,
              "#9c179e"
             ],
             [
              0.4444444444444444,
              "#bd3786"
             ],
             [
              0.5555555555555556,
              "#d8576b"
             ],
             [
              0.6666666666666666,
              "#ed7953"
             ],
             [
              0.7777777777777778,
              "#fb9f3a"
             ],
             [
              0.8888888888888888,
              "#fdca26"
             ],
             [
              1,
              "#f0f921"
             ]
            ],
            "type": "contour"
           }
          ],
          "contourcarpet": [
           {
            "colorbar": {
             "outlinewidth": 0,
             "ticks": ""
            },
            "type": "contourcarpet"
           }
          ],
          "heatmap": [
           {
            "colorbar": {
             "outlinewidth": 0,
             "ticks": ""
            },
            "colorscale": [
             [
              0,
              "#0d0887"
             ],
             [
              0.1111111111111111,
              "#46039f"
             ],
             [
              0.2222222222222222,
              "#7201a8"
             ],
             [
              0.3333333333333333,
              "#9c179e"
             ],
             [
              0.4444444444444444,
              "#bd3786"
             ],
             [
              0.5555555555555556,
              "#d8576b"
             ],
             [
              0.6666666666666666,
              "#ed7953"
             ],
             [
              0.7777777777777778,
              "#fb9f3a"
             ],
             [
              0.8888888888888888,
              "#fdca26"
             ],
             [
              1,
              "#f0f921"
             ]
            ],
            "type": "heatmap"
           }
          ],
          "heatmapgl": [
           {
            "colorbar": {
             "outlinewidth": 0,
             "ticks": ""
            },
            "colorscale": [
             [
              0,
              "#0d0887"
             ],
             [
              0.1111111111111111,
              "#46039f"
             ],
             [
              0.2222222222222222,
              "#7201a8"
             ],
             [
              0.3333333333333333,
              "#9c179e"
             ],
             [
              0.4444444444444444,
              "#bd3786"
             ],
             [
              0.5555555555555556,
              "#d8576b"
             ],
             [
              0.6666666666666666,
              "#ed7953"
             ],
             [
              0.7777777777777778,
              "#fb9f3a"
             ],
             [
              0.8888888888888888,
              "#fdca26"
             ],
             [
              1,
              "#f0f921"
             ]
            ],
            "type": "heatmapgl"
           }
          ],
          "histogram": [
           {
            "marker": {
             "pattern": {
              "fillmode": "overlay",
              "size": 10,
              "solidity": 0.2
             }
            },
            "type": "histogram"
           }
          ],
          "histogram2d": [
           {
            "colorbar": {
             "outlinewidth": 0,
             "ticks": ""
            },
            "colorscale": [
             [
              0,
              "#0d0887"
             ],
             [
              0.1111111111111111,
              "#46039f"
             ],
             [
              0.2222222222222222,
              "#7201a8"
             ],
             [
              0.3333333333333333,
              "#9c179e"
             ],
             [
              0.4444444444444444,
              "#bd3786"
             ],
             [
              0.5555555555555556,
              "#d8576b"
             ],
             [
              0.6666666666666666,
              "#ed7953"
             ],
             [
              0.7777777777777778,
              "#fb9f3a"
             ],
             [
              0.8888888888888888,
              "#fdca26"
             ],
             [
              1,
              "#f0f921"
             ]
            ],
            "type": "histogram2d"
           }
          ],
          "histogram2dcontour": [
           {
            "colorbar": {
             "outlinewidth": 0,
             "ticks": ""
            },
            "colorscale": [
             [
              0,
              "#0d0887"
             ],
             [
              0.1111111111111111,
              "#46039f"
             ],
             [
              0.2222222222222222,
              "#7201a8"
             ],
             [
              0.3333333333333333,
              "#9c179e"
             ],
             [
              0.4444444444444444,
              "#bd3786"
             ],
             [
              0.5555555555555556,
              "#d8576b"
             ],
             [
              0.6666666666666666,
              "#ed7953"
             ],
             [
              0.7777777777777778,
              "#fb9f3a"
             ],
             [
              0.8888888888888888,
              "#fdca26"
             ],
             [
              1,
              "#f0f921"
             ]
            ],
            "type": "histogram2dcontour"
           }
          ],
          "mesh3d": [
           {
            "colorbar": {
             "outlinewidth": 0,
             "ticks": ""
            },
            "type": "mesh3d"
           }
          ],
          "parcoords": [
           {
            "line": {
             "colorbar": {
              "outlinewidth": 0,
              "ticks": ""
             }
            },
            "type": "parcoords"
           }
          ],
          "pie": [
           {
            "automargin": true,
            "type": "pie"
           }
          ],
          "scatter": [
           {
            "fillpattern": {
             "fillmode": "overlay",
             "size": 10,
             "solidity": 0.2
            },
            "type": "scatter"
           }
          ],
          "scatter3d": [
           {
            "line": {
             "colorbar": {
              "outlinewidth": 0,
              "ticks": ""
             }
            },
            "marker": {
             "colorbar": {
              "outlinewidth": 0,
              "ticks": ""
             }
            },
            "type": "scatter3d"
           }
          ],
          "scattercarpet": [
           {
            "marker": {
             "colorbar": {
              "outlinewidth": 0,
              "ticks": ""
             }
            },
            "type": "scattercarpet"
           }
          ],
          "scattergeo": [
           {
            "marker": {
             "colorbar": {
              "outlinewidth": 0,
              "ticks": ""
             }
            },
            "type": "scattergeo"
           }
          ],
          "scattergl": [
           {
            "marker": {
             "colorbar": {
              "outlinewidth": 0,
              "ticks": ""
             }
            },
            "type": "scattergl"
           }
          ],
          "scattermapbox": [
           {
            "marker": {
             "colorbar": {
              "outlinewidth": 0,
              "ticks": ""
             }
            },
            "type": "scattermapbox"
           }
          ],
          "scatterpolar": [
           {
            "marker": {
             "colorbar": {
              "outlinewidth": 0,
              "ticks": ""
             }
            },
            "type": "scatterpolar"
           }
          ],
          "scatterpolargl": [
           {
            "marker": {
             "colorbar": {
              "outlinewidth": 0,
              "ticks": ""
             }
            },
            "type": "scatterpolargl"
           }
          ],
          "scatterternary": [
           {
            "marker": {
             "colorbar": {
              "outlinewidth": 0,
              "ticks": ""
             }
            },
            "type": "scatterternary"
           }
          ],
          "surface": [
           {
            "colorbar": {
             "outlinewidth": 0,
             "ticks": ""
            },
            "colorscale": [
             [
              0,
              "#0d0887"
             ],
             [
              0.1111111111111111,
              "#46039f"
             ],
             [
              0.2222222222222222,
              "#7201a8"
             ],
             [
              0.3333333333333333,
              "#9c179e"
             ],
             [
              0.4444444444444444,
              "#bd3786"
             ],
             [
              0.5555555555555556,
              "#d8576b"
             ],
             [
              0.6666666666666666,
              "#ed7953"
             ],
             [
              0.7777777777777778,
              "#fb9f3a"
             ],
             [
              0.8888888888888888,
              "#fdca26"
             ],
             [
              1,
              "#f0f921"
             ]
            ],
            "type": "surface"
           }
          ],
          "table": [
           {
            "cells": {
             "fill": {
              "color": "#EBF0F8"
             },
             "line": {
              "color": "white"
             }
            },
            "header": {
             "fill": {
              "color": "#C8D4E3"
             },
             "line": {
              "color": "white"
             }
            },
            "type": "table"
           }
          ]
         },
         "layout": {
          "annotationdefaults": {
           "arrowcolor": "#2a3f5f",
           "arrowhead": 0,
           "arrowwidth": 1
          },
          "autotypenumbers": "strict",
          "coloraxis": {
           "colorbar": {
            "outlinewidth": 0,
            "ticks": ""
           }
          },
          "colorscale": {
           "diverging": [
            [
             0,
             "#8e0152"
            ],
            [
             0.1,
             "#c51b7d"
            ],
            [
             0.2,
             "#de77ae"
            ],
            [
             0.3,
             "#f1b6da"
            ],
            [
             0.4,
             "#fde0ef"
            ],
            [
             0.5,
             "#f7f7f7"
            ],
            [
             0.6,
             "#e6f5d0"
            ],
            [
             0.7,
             "#b8e186"
            ],
            [
             0.8,
             "#7fbc41"
            ],
            [
             0.9,
             "#4d9221"
            ],
            [
             1,
             "#276419"
            ]
           ],
           "sequential": [
            [
             0,
             "#0d0887"
            ],
            [
             0.1111111111111111,
             "#46039f"
            ],
            [
             0.2222222222222222,
             "#7201a8"
            ],
            [
             0.3333333333333333,
             "#9c179e"
            ],
            [
             0.4444444444444444,
             "#bd3786"
            ],
            [
             0.5555555555555556,
             "#d8576b"
            ],
            [
             0.6666666666666666,
             "#ed7953"
            ],
            [
             0.7777777777777778,
             "#fb9f3a"
            ],
            [
             0.8888888888888888,
             "#fdca26"
            ],
            [
             1,
             "#f0f921"
            ]
           ],
           "sequentialminus": [
            [
             0,
             "#0d0887"
            ],
            [
             0.1111111111111111,
             "#46039f"
            ],
            [
             0.2222222222222222,
             "#7201a8"
            ],
            [
             0.3333333333333333,
             "#9c179e"
            ],
            [
             0.4444444444444444,
             "#bd3786"
            ],
            [
             0.5555555555555556,
             "#d8576b"
            ],
            [
             0.6666666666666666,
             "#ed7953"
            ],
            [
             0.7777777777777778,
             "#fb9f3a"
            ],
            [
             0.8888888888888888,
             "#fdca26"
            ],
            [
             1,
             "#f0f921"
            ]
           ]
          },
          "colorway": [
           "#636efa",
           "#EF553B",
           "#00cc96",
           "#ab63fa",
           "#FFA15A",
           "#19d3f3",
           "#FF6692",
           "#B6E880",
           "#FF97FF",
           "#FECB52"
          ],
          "font": {
           "color": "#2a3f5f"
          },
          "geo": {
           "bgcolor": "white",
           "lakecolor": "white",
           "landcolor": "#E5ECF6",
           "showlakes": true,
           "showland": true,
           "subunitcolor": "white"
          },
          "hoverlabel": {
           "align": "left"
          },
          "hovermode": "closest",
          "mapbox": {
           "style": "light"
          },
          "paper_bgcolor": "white",
          "plot_bgcolor": "#E5ECF6",
          "polar": {
           "angularaxis": {
            "gridcolor": "white",
            "linecolor": "white",
            "ticks": ""
           },
           "bgcolor": "#E5ECF6",
           "radialaxis": {
            "gridcolor": "white",
            "linecolor": "white",
            "ticks": ""
           }
          },
          "scene": {
           "xaxis": {
            "backgroundcolor": "#E5ECF6",
            "gridcolor": "white",
            "gridwidth": 2,
            "linecolor": "white",
            "showbackground": true,
            "ticks": "",
            "zerolinecolor": "white"
           },
           "yaxis": {
            "backgroundcolor": "#E5ECF6",
            "gridcolor": "white",
            "gridwidth": 2,
            "linecolor": "white",
            "showbackground": true,
            "ticks": "",
            "zerolinecolor": "white"
           },
           "zaxis": {
            "backgroundcolor": "#E5ECF6",
            "gridcolor": "white",
            "gridwidth": 2,
            "linecolor": "white",
            "showbackground": true,
            "ticks": "",
            "zerolinecolor": "white"
           }
          },
          "shapedefaults": {
           "line": {
            "color": "#2a3f5f"
           }
          },
          "ternary": {
           "aaxis": {
            "gridcolor": "white",
            "linecolor": "white",
            "ticks": ""
           },
           "baxis": {
            "gridcolor": "white",
            "linecolor": "white",
            "ticks": ""
           },
           "bgcolor": "#E5ECF6",
           "caxis": {
            "gridcolor": "white",
            "linecolor": "white",
            "ticks": ""
           }
          },
          "title": {
           "x": 0.05
          },
          "xaxis": {
           "automargin": true,
           "gridcolor": "white",
           "linecolor": "white",
           "ticks": "",
           "title": {
            "standoff": 15
           },
           "zerolinecolor": "white",
           "zerolinewidth": 2
          },
          "yaxis": {
           "automargin": true,
           "gridcolor": "white",
           "linecolor": "white",
           "ticks": "",
           "title": {
            "standoff": 15
           },
           "zerolinecolor": "white",
           "zerolinewidth": 2
          }
         }
        },
        "width": 800,
        "xaxis": {
         "anchor": "y",
         "domain": [
          0,
          0.22999999999999998
         ],
         "title": {
          "text": "x1"
         }
        },
        "xaxis10": {
         "anchor": "y10",
         "domain": [
          0.24999999999999997,
          0.48
         ],
         "matches": "x",
         "showticklabels": false
        },
        "xaxis11": {
         "anchor": "y11",
         "domain": [
          0.49999999999999994,
          0.73
         ],
         "matches": "x",
         "showticklabels": false
        },
        "xaxis12": {
         "anchor": "y12",
         "domain": [
          0.75,
          0.98
         ],
         "matches": "x",
         "showticklabels": false
        },
        "xaxis13": {
         "anchor": "y13",
         "domain": [
          0,
          0.22999999999999998
         ],
         "matches": "x",
         "showticklabels": false
        },
        "xaxis14": {
         "anchor": "y14",
         "domain": [
          0.24999999999999997,
          0.48
         ],
         "matches": "x",
         "showticklabels": false
        },
        "xaxis15": {
         "anchor": "y15",
         "domain": [
          0.49999999999999994,
          0.73
         ],
         "matches": "x",
         "showticklabels": false
        },
        "xaxis16": {
         "anchor": "y16",
         "domain": [
          0.75,
          0.98
         ],
         "matches": "x",
         "showticklabels": false
        },
        "xaxis2": {
         "anchor": "y2",
         "domain": [
          0.24999999999999997,
          0.48
         ],
         "matches": "x",
         "title": {
          "text": "x1"
         }
        },
        "xaxis3": {
         "anchor": "y3",
         "domain": [
          0.49999999999999994,
          0.73
         ],
         "matches": "x",
         "title": {
          "text": "x1"
         }
        },
        "xaxis4": {
         "anchor": "y4",
         "domain": [
          0.75,
          0.98
         ],
         "matches": "x",
         "title": {
          "text": "x1"
         }
        },
        "xaxis5": {
         "anchor": "y5",
         "domain": [
          0,
          0.22999999999999998
         ],
         "matches": "x",
         "showticklabels": false
        },
        "xaxis6": {
         "anchor": "y6",
         "domain": [
          0.24999999999999997,
          0.48
         ],
         "matches": "x",
         "showticklabels": false
        },
        "xaxis7": {
         "anchor": "y7",
         "domain": [
          0.49999999999999994,
          0.73
         ],
         "matches": "x",
         "showticklabels": false
        },
        "xaxis8": {
         "anchor": "y8",
         "domain": [
          0.75,
          0.98
         ],
         "matches": "x",
         "showticklabels": false
        },
        "xaxis9": {
         "anchor": "y9",
         "domain": [
          0,
          0.22999999999999998
         ],
         "matches": "x",
         "showticklabels": false
        },
        "yaxis": {
         "anchor": "x",
         "domain": [
          0,
          0.2275
         ],
         "title": {
          "text": "x2"
         }
        },
        "yaxis10": {
         "anchor": "x10",
         "domain": [
          0.515,
          0.7425
         ],
         "matches": "y",
         "showticklabels": false
        },
        "yaxis11": {
         "anchor": "x11",
         "domain": [
          0.515,
          0.7425
         ],
         "matches": "y",
         "showticklabels": false
        },
        "yaxis12": {
         "anchor": "x12",
         "domain": [
          0.515,
          0.7425
         ],
         "matches": "y",
         "showticklabels": false
        },
        "yaxis13": {
         "anchor": "x13",
         "domain": [
          0.7725,
          1
         ],
         "matches": "y",
         "title": {
          "text": "x2"
         }
        },
        "yaxis14": {
         "anchor": "x14",
         "domain": [
          0.7725,
          1
         ],
         "matches": "y",
         "showticklabels": false
        },
        "yaxis15": {
         "anchor": "x15",
         "domain": [
          0.7725,
          1
         ],
         "matches": "y",
         "showticklabels": false
        },
        "yaxis16": {
         "anchor": "x16",
         "domain": [
          0.7725,
          1
         ],
         "matches": "y",
         "showticklabels": false
        },
        "yaxis2": {
         "anchor": "x2",
         "domain": [
          0,
          0.2275
         ],
         "matches": "y",
         "showticklabels": false
        },
        "yaxis3": {
         "anchor": "x3",
         "domain": [
          0,
          0.2275
         ],
         "matches": "y",
         "showticklabels": false
        },
        "yaxis4": {
         "anchor": "x4",
         "domain": [
          0,
          0.2275
         ],
         "matches": "y",
         "showticklabels": false
        },
        "yaxis5": {
         "anchor": "x5",
         "domain": [
          0.2575,
          0.485
         ],
         "matches": "y",
         "title": {
          "text": "x2"
         }
        },
        "yaxis6": {
         "anchor": "x6",
         "domain": [
          0.2575,
          0.485
         ],
         "matches": "y",
         "showticklabels": false
        },
        "yaxis7": {
         "anchor": "x7",
         "domain": [
          0.2575,
          0.485
         ],
         "matches": "y",
         "showticklabels": false
        },
        "yaxis8": {
         "anchor": "x8",
         "domain": [
          0.2575,
          0.485
         ],
         "matches": "y",
         "showticklabels": false
        },
        "yaxis9": {
         "anchor": "x9",
         "domain": [
          0.515,
          0.7425
         ],
         "matches": "y",
         "title": {
          "text": "x2"
         }
        }
       }
      }
     },
     "metadata": {},
     "output_type": "display_data"
    }
   ],
   "source": [
    "fig = px.scatter(\n",
    "    compare_df,\n",
    "    x=\"x1\",\n",
    "    y=\"x2\",\n",
    "    facet_row=\"num_samples\",\n",
    "    facet_col=\"name\",\n",
    "    width=800,\n",
    "    height=800,\n",
    ")\n",
    "plot_and_save(\n",
    "    \"traditional-doe-compare\",\n",
    "    fig,\n",
    "    show=True,\n",
    "    mpl_kwargs=dict(width_inches=7.5, height_inches=8.0),\n",
    ")\n"
   ]
  },
  {
   "attachments": {},
   "cell_type": "markdown",
   "metadata": {},
   "source": [
    "### Worsening performance in higher dimensions\n",
    "\n",
    "As we observe the discrepancy associated with sampling methods in higher dimensions, we\n",
    "notice that the gap between the quasi-random methods and the random and grid methods\n",
    "widens. In other words, quasi-random methods increasingly outperform random and grid as\n",
    "the dimensionality increases."
   ]
  },
  {
   "cell_type": "code",
   "execution_count": 14,
   "metadata": {},
   "outputs": [
    {
     "name": "stdout",
     "output_type": "stream",
     "text": [
      "3\n",
      "3\n",
      "3\n"
     ]
    }
   ],
   "source": [
    "one = get_grid_samples(dict(x1=bounds[\"x1\"]), num_samples=3**1)\n",
    "two = get_grid_samples(dict(x1=bounds[\"x1\"], x2=bounds[\"x2\"]), num_samples=3**2)\n",
    "three = get_grid_samples(\n",
    "    dict(x1=bounds[\"x1\"], x2=bounds[\"x2\"], x3=[0.0, 1.0]), num_samples=3**3\n",
    ")\n"
   ]
  },
  {
   "cell_type": "code",
   "execution_count": 15,
   "metadata": {},
   "outputs": [
    {
     "data": {
      "application/vnd.plotly.v1+json": {
       "config": {
        "plotlyServerURL": "https://plot.ly"
       },
       "data": [
        {
         "marker": {
          "size": 20
         },
         "mode": "markers",
         "type": "scatter",
         "x": [
          0,
          0.5,
          1
         ],
         "y": [
          0,
          0,
          0
         ]
        }
       ],
       "layout": {
        "height": 200,
        "plot_bgcolor": "white",
        "template": {
         "data": {
          "bar": [
           {
            "error_x": {
             "color": "#2a3f5f"
            },
            "error_y": {
             "color": "#2a3f5f"
            },
            "marker": {
             "line": {
              "color": "#E5ECF6",
              "width": 0.5
             },
             "pattern": {
              "fillmode": "overlay",
              "size": 10,
              "solidity": 0.2
             }
            },
            "type": "bar"
           }
          ],
          "barpolar": [
           {
            "marker": {
             "line": {
              "color": "#E5ECF6",
              "width": 0.5
             },
             "pattern": {
              "fillmode": "overlay",
              "size": 10,
              "solidity": 0.2
             }
            },
            "type": "barpolar"
           }
          ],
          "carpet": [
           {
            "aaxis": {
             "endlinecolor": "#2a3f5f",
             "gridcolor": "white",
             "linecolor": "white",
             "minorgridcolor": "white",
             "startlinecolor": "#2a3f5f"
            },
            "baxis": {
             "endlinecolor": "#2a3f5f",
             "gridcolor": "white",
             "linecolor": "white",
             "minorgridcolor": "white",
             "startlinecolor": "#2a3f5f"
            },
            "type": "carpet"
           }
          ],
          "choropleth": [
           {
            "colorbar": {
             "outlinewidth": 0,
             "ticks": ""
            },
            "type": "choropleth"
           }
          ],
          "contour": [
           {
            "colorbar": {
             "outlinewidth": 0,
             "ticks": ""
            },
            "colorscale": [
             [
              0,
              "#0d0887"
             ],
             [
              0.1111111111111111,
              "#46039f"
             ],
             [
              0.2222222222222222,
              "#7201a8"
             ],
             [
              0.3333333333333333,
              "#9c179e"
             ],
             [
              0.4444444444444444,
              "#bd3786"
             ],
             [
              0.5555555555555556,
              "#d8576b"
             ],
             [
              0.6666666666666666,
              "#ed7953"
             ],
             [
              0.7777777777777778,
              "#fb9f3a"
             ],
             [
              0.8888888888888888,
              "#fdca26"
             ],
             [
              1,
              "#f0f921"
             ]
            ],
            "type": "contour"
           }
          ],
          "contourcarpet": [
           {
            "colorbar": {
             "outlinewidth": 0,
             "ticks": ""
            },
            "type": "contourcarpet"
           }
          ],
          "heatmap": [
           {
            "colorbar": {
             "outlinewidth": 0,
             "ticks": ""
            },
            "colorscale": [
             [
              0,
              "#0d0887"
             ],
             [
              0.1111111111111111,
              "#46039f"
             ],
             [
              0.2222222222222222,
              "#7201a8"
             ],
             [
              0.3333333333333333,
              "#9c179e"
             ],
             [
              0.4444444444444444,
              "#bd3786"
             ],
             [
              0.5555555555555556,
              "#d8576b"
             ],
             [
              0.6666666666666666,
              "#ed7953"
             ],
             [
              0.7777777777777778,
              "#fb9f3a"
             ],
             [
              0.8888888888888888,
              "#fdca26"
             ],
             [
              1,
              "#f0f921"
             ]
            ],
            "type": "heatmap"
           }
          ],
          "heatmapgl": [
           {
            "colorbar": {
             "outlinewidth": 0,
             "ticks": ""
            },
            "colorscale": [
             [
              0,
              "#0d0887"
             ],
             [
              0.1111111111111111,
              "#46039f"
             ],
             [
              0.2222222222222222,
              "#7201a8"
             ],
             [
              0.3333333333333333,
              "#9c179e"
             ],
             [
              0.4444444444444444,
              "#bd3786"
             ],
             [
              0.5555555555555556,
              "#d8576b"
             ],
             [
              0.6666666666666666,
              "#ed7953"
             ],
             [
              0.7777777777777778,
              "#fb9f3a"
             ],
             [
              0.8888888888888888,
              "#fdca26"
             ],
             [
              1,
              "#f0f921"
             ]
            ],
            "type": "heatmapgl"
           }
          ],
          "histogram": [
           {
            "marker": {
             "pattern": {
              "fillmode": "overlay",
              "size": 10,
              "solidity": 0.2
             }
            },
            "type": "histogram"
           }
          ],
          "histogram2d": [
           {
            "colorbar": {
             "outlinewidth": 0,
             "ticks": ""
            },
            "colorscale": [
             [
              0,
              "#0d0887"
             ],
             [
              0.1111111111111111,
              "#46039f"
             ],
             [
              0.2222222222222222,
              "#7201a8"
             ],
             [
              0.3333333333333333,
              "#9c179e"
             ],
             [
              0.4444444444444444,
              "#bd3786"
             ],
             [
              0.5555555555555556,
              "#d8576b"
             ],
             [
              0.6666666666666666,
              "#ed7953"
             ],
             [
              0.7777777777777778,
              "#fb9f3a"
             ],
             [
              0.8888888888888888,
              "#fdca26"
             ],
             [
              1,
              "#f0f921"
             ]
            ],
            "type": "histogram2d"
           }
          ],
          "histogram2dcontour": [
           {
            "colorbar": {
             "outlinewidth": 0,
             "ticks": ""
            },
            "colorscale": [
             [
              0,
              "#0d0887"
             ],
             [
              0.1111111111111111,
              "#46039f"
             ],
             [
              0.2222222222222222,
              "#7201a8"
             ],
             [
              0.3333333333333333,
              "#9c179e"
             ],
             [
              0.4444444444444444,
              "#bd3786"
             ],
             [
              0.5555555555555556,
              "#d8576b"
             ],
             [
              0.6666666666666666,
              "#ed7953"
             ],
             [
              0.7777777777777778,
              "#fb9f3a"
             ],
             [
              0.8888888888888888,
              "#fdca26"
             ],
             [
              1,
              "#f0f921"
             ]
            ],
            "type": "histogram2dcontour"
           }
          ],
          "mesh3d": [
           {
            "colorbar": {
             "outlinewidth": 0,
             "ticks": ""
            },
            "type": "mesh3d"
           }
          ],
          "parcoords": [
           {
            "line": {
             "colorbar": {
              "outlinewidth": 0,
              "ticks": ""
             }
            },
            "type": "parcoords"
           }
          ],
          "pie": [
           {
            "automargin": true,
            "type": "pie"
           }
          ],
          "scatter": [
           {
            "fillpattern": {
             "fillmode": "overlay",
             "size": 10,
             "solidity": 0.2
            },
            "type": "scatter"
           }
          ],
          "scatter3d": [
           {
            "line": {
             "colorbar": {
              "outlinewidth": 0,
              "ticks": ""
             }
            },
            "marker": {
             "colorbar": {
              "outlinewidth": 0,
              "ticks": ""
             }
            },
            "type": "scatter3d"
           }
          ],
          "scattercarpet": [
           {
            "marker": {
             "colorbar": {
              "outlinewidth": 0,
              "ticks": ""
             }
            },
            "type": "scattercarpet"
           }
          ],
          "scattergeo": [
           {
            "marker": {
             "colorbar": {
              "outlinewidth": 0,
              "ticks": ""
             }
            },
            "type": "scattergeo"
           }
          ],
          "scattergl": [
           {
            "marker": {
             "colorbar": {
              "outlinewidth": 0,
              "ticks": ""
             }
            },
            "type": "scattergl"
           }
          ],
          "scattermapbox": [
           {
            "marker": {
             "colorbar": {
              "outlinewidth": 0,
              "ticks": ""
             }
            },
            "type": "scattermapbox"
           }
          ],
          "scatterpolar": [
           {
            "marker": {
             "colorbar": {
              "outlinewidth": 0,
              "ticks": ""
             }
            },
            "type": "scatterpolar"
           }
          ],
          "scatterpolargl": [
           {
            "marker": {
             "colorbar": {
              "outlinewidth": 0,
              "ticks": ""
             }
            },
            "type": "scatterpolargl"
           }
          ],
          "scatterternary": [
           {
            "marker": {
             "colorbar": {
              "outlinewidth": 0,
              "ticks": ""
             }
            },
            "type": "scatterternary"
           }
          ],
          "surface": [
           {
            "colorbar": {
             "outlinewidth": 0,
             "ticks": ""
            },
            "colorscale": [
             [
              0,
              "#0d0887"
             ],
             [
              0.1111111111111111,
              "#46039f"
             ],
             [
              0.2222222222222222,
              "#7201a8"
             ],
             [
              0.3333333333333333,
              "#9c179e"
             ],
             [
              0.4444444444444444,
              "#bd3786"
             ],
             [
              0.5555555555555556,
              "#d8576b"
             ],
             [
              0.6666666666666666,
              "#ed7953"
             ],
             [
              0.7777777777777778,
              "#fb9f3a"
             ],
             [
              0.8888888888888888,
              "#fdca26"
             ],
             [
              1,
              "#f0f921"
             ]
            ],
            "type": "surface"
           }
          ],
          "table": [
           {
            "cells": {
             "fill": {
              "color": "#EBF0F8"
             },
             "line": {
              "color": "white"
             }
            },
            "header": {
             "fill": {
              "color": "#C8D4E3"
             },
             "line": {
              "color": "white"
             }
            },
            "type": "table"
           }
          ]
         },
         "layout": {
          "annotationdefaults": {
           "arrowcolor": "#2a3f5f",
           "arrowhead": 0,
           "arrowwidth": 1
          },
          "autotypenumbers": "strict",
          "coloraxis": {
           "colorbar": {
            "outlinewidth": 0,
            "ticks": ""
           }
          },
          "colorscale": {
           "diverging": [
            [
             0,
             "#8e0152"
            ],
            [
             0.1,
             "#c51b7d"
            ],
            [
             0.2,
             "#de77ae"
            ],
            [
             0.3,
             "#f1b6da"
            ],
            [
             0.4,
             "#fde0ef"
            ],
            [
             0.5,
             "#f7f7f7"
            ],
            [
             0.6,
             "#e6f5d0"
            ],
            [
             0.7,
             "#b8e186"
            ],
            [
             0.8,
             "#7fbc41"
            ],
            [
             0.9,
             "#4d9221"
            ],
            [
             1,
             "#276419"
            ]
           ],
           "sequential": [
            [
             0,
             "#0d0887"
            ],
            [
             0.1111111111111111,
             "#46039f"
            ],
            [
             0.2222222222222222,
             "#7201a8"
            ],
            [
             0.3333333333333333,
             "#9c179e"
            ],
            [
             0.4444444444444444,
             "#bd3786"
            ],
            [
             0.5555555555555556,
             "#d8576b"
            ],
            [
             0.6666666666666666,
             "#ed7953"
            ],
            [
             0.7777777777777778,
             "#fb9f3a"
            ],
            [
             0.8888888888888888,
             "#fdca26"
            ],
            [
             1,
             "#f0f921"
            ]
           ],
           "sequentialminus": [
            [
             0,
             "#0d0887"
            ],
            [
             0.1111111111111111,
             "#46039f"
            ],
            [
             0.2222222222222222,
             "#7201a8"
            ],
            [
             0.3333333333333333,
             "#9c179e"
            ],
            [
             0.4444444444444444,
             "#bd3786"
            ],
            [
             0.5555555555555556,
             "#d8576b"
            ],
            [
             0.6666666666666666,
             "#ed7953"
            ],
            [
             0.7777777777777778,
             "#fb9f3a"
            ],
            [
             0.8888888888888888,
             "#fdca26"
            ],
            [
             1,
             "#f0f921"
            ]
           ]
          },
          "colorway": [
           "#636efa",
           "#EF553B",
           "#00cc96",
           "#ab63fa",
           "#FFA15A",
           "#19d3f3",
           "#FF6692",
           "#B6E880",
           "#FF97FF",
           "#FECB52"
          ],
          "font": {
           "color": "#2a3f5f"
          },
          "geo": {
           "bgcolor": "white",
           "lakecolor": "white",
           "landcolor": "#E5ECF6",
           "showlakes": true,
           "showland": true,
           "subunitcolor": "white"
          },
          "hoverlabel": {
           "align": "left"
          },
          "hovermode": "closest",
          "mapbox": {
           "style": "light"
          },
          "paper_bgcolor": "white",
          "plot_bgcolor": "#E5ECF6",
          "polar": {
           "angularaxis": {
            "gridcolor": "white",
            "linecolor": "white",
            "ticks": ""
           },
           "bgcolor": "#E5ECF6",
           "radialaxis": {
            "gridcolor": "white",
            "linecolor": "white",
            "ticks": ""
           }
          },
          "scene": {
           "xaxis": {
            "backgroundcolor": "#E5ECF6",
            "gridcolor": "white",
            "gridwidth": 2,
            "linecolor": "white",
            "showbackground": true,
            "ticks": "",
            "zerolinecolor": "white"
           },
           "yaxis": {
            "backgroundcolor": "#E5ECF6",
            "gridcolor": "white",
            "gridwidth": 2,
            "linecolor": "white",
            "showbackground": true,
            "ticks": "",
            "zerolinecolor": "white"
           },
           "zaxis": {
            "backgroundcolor": "#E5ECF6",
            "gridcolor": "white",
            "gridwidth": 2,
            "linecolor": "white",
            "showbackground": true,
            "ticks": "",
            "zerolinecolor": "white"
           }
          },
          "shapedefaults": {
           "line": {
            "color": "#2a3f5f"
           }
          },
          "ternary": {
           "aaxis": {
            "gridcolor": "white",
            "linecolor": "white",
            "ticks": ""
           },
           "baxis": {
            "gridcolor": "white",
            "linecolor": "white",
            "ticks": ""
           },
           "bgcolor": "#E5ECF6",
           "caxis": {
            "gridcolor": "white",
            "linecolor": "white",
            "ticks": ""
           }
          },
          "title": {
           "x": 0.05
          },
          "xaxis": {
           "automargin": true,
           "gridcolor": "white",
           "linecolor": "white",
           "ticks": "",
           "title": {
            "standoff": 15
           },
           "zerolinecolor": "white",
           "zerolinewidth": 2
          },
          "yaxis": {
           "automargin": true,
           "gridcolor": "white",
           "linecolor": "white",
           "ticks": "",
           "title": {
            "standoff": 15
           },
           "zerolinecolor": "white",
           "zerolinewidth": 2
          }
         }
        },
        "xaxis": {
         "showgrid": false
        },
        "yaxis": {
         "showgrid": false,
         "showticklabels": false,
         "zeroline": true,
         "zerolinecolor": "black",
         "zerolinewidth": 3
        }
       }
      }
     },
     "metadata": {},
     "output_type": "display_data"
    }
   ],
   "source": [
    "# https://community.plotly.com/t/plotting-a-simple-1d-number-line/39169/4\n",
    "import plotly.graph_objects as go\n",
    "fig = go.Figure()\n",
    "x = one[\"x1\"]\n",
    "fig.add_trace(go.Scatter(\n",
    "    x=x, y=[0] * len(x), mode='markers', marker_size=20,\n",
    "))\n",
    "fig.update_xaxes(showgrid=False)\n",
    "fig.update_yaxes(showgrid=False, \n",
    "                 zeroline=True, zerolinecolor='black', zerolinewidth=3,\n",
    "                 showticklabels=False)\n",
    "fig.update_layout(height=200, plot_bgcolor='white')\n",
    "fig.show()\n",
    "\n",
    "# px.scatter(one, x=\"x1\", y=[0]*3)"
   ]
  },
  {
   "cell_type": "code",
   "execution_count": 16,
   "metadata": {},
   "outputs": [
    {
     "data": {
      "application/vnd.plotly.v1+json": {
       "config": {
        "plotlyServerURL": "https://plot.ly"
       },
       "data": [
        {
         "hovertemplate": "x1=%{x}<br>x2=%{y}<extra></extra>",
         "legendgroup": "",
         "marker": {
          "color": "#636efa",
          "symbol": "circle"
         },
         "mode": "markers",
         "name": "",
         "orientation": "v",
         "showlegend": false,
         "type": "scatter",
         "x": [
          0,
          0,
          0,
          0.5,
          0.5,
          0.5,
          1,
          1,
          1
         ],
         "xaxis": "x",
         "y": [
          0,
          0.5,
          1,
          0,
          0.5,
          1,
          0,
          0.5,
          1
         ],
         "yaxis": "y"
        }
       ],
       "layout": {
        "height": 400,
        "legend": {
         "tracegroupgap": 0
        },
        "margin": {
         "t": 60
        },
        "template": {
         "data": {
          "bar": [
           {
            "error_x": {
             "color": "#2a3f5f"
            },
            "error_y": {
             "color": "#2a3f5f"
            },
            "marker": {
             "line": {
              "color": "#E5ECF6",
              "width": 0.5
             },
             "pattern": {
              "fillmode": "overlay",
              "size": 10,
              "solidity": 0.2
             }
            },
            "type": "bar"
           }
          ],
          "barpolar": [
           {
            "marker": {
             "line": {
              "color": "#E5ECF6",
              "width": 0.5
             },
             "pattern": {
              "fillmode": "overlay",
              "size": 10,
              "solidity": 0.2
             }
            },
            "type": "barpolar"
           }
          ],
          "carpet": [
           {
            "aaxis": {
             "endlinecolor": "#2a3f5f",
             "gridcolor": "white",
             "linecolor": "white",
             "minorgridcolor": "white",
             "startlinecolor": "#2a3f5f"
            },
            "baxis": {
             "endlinecolor": "#2a3f5f",
             "gridcolor": "white",
             "linecolor": "white",
             "minorgridcolor": "white",
             "startlinecolor": "#2a3f5f"
            },
            "type": "carpet"
           }
          ],
          "choropleth": [
           {
            "colorbar": {
             "outlinewidth": 0,
             "ticks": ""
            },
            "type": "choropleth"
           }
          ],
          "contour": [
           {
            "colorbar": {
             "outlinewidth": 0,
             "ticks": ""
            },
            "colorscale": [
             [
              0,
              "#0d0887"
             ],
             [
              0.1111111111111111,
              "#46039f"
             ],
             [
              0.2222222222222222,
              "#7201a8"
             ],
             [
              0.3333333333333333,
              "#9c179e"
             ],
             [
              0.4444444444444444,
              "#bd3786"
             ],
             [
              0.5555555555555556,
              "#d8576b"
             ],
             [
              0.6666666666666666,
              "#ed7953"
             ],
             [
              0.7777777777777778,
              "#fb9f3a"
             ],
             [
              0.8888888888888888,
              "#fdca26"
             ],
             [
              1,
              "#f0f921"
             ]
            ],
            "type": "contour"
           }
          ],
          "contourcarpet": [
           {
            "colorbar": {
             "outlinewidth": 0,
             "ticks": ""
            },
            "type": "contourcarpet"
           }
          ],
          "heatmap": [
           {
            "colorbar": {
             "outlinewidth": 0,
             "ticks": ""
            },
            "colorscale": [
             [
              0,
              "#0d0887"
             ],
             [
              0.1111111111111111,
              "#46039f"
             ],
             [
              0.2222222222222222,
              "#7201a8"
             ],
             [
              0.3333333333333333,
              "#9c179e"
             ],
             [
              0.4444444444444444,
              "#bd3786"
             ],
             [
              0.5555555555555556,
              "#d8576b"
             ],
             [
              0.6666666666666666,
              "#ed7953"
             ],
             [
              0.7777777777777778,
              "#fb9f3a"
             ],
             [
              0.8888888888888888,
              "#fdca26"
             ],
             [
              1,
              "#f0f921"
             ]
            ],
            "type": "heatmap"
           }
          ],
          "heatmapgl": [
           {
            "colorbar": {
             "outlinewidth": 0,
             "ticks": ""
            },
            "colorscale": [
             [
              0,
              "#0d0887"
             ],
             [
              0.1111111111111111,
              "#46039f"
             ],
             [
              0.2222222222222222,
              "#7201a8"
             ],
             [
              0.3333333333333333,
              "#9c179e"
             ],
             [
              0.4444444444444444,
              "#bd3786"
             ],
             [
              0.5555555555555556,
              "#d8576b"
             ],
             [
              0.6666666666666666,
              "#ed7953"
             ],
             [
              0.7777777777777778,
              "#fb9f3a"
             ],
             [
              0.8888888888888888,
              "#fdca26"
             ],
             [
              1,
              "#f0f921"
             ]
            ],
            "type": "heatmapgl"
           }
          ],
          "histogram": [
           {
            "marker": {
             "pattern": {
              "fillmode": "overlay",
              "size": 10,
              "solidity": 0.2
             }
            },
            "type": "histogram"
           }
          ],
          "histogram2d": [
           {
            "colorbar": {
             "outlinewidth": 0,
             "ticks": ""
            },
            "colorscale": [
             [
              0,
              "#0d0887"
             ],
             [
              0.1111111111111111,
              "#46039f"
             ],
             [
              0.2222222222222222,
              "#7201a8"
             ],
             [
              0.3333333333333333,
              "#9c179e"
             ],
             [
              0.4444444444444444,
              "#bd3786"
             ],
             [
              0.5555555555555556,
              "#d8576b"
             ],
             [
              0.6666666666666666,
              "#ed7953"
             ],
             [
              0.7777777777777778,
              "#fb9f3a"
             ],
             [
              0.8888888888888888,
              "#fdca26"
             ],
             [
              1,
              "#f0f921"
             ]
            ],
            "type": "histogram2d"
           }
          ],
          "histogram2dcontour": [
           {
            "colorbar": {
             "outlinewidth": 0,
             "ticks": ""
            },
            "colorscale": [
             [
              0,
              "#0d0887"
             ],
             [
              0.1111111111111111,
              "#46039f"
             ],
             [
              0.2222222222222222,
              "#7201a8"
             ],
             [
              0.3333333333333333,
              "#9c179e"
             ],
             [
              0.4444444444444444,
              "#bd3786"
             ],
             [
              0.5555555555555556,
              "#d8576b"
             ],
             [
              0.6666666666666666,
              "#ed7953"
             ],
             [
              0.7777777777777778,
              "#fb9f3a"
             ],
             [
              0.8888888888888888,
              "#fdca26"
             ],
             [
              1,
              "#f0f921"
             ]
            ],
            "type": "histogram2dcontour"
           }
          ],
          "mesh3d": [
           {
            "colorbar": {
             "outlinewidth": 0,
             "ticks": ""
            },
            "type": "mesh3d"
           }
          ],
          "parcoords": [
           {
            "line": {
             "colorbar": {
              "outlinewidth": 0,
              "ticks": ""
             }
            },
            "type": "parcoords"
           }
          ],
          "pie": [
           {
            "automargin": true,
            "type": "pie"
           }
          ],
          "scatter": [
           {
            "fillpattern": {
             "fillmode": "overlay",
             "size": 10,
             "solidity": 0.2
            },
            "type": "scatter"
           }
          ],
          "scatter3d": [
           {
            "line": {
             "colorbar": {
              "outlinewidth": 0,
              "ticks": ""
             }
            },
            "marker": {
             "colorbar": {
              "outlinewidth": 0,
              "ticks": ""
             }
            },
            "type": "scatter3d"
           }
          ],
          "scattercarpet": [
           {
            "marker": {
             "colorbar": {
              "outlinewidth": 0,
              "ticks": ""
             }
            },
            "type": "scattercarpet"
           }
          ],
          "scattergeo": [
           {
            "marker": {
             "colorbar": {
              "outlinewidth": 0,
              "ticks": ""
             }
            },
            "type": "scattergeo"
           }
          ],
          "scattergl": [
           {
            "marker": {
             "colorbar": {
              "outlinewidth": 0,
              "ticks": ""
             }
            },
            "type": "scattergl"
           }
          ],
          "scattermapbox": [
           {
            "marker": {
             "colorbar": {
              "outlinewidth": 0,
              "ticks": ""
             }
            },
            "type": "scattermapbox"
           }
          ],
          "scatterpolar": [
           {
            "marker": {
             "colorbar": {
              "outlinewidth": 0,
              "ticks": ""
             }
            },
            "type": "scatterpolar"
           }
          ],
          "scatterpolargl": [
           {
            "marker": {
             "colorbar": {
              "outlinewidth": 0,
              "ticks": ""
             }
            },
            "type": "scatterpolargl"
           }
          ],
          "scatterternary": [
           {
            "marker": {
             "colorbar": {
              "outlinewidth": 0,
              "ticks": ""
             }
            },
            "type": "scatterternary"
           }
          ],
          "surface": [
           {
            "colorbar": {
             "outlinewidth": 0,
             "ticks": ""
            },
            "colorscale": [
             [
              0,
              "#0d0887"
             ],
             [
              0.1111111111111111,
              "#46039f"
             ],
             [
              0.2222222222222222,
              "#7201a8"
             ],
             [
              0.3333333333333333,
              "#9c179e"
             ],
             [
              0.4444444444444444,
              "#bd3786"
             ],
             [
              0.5555555555555556,
              "#d8576b"
             ],
             [
              0.6666666666666666,
              "#ed7953"
             ],
             [
              0.7777777777777778,
              "#fb9f3a"
             ],
             [
              0.8888888888888888,
              "#fdca26"
             ],
             [
              1,
              "#f0f921"
             ]
            ],
            "type": "surface"
           }
          ],
          "table": [
           {
            "cells": {
             "fill": {
              "color": "#EBF0F8"
             },
             "line": {
              "color": "white"
             }
            },
            "header": {
             "fill": {
              "color": "#C8D4E3"
             },
             "line": {
              "color": "white"
             }
            },
            "type": "table"
           }
          ]
         },
         "layout": {
          "annotationdefaults": {
           "arrowcolor": "#2a3f5f",
           "arrowhead": 0,
           "arrowwidth": 1
          },
          "autotypenumbers": "strict",
          "coloraxis": {
           "colorbar": {
            "outlinewidth": 0,
            "ticks": ""
           }
          },
          "colorscale": {
           "diverging": [
            [
             0,
             "#8e0152"
            ],
            [
             0.1,
             "#c51b7d"
            ],
            [
             0.2,
             "#de77ae"
            ],
            [
             0.3,
             "#f1b6da"
            ],
            [
             0.4,
             "#fde0ef"
            ],
            [
             0.5,
             "#f7f7f7"
            ],
            [
             0.6,
             "#e6f5d0"
            ],
            [
             0.7,
             "#b8e186"
            ],
            [
             0.8,
             "#7fbc41"
            ],
            [
             0.9,
             "#4d9221"
            ],
            [
             1,
             "#276419"
            ]
           ],
           "sequential": [
            [
             0,
             "#0d0887"
            ],
            [
             0.1111111111111111,
             "#46039f"
            ],
            [
             0.2222222222222222,
             "#7201a8"
            ],
            [
             0.3333333333333333,
             "#9c179e"
            ],
            [
             0.4444444444444444,
             "#bd3786"
            ],
            [
             0.5555555555555556,
             "#d8576b"
            ],
            [
             0.6666666666666666,
             "#ed7953"
            ],
            [
             0.7777777777777778,
             "#fb9f3a"
            ],
            [
             0.8888888888888888,
             "#fdca26"
            ],
            [
             1,
             "#f0f921"
            ]
           ],
           "sequentialminus": [
            [
             0,
             "#0d0887"
            ],
            [
             0.1111111111111111,
             "#46039f"
            ],
            [
             0.2222222222222222,
             "#7201a8"
            ],
            [
             0.3333333333333333,
             "#9c179e"
            ],
            [
             0.4444444444444444,
             "#bd3786"
            ],
            [
             0.5555555555555556,
             "#d8576b"
            ],
            [
             0.6666666666666666,
             "#ed7953"
            ],
            [
             0.7777777777777778,
             "#fb9f3a"
            ],
            [
             0.8888888888888888,
             "#fdca26"
            ],
            [
             1,
             "#f0f921"
            ]
           ]
          },
          "colorway": [
           "#636efa",
           "#EF553B",
           "#00cc96",
           "#ab63fa",
           "#FFA15A",
           "#19d3f3",
           "#FF6692",
           "#B6E880",
           "#FF97FF",
           "#FECB52"
          ],
          "font": {
           "color": "#2a3f5f"
          },
          "geo": {
           "bgcolor": "white",
           "lakecolor": "white",
           "landcolor": "#E5ECF6",
           "showlakes": true,
           "showland": true,
           "subunitcolor": "white"
          },
          "hoverlabel": {
           "align": "left"
          },
          "hovermode": "closest",
          "mapbox": {
           "style": "light"
          },
          "paper_bgcolor": "white",
          "plot_bgcolor": "#E5ECF6",
          "polar": {
           "angularaxis": {
            "gridcolor": "white",
            "linecolor": "white",
            "ticks": ""
           },
           "bgcolor": "#E5ECF6",
           "radialaxis": {
            "gridcolor": "white",
            "linecolor": "white",
            "ticks": ""
           }
          },
          "scene": {
           "xaxis": {
            "backgroundcolor": "#E5ECF6",
            "gridcolor": "white",
            "gridwidth": 2,
            "linecolor": "white",
            "showbackground": true,
            "ticks": "",
            "zerolinecolor": "white"
           },
           "yaxis": {
            "backgroundcolor": "#E5ECF6",
            "gridcolor": "white",
            "gridwidth": 2,
            "linecolor": "white",
            "showbackground": true,
            "ticks": "",
            "zerolinecolor": "white"
           },
           "zaxis": {
            "backgroundcolor": "#E5ECF6",
            "gridcolor": "white",
            "gridwidth": 2,
            "linecolor": "white",
            "showbackground": true,
            "ticks": "",
            "zerolinecolor": "white"
           }
          },
          "shapedefaults": {
           "line": {
            "color": "#2a3f5f"
           }
          },
          "ternary": {
           "aaxis": {
            "gridcolor": "white",
            "linecolor": "white",
            "ticks": ""
           },
           "baxis": {
            "gridcolor": "white",
            "linecolor": "white",
            "ticks": ""
           },
           "bgcolor": "#E5ECF6",
           "caxis": {
            "gridcolor": "white",
            "linecolor": "white",
            "ticks": ""
           }
          },
          "title": {
           "x": 0.05
          },
          "xaxis": {
           "automargin": true,
           "gridcolor": "white",
           "linecolor": "white",
           "ticks": "",
           "title": {
            "standoff": 15
           },
           "zerolinecolor": "white",
           "zerolinewidth": 2
          },
          "yaxis": {
           "automargin": true,
           "gridcolor": "white",
           "linecolor": "white",
           "ticks": "",
           "title": {
            "standoff": 15
           },
           "zerolinecolor": "white",
           "zerolinewidth": 2
          }
         }
        },
        "width": 400,
        "xaxis": {
         "anchor": "y",
         "domain": [
          0,
          1
         ],
         "title": {
          "text": "x1"
         }
        },
        "yaxis": {
         "anchor": "x",
         "domain": [
          0,
          1
         ],
         "title": {
          "text": "x2"
         }
        }
       }
      }
     },
     "metadata": {},
     "output_type": "display_data"
    }
   ],
   "source": [
    "px.scatter(two, x=\"x1\", y=\"x2\", width=400, height=400)"
   ]
  },
  {
   "cell_type": "code",
   "execution_count": 17,
   "metadata": {},
   "outputs": [
    {
     "data": {
      "application/vnd.plotly.v1+json": {
       "config": {
        "plotlyServerURL": "https://plot.ly"
       },
       "data": [
        {
         "mode": "markers",
         "type": "scatter3d",
         "x": [
          0,
          0,
          0,
          0,
          0,
          0,
          0,
          0,
          0,
          0.5,
          0.5,
          0.5,
          0.5,
          0.5,
          0.5,
          0.5,
          0.5,
          0.5,
          1,
          1,
          1,
          1,
          1,
          1,
          1,
          1,
          1
         ],
         "y": [
          0,
          0,
          0,
          0.5,
          0.5,
          0.5,
          1,
          1,
          1,
          0,
          0,
          0,
          0.5,
          0.5,
          0.5,
          1,
          1,
          1,
          0,
          0,
          0,
          0.5,
          0.5,
          0.5,
          1,
          1,
          1
         ],
         "z": [
          0,
          0.5,
          1,
          0,
          0.5,
          1,
          0,
          0.5,
          1,
          0,
          0.5,
          1,
          0,
          0.5,
          1,
          0,
          0.5,
          1,
          0,
          0.5,
          1,
          0,
          0.5,
          1,
          0,
          0.5,
          1
         ]
        }
       ],
       "frames": [
        {
         "layout": {
          "scene": {
           "camera": {
            "eye": {
             "x": -1.25,
             "y": 2,
             "z": 1
            }
           }
          }
         }
        },
        {
         "layout": {
          "scene": {
           "camera": {
            "eye": {
             "x": -1.1996146035152038,
             "y": 2.0306217774447957,
             "z": 1
            }
           }
          }
         }
        },
        {
         "layout": {
          "scene": {
           "camera": {
            "eye": {
             "x": -1.1484794869523511,
             "y": 2.0599744823782804,
             "z": 1
            }
           }
          }
         }
        },
        {
         "layout": {
          "scene": {
           "camera": {
            "eye": {
             "x": -1.0966266080947746,
             "y": 2.088039770315343,
             "z": 1
            }
           }
          }
         }
        },
        {
         "layout": {
          "scene": {
           "camera": {
            "eye": {
             "x": -1.0440883733038762,
             "y": 2.1148001013645867,
             "z": 1
            }
           }
          }
         }
        },
        {
         "layout": {
          "scene": {
           "camera": {
            "eye": {
             "x": -0.9908976172662058,
             "y": 2.140238751190193,
             "z": 1
            }
           }
          }
         }
        },
        {
         "layout": {
          "scene": {
           "camera": {
            "eye": {
             "x": -0.9370875824728542,
             "y": 2.1643398214640834,
             "z": 1
            }
           }
          }
         }
        },
        {
         "layout": {
          "scene": {
           "camera": {
            "eye": {
             "x": -0.8826918984439749,
             "y": 2.187088249801862,
             "z": 1
            }
           }
          }
         }
        },
        {
         "layout": {
          "scene": {
           "camera": {
            "eye": {
             "x": -0.8277445607114295,
             "y": 2.20846981917631,
             "z": 1
            }
           }
          }
         }
        },
        {
         "layout": {
          "scene": {
           "camera": {
            "eye": {
             "x": -0.7722799095726883,
             "y": 2.2284711668025685,
             "z": 1
            }
           }
          }
         }
        },
        {
         "layout": {
          "scene": {
           "camera": {
            "eye": {
             "x": -0.7163326086292601,
             "y": 2.2470797924894432,
             "z": 1
            }
           }
          }
         }
        },
        {
         "layout": {
          "scene": {
           "camera": {
            "eye": {
             "x": -0.6599376231230718,
             "y": 2.264284066451617,
             "z": 1
            }
           }
          }
         }
        },
        {
         "layout": {
          "scene": {
           "camera": {
            "eye": {
             "x": -0.6031301980843282,
             "y": 2.2800732365778864,
             "z": 1
            }
           }
          }
         }
        },
        {
         "layout": {
          "scene": {
           "camera": {
            "eye": {
             "x": -0.5459458363045178,
             "y": 2.2944374351508827,
             "z": 1
            }
           }
          }
         }
        },
        {
         "layout": {
          "scene": {
           "camera": {
            "eye": {
             "x": -0.48842027614832073,
             "y": 2.307367685014072,
             "z": 1
            }
           }
          }
         }
        },
        {
         "layout": {
          "scene": {
           "camera": {
            "eye": {
             "x": -0.43058946921829766,
             "y": 2.318855905182188,
             "z": 1
            }
           }
          }
         }
        },
        {
         "layout": {
          "scene": {
           "camera": {
            "eye": {
             "x": -0.37248955788630533,
             "y": 2.3288949158915835,
             "z": 1
            }
           }
          }
         }
        },
        {
         "layout": {
          "scene": {
           "camera": {
            "eye": {
             "x": -0.3141568527056926,
             "y": 2.3374784430873485,
             "z": 1
            }
           }
          }
         }
        },
        {
         "layout": {
          "scene": {
           "camera": {
            "eye": {
             "x": -0.2556278097183856,
             "y": 2.3446011223443914,
             "z": 1
            }
           }
          }
         }
        },
        {
         "layout": {
          "scene": {
           "camera": {
            "eye": {
             "x": -0.19693900767104922,
             "y": 2.3502585022200306,
             "z": 1
            }
           }
          }
         }
        },
        {
         "layout": {
          "scene": {
           "camera": {
            "eye": {
             "x": -0.13812712515455994,
             "y": 2.3544470470359995,
             "z": 1
            }
           }
          }
         }
        },
        {
         "layout": {
          "scene": {
           "camera": {
            "eye": {
             "x": -0.07922891768108098,
             "y": 2.3571641390881295,
             "z": 1
            }
           }
          }
         }
        },
        {
         "layout": {
          "scene": {
           "camera": {
            "eye": {
             "x": -0.020281194713063666,
             "y": 2.3584080802823353,
             "z": 1
            }
           }
          }
         }
        },
        {
         "layout": {
          "scene": {
           "camera": {
            "eye": {
             "x": 0.03867920334146757,
             "y": 2.3581780931958614,
             "z": 1
            }
           }
          }
         }
        },
        {
         "layout": {
          "scene": {
           "camera": {
            "eye": {
             "x": 0.0976154281529733,
             "y": 2.3564743215631507,
             "z": 1
            }
           }
          }
         }
        },
        {
         "layout": {
          "scene": {
           "camera": {
            "eye": {
             "x": 0.15649064649940203,
             "y": 2.3532978301860137,
             "z": 1
            }
           }
          }
         }
        },
        {
         "layout": {
          "scene": {
           "camera": {
            "eye": {
             "x": 0.21526806328575931,
             "y": 2.348650604268161,
             "z": 1
            }
           }
          }
         }
        },
        {
         "layout": {
          "scene": {
           "camera": {
            "eye": {
             "x": 0.2739109445398412,
             "y": 2.3425355481745185,
             "z": 1
            }
           }
          }
         }
        },
        {
         "layout": {
          "scene": {
           "camera": {
            "eye": {
             "x": 0.33238264036977183,
             "y": 2.3349564836160908,
             "z": 1
            }
           }
          }
         }
        },
        {
         "layout": {
          "scene": {
           "camera": {
            "eye": {
             "x": 0.3906466078689931,
             "y": 2.3259181472615174,
             "z": 1
            }
           }
          }
         }
        },
        {
         "layout": {
          "scene": {
           "camera": {
            "eye": {
             "x": 0.4486664339543921,
             "y": 2.3154261877768096,
             "z": 1
            }
           }
          }
         }
        },
        {
         "layout": {
          "scene": {
           "camera": {
            "eye": {
             "x": 0.5064058581232929,
             "y": 2.3034871622951174,
             "z": 1
            }
           }
          }
         }
        },
        {
         "layout": {
          "scene": {
           "camera": {
            "eye": {
             "x": 0.5638287951150889,
             "y": 2.290108532318734,
             "z": 1
            }
           }
          }
         }
        },
        {
         "layout": {
          "scene": {
           "camera": {
            "eye": {
             "x": 0.6208993574633573,
             "y": 2.275298659055903,
             "z": 1
            }
           }
          }
         }
        },
        {
         "layout": {
          "scene": {
           "camera": {
            "eye": {
             "x": 0.6775818779243579,
             "y": 2.25906679819533,
             "z": 1
            }
           }
          }
         }
        },
        {
         "layout": {
          "scene": {
           "camera": {
            "eye": {
             "x": 0.7338409317678977,
             "y": 2.241423094121684,
             "z": 1
            }
           }
          }
         }
        },
        {
         "layout": {
          "scene": {
           "camera": {
            "eye": {
             "x": 0.7896413589166363,
             "y": 2.222378573575683,
             "z": 1
            }
           }
          }
         }
        },
        {
         "layout": {
          "scene": {
           "camera": {
            "eye": {
             "x": 0.8449482859199878,
             "y": 2.201945138762743,
             "z": 1
            }
           }
          }
         }
        },
        {
         "layout": {
          "scene": {
           "camera": {
            "eye": {
             "x": 0.8997271477488932,
             "y": 2.180135559914484,
             "z": 1
            }
           }
          }
         }
        },
        {
         "layout": {
          "scene": {
           "camera": {
            "eye": {
             "x": 0.9539437093978386,
             "y": 2.156963467307755,
             "z": 1
            }
           }
          }
         }
        },
        {
         "layout": {
          "scene": {
           "camera": {
            "eye": {
             "x": 1.0075640872806182,
             "y": 2.13244334274615,
             "z": 1
            }
           }
          }
         }
        },
        {
         "layout": {
          "scene": {
           "camera": {
            "eye": {
             "x": 1.060554770406475,
             "y": 2.1065905105093563,
             "z": 1
            }
           }
          }
         }
        },
        {
         "layout": {
          "scene": {
           "camera": {
            "eye": {
             "x": 1.1128826413233752,
             "y": 2.079421127775975,
             "z": 1
            }
           }
          }
         }
        },
        {
         "layout": {
          "scene": {
           "camera": {
            "eye": {
             "x": 1.1645149968153419,
             "y": 2.050952174525814,
             "z": 1
            }
           }
          }
         }
        },
        {
         "layout": {
          "scene": {
           "camera": {
            "eye": {
             "x": 1.215419568340899,
             "y": 2.021201442927949,
             "z": 1
            }
           }
          }
         }
        },
        {
         "layout": {
          "scene": {
           "camera": {
            "eye": {
             "x": 1.2655645421998576,
             "y": 1.9901875262212014,
             "z": 1
            }
           }
          }
         }
        },
        {
         "layout": {
          "scene": {
           "camera": {
            "eye": {
             "x": 1.3149185794158458,
             "y": 1.957929807093966,
             "z": 1
            }
           }
          }
         }
        },
        {
         "layout": {
          "scene": {
           "camera": {
            "eye": {
             "x": 1.3634508353221462,
             "y": 1.9244484455706632,
             "z": 1
            }
           }
          }
         }
        },
        {
         "layout": {
          "scene": {
           "camera": {
            "eye": {
             "x": 1.411130978838611,
             "y": 1.8897643664123798,
             "z": 1
            }
           }
          }
         }
        },
        {
         "layout": {
          "scene": {
           "camera": {
            "eye": {
             "x": 1.4579292114275977,
             "y": 1.8538992460395745,
             "z": 1
            }
           }
          }
         }
        },
        {
         "layout": {
          "scene": {
           "camera": {
            "eye": {
             "x": 1.5038162857170865,
             "y": 1.8168754989850202,
             "z": 1
            }
           }
          }
         }
        },
        {
         "layout": {
          "scene": {
           "camera": {
            "eye": {
             "x": 1.548763523779336,
             "y": 1.7787162638854501,
             "z": 1
            }
           }
          }
         }
        },
        {
         "layout": {
          "scene": {
           "camera": {
            "eye": {
             "x": 1.5927428350536517,
             "y": 1.7394453890206658,
             "z": 1
            }
           }
          }
         }
        },
        {
         "layout": {
          "scene": {
           "camera": {
            "eye": {
             "x": 1.635726733902077,
             "y": 1.6990874174091353,
             "z": 1
            }
           }
          }
         }
        },
        {
         "layout": {
          "scene": {
           "camera": {
            "eye": {
             "x": 1.6776883567870162,
             "y": 1.657667571469407,
             "z": 1
            }
           }
          }
         }
        },
        {
         "layout": {
          "scene": {
           "camera": {
            "eye": {
             "x": 1.7186014790600774,
             "y": 1.615211737256919,
             "z": 1
            }
           }
          }
         }
        },
        {
         "layout": {
          "scene": {
           "camera": {
            "eye": {
             "x": 1.7584405313516194,
             "y": 1.571746448286057,
             "z": 1
            }
           }
          }
         }
        },
        {
         "layout": {
          "scene": {
           "camera": {
            "eye": {
             "x": 1.7971806155507766,
             "y": 1.5272988689475717,
             "z": 1
            }
           }
          }
         }
        },
        {
         "layout": {
          "scene": {
           "camera": {
            "eye": {
             "x": 1.834797520365969,
             "y": 1.4818967775317184,
             "z": 1
            }
           }
          }
         }
        },
        {
         "layout": {
          "scene": {
           "camera": {
            "eye": {
             "x": 1.8712677364561698,
             "y": 1.4355685488677303,
             "z": 1
            }
           }
          }
         }
        },
        {
         "layout": {
          "scene": {
           "camera": {
            "eye": {
             "x": 1.9065684711234803,
             "y": 1.388343136590474,
             "z": 1
            }
           }
          }
         }
        },
        {
         "layout": {
          "scene": {
           "camera": {
            "eye": {
             "x": 1.9406776625578213,
             "y": 1.3402500550453675,
             "z": 1
            }
           }
          }
         }
        },
        {
         "layout": {
          "scene": {
           "camera": {
            "eye": {
             "x": 1.9735739936248484,
             "y": 1.291319360842881,
             "z": 1
            }
           }
          }
         }
        },
        {
         "layout": {
          "scene": {
           "camera": {
            "eye": {
             "x": 2.005236905188467,
             "y": 1.241581634074127,
             "z": 1
            }
           }
          }
         }
        },
        {
         "layout": {
          "scene": {
           "camera": {
            "eye": {
             "x": 2.0356466089596212,
             "y": 1.1910679591993036,
             "z": 1
            }
           }
          }
         }
        },
        {
         "layout": {
          "scene": {
           "camera": {
            "eye": {
             "x": 2.0647840998633336,
             "y": 1.1398099056209168,
             "z": 1
            }
           }
          }
         }
        },
        {
         "layout": {
          "scene": {
           "camera": {
            "eye": {
             "x": 2.0926311679162555,
             "y": 1.0878395079539305,
             "z": 1
            }
           }
          }
         }
        },
        {
         "layout": {
          "scene": {
           "camera": {
            "eye": {
             "x": 2.1191704096073143,
             "y": 1.0351892460051777,
             "z": 1
            }
           }
          }
         }
        },
        {
         "layout": {
          "scene": {
           "camera": {
            "eye": {
             "x": 2.144385238774343,
             "y": 0.981892024474536,
             "z": 1
            }
           }
          }
         }
        },
        {
         "layout": {
          "scene": {
           "camera": {
            "eye": {
             "x": 2.168259896969891,
             "y": 0.9279811523905632,
             "z": 1
            }
           }
          }
         }
        },
        {
         "layout": {
          "scene": {
           "camera": {
            "eye": {
             "x": 2.190779463309739,
             "y": 0.873490322293437,
             "z": 1
            }
           }
          }
         }
        },
        {
         "layout": {
          "scene": {
           "camera": {
            "eye": {
             "x": 2.2119298637979687,
             "y": 0.8184535891782141,
             "z": 1
            }
           }
          }
         }
        },
        {
         "layout": {
          "scene": {
           "camera": {
            "eye": {
             "x": 2.2316978801227494,
             "y": 0.7629053492115697,
             "z": 1
            }
           }
          }
         }
        },
        {
         "layout": {
          "scene": {
           "camera": {
            "eye": {
             "x": 2.2500711579173553,
             "y": 0.706880318235309,
             "z": 1
            }
           }
          }
         }
        },
        {
         "layout": {
          "scene": {
           "camera": {
            "eye": {
             "x": 2.267038214481241,
             "y": 0.650413510070099,
             "z": 1
            }
           }
          }
         }
        },
        {
         "layout": {
          "scene": {
           "camera": {
            "eye": {
             "x": 2.2825884459563555,
             "y": 0.593540214632969,
             "z": 1
            }
           }
          }
         }
        },
        {
         "layout": {
          "scene": {
           "camera": {
            "eye": {
             "x": 2.2967121339542085,
             "y": 0.5362959758822609,
             "z": 1
            }
           }
          }
         }
        },
        {
         "layout": {
          "scene": {
           "camera": {
            "eye": {
             "x": 2.309400451629547,
             "y": 0.4787165696038147,
             "z": 1
            }
           }
          }
         }
        },
        {
         "layout": {
          "scene": {
           "camera": {
            "eye": {
             "x": 2.3206454691968474,
             "y": 0.4208379810522622,
             "z": 1
            }
           }
          }
         }
        },
        {
         "layout": {
          "scene": {
           "camera": {
            "eye": {
             "x": 2.3304401588861703,
             "y": 0.36269638246142066,
             "z": 1
            }
           }
          }
         }
        },
        {
         "layout": {
          "scene": {
           "camera": {
            "eye": {
             "x": 2.3387783993352915,
             "y": 0.3043281104378174,
             "z": 1
            }
           }
          }
         }
        },
        {
         "layout": {
          "scene": {
           "camera": {
            "eye": {
             "x": 2.345654979415351,
             "y": 0.24576964325149808,
             "z": 1
            }
           }
          }
         }
        },
        {
         "layout": {
          "scene": {
           "camera": {
            "eye": {
             "x": 2.351065601487642,
             "y": 0.18705757803829282,
             "z": 1
            }
           }
          }
         }
        },
        {
         "layout": {
          "scene": {
           "camera": {
            "eye": {
             "x": 2.3550068840894918,
             "y": 0.12822860792780166,
             "z": 1
            }
           }
          }
         }
        },
        {
         "layout": {
          "scene": {
           "camera": {
            "eye": {
             "x": 2.357476364047569,
             "y": 0.06931949911137703,
             "z": 1
            }
           }
          }
         }
        },
        {
         "layout": {
          "scene": {
           "camera": {
            "eye": {
             "x": 2.358472498017285,
             "y": 0.01036706786445496,
             "z": 1
            }
           }
          }
         }
        },
        {
         "layout": {
          "scene": {
           "camera": {
            "eye": {
             "x": 2.357994663447334,
             "y": -0.048591842462419876,
             "z": 1
            }
           }
          }
         }
        },
        {
         "layout": {
          "scene": {
           "camera": {
            "eye": {
             "x": 2.3560431589687685,
             "y": -0.1075203844694892,
             "z": 1
            }
           }
          }
         }
        },
        {
         "layout": {
          "scene": {
           "camera": {
            "eye": {
             "x": 2.3526192042083625,
             "y": -0.16638172973620402,
             "z": 1
            }
           }
          }
         }
        },
        {
         "layout": {
          "scene": {
           "camera": {
            "eye": {
             "x": 2.3477249390263872,
             "y": -0.2251390918377928,
             "z": 1
            }
           }
          }
         }
        },
        {
         "layout": {
          "scene": {
           "camera": {
            "eye": {
             "x": 2.341363422179266,
             "y": -0.2837557493355768,
             "z": 1
            }
           }
          }
         }
        },
        {
         "layout": {
          "scene": {
           "camera": {
            "eye": {
             "x": 2.3335386294079528,
             "y": -0.34219506872667393,
             "z": 1
            }
           }
          }
         }
        },
        {
         "layout": {
          "scene": {
           "camera": {
            "eye": {
             "x": 2.3242554509532205,
             "y": -0.4004205273387489,
             "z": 1
            }
           }
          }
         }
        },
        {
         "layout": {
          "scene": {
           "camera": {
            "eye": {
             "x": 2.3135196884994236,
             "y": -0.45839573615548646,
             "z": 1
            }
           }
          }
         }
        },
        {
         "layout": {
          "scene": {
           "camera": {
            "eye": {
             "x": 2.301338051548631,
             "y": -0.5160844625585523,
             "z": 1
            }
           }
          }
         }
        },
        {
         "layout": {
          "scene": {
           "camera": {
            "eye": {
             "x": 2.2877181532274085,
             "y": -0.5734506529717938,
             "z": 1
            }
           }
          }
         }
        },
        {
         "layout": {
          "scene": {
           "camera": {
            "eye": {
             "x": 2.2726685055288582,
             "y": -0.6304584553935533,
             "z": 1
            }
           }
          }
         }
        },
        {
         "layout": {
          "scene": {
           "camera": {
            "eye": {
             "x": 2.256198513992907,
             "y": -0.6870722418029991,
             "z": 1
            }
           }
          }
         }
        },
        {
         "layout": {
          "scene": {
           "camera": {
            "eye": {
             "x": 2.2383184718281415,
             "y": -0.7432566304264853,
             "z": 1
            }
           }
          }
         }
        },
        {
         "layout": {
          "scene": {
           "camera": {
            "eye": {
             "x": 2.219039553478895,
             "y": -0.7989765078500028,
             "z": 1
            }
           }
          }
         }
        },
        {
         "layout": {
          "scene": {
           "camera": {
            "eye": {
             "x": 2.19837380764158,
             "y": -0.8541970509639218,
             "z": 1
            }
           }
          }
         }
        },
        {
         "layout": {
          "scene": {
           "camera": {
            "eye": {
             "x": 2.176334149734645,
             "y": -0.9088837487263037,
             "z": 1
            }
           }
          }
         }
        },
        {
         "layout": {
          "scene": {
           "camera": {
            "eye": {
             "x": 2.1529343538268613,
             "y": -0.9630024237311741,
             "z": 1
            }
           }
          }
         }
        },
        {
         "layout": {
          "scene": {
           "camera": {
            "eye": {
             "x": 2.128189044028974,
             "y": -1.016519253568294,
             "z": 1
            }
           }
          }
         }
        },
        {
         "layout": {
          "scene": {
           "camera": {
            "eye": {
             "x": 2.1021136853541122,
             "y": -1.0694007919610644,
             "z": 1
            }
           }
          }
         }
        },
        {
         "layout": {
          "scene": {
           "camera": {
            "eye": {
             "x": 2.074724574052659,
             "y": -1.1216139896693573,
             "z": 1
            }
           }
          }
         }
        },
        {
         "layout": {
          "scene": {
           "camera": {
            "eye": {
             "x": 2.046038827427622,
             "y": -1.1731262151442194,
             "z": 1
            }
           }
          }
         }
        },
        {
         "layout": {
          "scene": {
           "camera": {
            "eye": {
             "x": 2.0160743731368824,
             "y": -1.223905274921522,
             "z": 1
            }
           }
          }
         }
        },
        {
         "layout": {
          "scene": {
           "camera": {
            "eye": {
             "x": 1.9848499379889861,
             "y": -1.2739194337418351,
             "z": 1
            }
           }
          }
         }
        },
        {
         "layout": {
          "scene": {
           "camera": {
            "eye": {
             "x": 1.9523850362395012,
             "y": -1.3231374343839275,
             "z": 1
            }
           }
          }
         }
        },
        {
         "layout": {
          "scene": {
           "camera": {
            "eye": {
             "x": 1.9186999573952428,
             "y": -1.3715285171995124,
             "z": 1
            }
           }
          }
         }
        },
        {
         "layout": {
          "scene": {
           "camera": {
            "eye": {
             "x": 1.8838157535339917,
             "y": -1.4190624393370292,
             "z": 1
            }
           }
          }
         }
        },
        {
         "layout": {
          "scene": {
           "camera": {
            "eye": {
             "x": 1.8477542261476323,
             "y": -1.4657094936424357,
             "z": 1
            }
           }
          }
         }
        },
        {
         "layout": {
          "scene": {
           "camera": {
            "eye": {
             "x": 1.810537912516927,
             "y": -1.5114405272252192,
             "z": 1
            }
           }
          }
         }
        },
        {
         "layout": {
          "scene": {
           "camera": {
            "eye": {
             "x": 1.7721900716264516,
             "y": -1.5562269596780003,
             "z": 1
            }
           }
          }
         }
        },
        {
         "layout": {
          "scene": {
           "camera": {
            "eye": {
             "x": 1.732734669628487,
             "y": -1.6000408009383567,
             "z": 1
            }
           }
          }
         }
        },
        {
         "layout": {
          "scene": {
           "camera": {
            "eye": {
             "x": 1.6921963648649523,
             "y": -1.6428546687817038,
             "z": 1
            }
           }
          }
         }
        },
        {
         "layout": {
          "scene": {
           "camera": {
            "eye": {
             "x": 1.650600492456747,
             "y": -1.6846418059342896,
             "z": 1
            }
           }
          }
         }
        },
        {
         "layout": {
          "scene": {
           "camera": {
            "eye": {
             "x": 1.6079730484701216,
             "y": -1.7253760967956244,
             "z": 1
            }
           }
          }
         }
        },
        {
         "layout": {
          "scene": {
           "camera": {
            "eye": {
             "x": 1.5643406736699847,
             "y": -1.7650320837598783,
             "z": 1
            }
           }
          }
         }
        },
        {
         "layout": {
          "scene": {
           "camera": {
            "eye": {
             "x": 1.5197306368702912,
             "y": -1.8035849831260569,
             "z": 1
            }
           }
          }
         }
        },
        {
         "layout": {
          "scene": {
           "camera": {
            "eye": {
             "x": 1.4741708178919206,
             "y": -1.8410107005870078,
             "z": 1
            }
           }
          }
         }
        },
        {
         "layout": {
          "scene": {
           "camera": {
            "eye": {
             "x": 1.4276896901387,
             "y": -1.8772858462875766,
             "z": 1
            }
           }
          }
         }
        },
        {
         "layout": {
          "scene": {
           "camera": {
            "eye": {
             "x": 1.3803163028024483,
             "y": -1.912387749442508,
             "z": 1
            }
           }
          }
         }
        },
        {
         "layout": {
          "scene": {
           "camera": {
            "eye": {
             "x": 1.3320802627081803,
             "y": -1.9462944725049458,
             "z": 1
            }
           }
          }
         }
        },
        {
         "layout": {
          "scene": {
           "camera": {
            "eye": {
             "x": 1.2830117158108039,
             "y": -1.9789848248766884,
             "z": 1
            }
           }
          }
         }
        }
       ],
       "layout": {
        "height": 600,
        "scene": {
         "camera": {
          "eye": {
           "x": -1.25,
           "y": 2,
           "z": 1
          }
         }
        },
        "template": {
         "data": {
          "bar": [
           {
            "error_x": {
             "color": "#2a3f5f"
            },
            "error_y": {
             "color": "#2a3f5f"
            },
            "marker": {
             "line": {
              "color": "#E5ECF6",
              "width": 0.5
             },
             "pattern": {
              "fillmode": "overlay",
              "size": 10,
              "solidity": 0.2
             }
            },
            "type": "bar"
           }
          ],
          "barpolar": [
           {
            "marker": {
             "line": {
              "color": "#E5ECF6",
              "width": 0.5
             },
             "pattern": {
              "fillmode": "overlay",
              "size": 10,
              "solidity": 0.2
             }
            },
            "type": "barpolar"
           }
          ],
          "carpet": [
           {
            "aaxis": {
             "endlinecolor": "#2a3f5f",
             "gridcolor": "white",
             "linecolor": "white",
             "minorgridcolor": "white",
             "startlinecolor": "#2a3f5f"
            },
            "baxis": {
             "endlinecolor": "#2a3f5f",
             "gridcolor": "white",
             "linecolor": "white",
             "minorgridcolor": "white",
             "startlinecolor": "#2a3f5f"
            },
            "type": "carpet"
           }
          ],
          "choropleth": [
           {
            "colorbar": {
             "outlinewidth": 0,
             "ticks": ""
            },
            "type": "choropleth"
           }
          ],
          "contour": [
           {
            "colorbar": {
             "outlinewidth": 0,
             "ticks": ""
            },
            "colorscale": [
             [
              0,
              "#0d0887"
             ],
             [
              0.1111111111111111,
              "#46039f"
             ],
             [
              0.2222222222222222,
              "#7201a8"
             ],
             [
              0.3333333333333333,
              "#9c179e"
             ],
             [
              0.4444444444444444,
              "#bd3786"
             ],
             [
              0.5555555555555556,
              "#d8576b"
             ],
             [
              0.6666666666666666,
              "#ed7953"
             ],
             [
              0.7777777777777778,
              "#fb9f3a"
             ],
             [
              0.8888888888888888,
              "#fdca26"
             ],
             [
              1,
              "#f0f921"
             ]
            ],
            "type": "contour"
           }
          ],
          "contourcarpet": [
           {
            "colorbar": {
             "outlinewidth": 0,
             "ticks": ""
            },
            "type": "contourcarpet"
           }
          ],
          "heatmap": [
           {
            "colorbar": {
             "outlinewidth": 0,
             "ticks": ""
            },
            "colorscale": [
             [
              0,
              "#0d0887"
             ],
             [
              0.1111111111111111,
              "#46039f"
             ],
             [
              0.2222222222222222,
              "#7201a8"
             ],
             [
              0.3333333333333333,
              "#9c179e"
             ],
             [
              0.4444444444444444,
              "#bd3786"
             ],
             [
              0.5555555555555556,
              "#d8576b"
             ],
             [
              0.6666666666666666,
              "#ed7953"
             ],
             [
              0.7777777777777778,
              "#fb9f3a"
             ],
             [
              0.8888888888888888,
              "#fdca26"
             ],
             [
              1,
              "#f0f921"
             ]
            ],
            "type": "heatmap"
           }
          ],
          "heatmapgl": [
           {
            "colorbar": {
             "outlinewidth": 0,
             "ticks": ""
            },
            "colorscale": [
             [
              0,
              "#0d0887"
             ],
             [
              0.1111111111111111,
              "#46039f"
             ],
             [
              0.2222222222222222,
              "#7201a8"
             ],
             [
              0.3333333333333333,
              "#9c179e"
             ],
             [
              0.4444444444444444,
              "#bd3786"
             ],
             [
              0.5555555555555556,
              "#d8576b"
             ],
             [
              0.6666666666666666,
              "#ed7953"
             ],
             [
              0.7777777777777778,
              "#fb9f3a"
             ],
             [
              0.8888888888888888,
              "#fdca26"
             ],
             [
              1,
              "#f0f921"
             ]
            ],
            "type": "heatmapgl"
           }
          ],
          "histogram": [
           {
            "marker": {
             "pattern": {
              "fillmode": "overlay",
              "size": 10,
              "solidity": 0.2
             }
            },
            "type": "histogram"
           }
          ],
          "histogram2d": [
           {
            "colorbar": {
             "outlinewidth": 0,
             "ticks": ""
            },
            "colorscale": [
             [
              0,
              "#0d0887"
             ],
             [
              0.1111111111111111,
              "#46039f"
             ],
             [
              0.2222222222222222,
              "#7201a8"
             ],
             [
              0.3333333333333333,
              "#9c179e"
             ],
             [
              0.4444444444444444,
              "#bd3786"
             ],
             [
              0.5555555555555556,
              "#d8576b"
             ],
             [
              0.6666666666666666,
              "#ed7953"
             ],
             [
              0.7777777777777778,
              "#fb9f3a"
             ],
             [
              0.8888888888888888,
              "#fdca26"
             ],
             [
              1,
              "#f0f921"
             ]
            ],
            "type": "histogram2d"
           }
          ],
          "histogram2dcontour": [
           {
            "colorbar": {
             "outlinewidth": 0,
             "ticks": ""
            },
            "colorscale": [
             [
              0,
              "#0d0887"
             ],
             [
              0.1111111111111111,
              "#46039f"
             ],
             [
              0.2222222222222222,
              "#7201a8"
             ],
             [
              0.3333333333333333,
              "#9c179e"
             ],
             [
              0.4444444444444444,
              "#bd3786"
             ],
             [
              0.5555555555555556,
              "#d8576b"
             ],
             [
              0.6666666666666666,
              "#ed7953"
             ],
             [
              0.7777777777777778,
              "#fb9f3a"
             ],
             [
              0.8888888888888888,
              "#fdca26"
             ],
             [
              1,
              "#f0f921"
             ]
            ],
            "type": "histogram2dcontour"
           }
          ],
          "mesh3d": [
           {
            "colorbar": {
             "outlinewidth": 0,
             "ticks": ""
            },
            "type": "mesh3d"
           }
          ],
          "parcoords": [
           {
            "line": {
             "colorbar": {
              "outlinewidth": 0,
              "ticks": ""
             }
            },
            "type": "parcoords"
           }
          ],
          "pie": [
           {
            "automargin": true,
            "type": "pie"
           }
          ],
          "scatter": [
           {
            "fillpattern": {
             "fillmode": "overlay",
             "size": 10,
             "solidity": 0.2
            },
            "type": "scatter"
           }
          ],
          "scatter3d": [
           {
            "line": {
             "colorbar": {
              "outlinewidth": 0,
              "ticks": ""
             }
            },
            "marker": {
             "colorbar": {
              "outlinewidth": 0,
              "ticks": ""
             }
            },
            "type": "scatter3d"
           }
          ],
          "scattercarpet": [
           {
            "marker": {
             "colorbar": {
              "outlinewidth": 0,
              "ticks": ""
             }
            },
            "type": "scattercarpet"
           }
          ],
          "scattergeo": [
           {
            "marker": {
             "colorbar": {
              "outlinewidth": 0,
              "ticks": ""
             }
            },
            "type": "scattergeo"
           }
          ],
          "scattergl": [
           {
            "marker": {
             "colorbar": {
              "outlinewidth": 0,
              "ticks": ""
             }
            },
            "type": "scattergl"
           }
          ],
          "scattermapbox": [
           {
            "marker": {
             "colorbar": {
              "outlinewidth": 0,
              "ticks": ""
             }
            },
            "type": "scattermapbox"
           }
          ],
          "scatterpolar": [
           {
            "marker": {
             "colorbar": {
              "outlinewidth": 0,
              "ticks": ""
             }
            },
            "type": "scatterpolar"
           }
          ],
          "scatterpolargl": [
           {
            "marker": {
             "colorbar": {
              "outlinewidth": 0,
              "ticks": ""
             }
            },
            "type": "scatterpolargl"
           }
          ],
          "scatterternary": [
           {
            "marker": {
             "colorbar": {
              "outlinewidth": 0,
              "ticks": ""
             }
            },
            "type": "scatterternary"
           }
          ],
          "surface": [
           {
            "colorbar": {
             "outlinewidth": 0,
             "ticks": ""
            },
            "colorscale": [
             [
              0,
              "#0d0887"
             ],
             [
              0.1111111111111111,
              "#46039f"
             ],
             [
              0.2222222222222222,
              "#7201a8"
             ],
             [
              0.3333333333333333,
              "#9c179e"
             ],
             [
              0.4444444444444444,
              "#bd3786"
             ],
             [
              0.5555555555555556,
              "#d8576b"
             ],
             [
              0.6666666666666666,
              "#ed7953"
             ],
             [
              0.7777777777777778,
              "#fb9f3a"
             ],
             [
              0.8888888888888888,
              "#fdca26"
             ],
             [
              1,
              "#f0f921"
             ]
            ],
            "type": "surface"
           }
          ],
          "table": [
           {
            "cells": {
             "fill": {
              "color": "#EBF0F8"
             },
             "line": {
              "color": "white"
             }
            },
            "header": {
             "fill": {
              "color": "#C8D4E3"
             },
             "line": {
              "color": "white"
             }
            },
            "type": "table"
           }
          ]
         },
         "layout": {
          "annotationdefaults": {
           "arrowcolor": "#2a3f5f",
           "arrowhead": 0,
           "arrowwidth": 1
          },
          "autotypenumbers": "strict",
          "coloraxis": {
           "colorbar": {
            "outlinewidth": 0,
            "ticks": ""
           }
          },
          "colorscale": {
           "diverging": [
            [
             0,
             "#8e0152"
            ],
            [
             0.1,
             "#c51b7d"
            ],
            [
             0.2,
             "#de77ae"
            ],
            [
             0.3,
             "#f1b6da"
            ],
            [
             0.4,
             "#fde0ef"
            ],
            [
             0.5,
             "#f7f7f7"
            ],
            [
             0.6,
             "#e6f5d0"
            ],
            [
             0.7,
             "#b8e186"
            ],
            [
             0.8,
             "#7fbc41"
            ],
            [
             0.9,
             "#4d9221"
            ],
            [
             1,
             "#276419"
            ]
           ],
           "sequential": [
            [
             0,
             "#0d0887"
            ],
            [
             0.1111111111111111,
             "#46039f"
            ],
            [
             0.2222222222222222,
             "#7201a8"
            ],
            [
             0.3333333333333333,
             "#9c179e"
            ],
            [
             0.4444444444444444,
             "#bd3786"
            ],
            [
             0.5555555555555556,
             "#d8576b"
            ],
            [
             0.6666666666666666,
             "#ed7953"
            ],
            [
             0.7777777777777778,
             "#fb9f3a"
            ],
            [
             0.8888888888888888,
             "#fdca26"
            ],
            [
             1,
             "#f0f921"
            ]
           ],
           "sequentialminus": [
            [
             0,
             "#0d0887"
            ],
            [
             0.1111111111111111,
             "#46039f"
            ],
            [
             0.2222222222222222,
             "#7201a8"
            ],
            [
             0.3333333333333333,
             "#9c179e"
            ],
            [
             0.4444444444444444,
             "#bd3786"
            ],
            [
             0.5555555555555556,
             "#d8576b"
            ],
            [
             0.6666666666666666,
             "#ed7953"
            ],
            [
             0.7777777777777778,
             "#fb9f3a"
            ],
            [
             0.8888888888888888,
             "#fdca26"
            ],
            [
             1,
             "#f0f921"
            ]
           ]
          },
          "colorway": [
           "#636efa",
           "#EF553B",
           "#00cc96",
           "#ab63fa",
           "#FFA15A",
           "#19d3f3",
           "#FF6692",
           "#B6E880",
           "#FF97FF",
           "#FECB52"
          ],
          "font": {
           "color": "#2a3f5f"
          },
          "geo": {
           "bgcolor": "white",
           "lakecolor": "white",
           "landcolor": "#E5ECF6",
           "showlakes": true,
           "showland": true,
           "subunitcolor": "white"
          },
          "hoverlabel": {
           "align": "left"
          },
          "hovermode": "closest",
          "mapbox": {
           "style": "light"
          },
          "paper_bgcolor": "white",
          "plot_bgcolor": "#E5ECF6",
          "polar": {
           "angularaxis": {
            "gridcolor": "white",
            "linecolor": "white",
            "ticks": ""
           },
           "bgcolor": "#E5ECF6",
           "radialaxis": {
            "gridcolor": "white",
            "linecolor": "white",
            "ticks": ""
           }
          },
          "scene": {
           "xaxis": {
            "backgroundcolor": "#E5ECF6",
            "gridcolor": "white",
            "gridwidth": 2,
            "linecolor": "white",
            "showbackground": true,
            "ticks": "",
            "zerolinecolor": "white"
           },
           "yaxis": {
            "backgroundcolor": "#E5ECF6",
            "gridcolor": "white",
            "gridwidth": 2,
            "linecolor": "white",
            "showbackground": true,
            "ticks": "",
            "zerolinecolor": "white"
           },
           "zaxis": {
            "backgroundcolor": "#E5ECF6",
            "gridcolor": "white",
            "gridwidth": 2,
            "linecolor": "white",
            "showbackground": true,
            "ticks": "",
            "zerolinecolor": "white"
           }
          },
          "shapedefaults": {
           "line": {
            "color": "#2a3f5f"
           }
          },
          "ternary": {
           "aaxis": {
            "gridcolor": "white",
            "linecolor": "white",
            "ticks": ""
           },
           "baxis": {
            "gridcolor": "white",
            "linecolor": "white",
            "ticks": ""
           },
           "bgcolor": "#E5ECF6",
           "caxis": {
            "gridcolor": "white",
            "linecolor": "white",
            "ticks": ""
           }
          },
          "title": {
           "x": 0.05
          },
          "xaxis": {
           "automargin": true,
           "gridcolor": "white",
           "linecolor": "white",
           "ticks": "",
           "title": {
            "standoff": 15
           },
           "zerolinecolor": "white",
           "zerolinewidth": 2
          },
          "yaxis": {
           "automargin": true,
           "gridcolor": "white",
           "linecolor": "white",
           "ticks": "",
           "title": {
            "standoff": 15
           },
           "zerolinecolor": "white",
           "zerolinewidth": 2
          }
         }
        },
        "title": {
         "text": "Animation Test"
        },
        "updatemenus": [
         {
          "buttons": [
           {
            "args": [
             null,
             {
              "frame": {
               "duration": 5,
               "redraw": true
              },
              "fromcurrent": true,
              "mode": "immediate",
              "transition": {
               "duration": 0
              }
             }
            ],
            "label": "Play",
            "method": "animate"
           }
          ],
          "pad": {
           "r": 10,
           "t": 45
          },
          "showactive": false,
          "type": "buttons",
          "x": 0.8,
          "xanchor": "left",
          "y": 1,
          "yanchor": "bottom"
         }
        ],
        "width": 600
       }
      }
     },
     "metadata": {},
     "output_type": "display_data"
    }
   ],
   "source": [
    "# https://community.plotly.com/t/rotating-3d-plots-with-plotly/34776/2\n",
    "# https://community.plotly.com/t/how-to-export-animation-and-save-it-in-a-video-format-like-mp4-mpeg-or/64621/2\n",
    "import plotly.graph_objects as go\n",
    "import numpy as np\n",
    "import plotly.io as pio\n",
    "\n",
    "x, y, z = three[\"x1\"], three[\"x2\"], three[\"x3\"]\n",
    "\n",
    "fig = go.Figure(go.Scatter3d(x=x, y=y, z=z, mode=\"markers\"))\n",
    "\n",
    "x_eye = -1.25\n",
    "y_eye = 2\n",
    "z_eye = 1.0\n",
    "\n",
    "fig.update_layout(\n",
    "    title=\"Animation Test\",\n",
    "    width=600,\n",
    "    height=600,\n",
    "    scene_camera_eye=dict(x=x_eye, y=y_eye, z=z_eye),\n",
    "    updatemenus=[\n",
    "        dict(\n",
    "            type=\"buttons\",\n",
    "            showactive=False,\n",
    "            y=1,\n",
    "            x=0.8,\n",
    "            xanchor=\"left\",\n",
    "            yanchor=\"bottom\",\n",
    "            pad=dict(t=45, r=10),\n",
    "            buttons=[\n",
    "                dict(\n",
    "                    label=\"Play\",\n",
    "                    method=\"animate\",\n",
    "                    args=[\n",
    "                        None,\n",
    "                        dict(\n",
    "                            frame=dict(duration=5, redraw=True),\n",
    "                            transition=dict(duration=0),\n",
    "                            fromcurrent=True,\n",
    "                            mode=\"immediate\",\n",
    "                        ),\n",
    "                    ],\n",
    "                )\n",
    "            ],\n",
    "        )\n",
    "    ],\n",
    ")\n",
    "\n",
    "\n",
    "def rotate_z(x, y, z, theta):\n",
    "    w = x + 1j * y\n",
    "    return np.real(np.exp(1j * theta) * w), np.imag(np.exp(1j * theta) * w), z\n",
    "\n",
    "\n",
    "frames = []\n",
    "pil_frames = []\n",
    "for t in np.arange(0, 3.14, 0.025):\n",
    "    xe, ye, ze = rotate_z(x_eye, y_eye, z_eye, -t)\n",
    "    frames.append(go.Frame(layout=dict(scene_camera_eye=dict(x=xe, y=ye, z=ze))))\n",
    "fig.frames = frames\n",
    "\n",
    "fig.show()"
   ]
  },
  {
   "cell_type": "code",
   "execution_count": 18,
   "metadata": {},
   "outputs": [
    {
     "data": {
      "text/plain": [
       "[0.0277777777777779, 0.060956790123456894, 0.10033007544581585]"
      ]
     },
     "execution_count": 18,
     "metadata": {},
     "output_type": "execute_result"
    }
   ],
   "source": [
    "[qmc.discrepancy(df.values) for df in [one, two, three]]"
   ]
  },
  {
   "cell_type": "code",
   "execution_count": 19,
   "metadata": {},
   "outputs": [
    {
     "data": {
      "text/html": [
       "<div>\n",
       "<style scoped>\n",
       "    .dataframe tbody tr th:only-of-type {\n",
       "        vertical-align: middle;\n",
       "    }\n",
       "\n",
       "    .dataframe tbody tr th {\n",
       "        vertical-align: top;\n",
       "    }\n",
       "\n",
       "    .dataframe thead th {\n",
       "        text-align: right;\n",
       "    }\n",
       "</style>\n",
       "<table border=\"1\" class=\"dataframe\">\n",
       "  <thead>\n",
       "    <tr style=\"text-align: right;\">\n",
       "      <th></th>\n",
       "      <th>name</th>\n",
       "      <th>num_samples</th>\n",
       "      <th>discrepancy</th>\n",
       "    </tr>\n",
       "  </thead>\n",
       "  <tbody>\n",
       "    <tr>\n",
       "      <th>0</th>\n",
       "      <td>grid</td>\n",
       "      <td>100</td>\n",
       "      <td>0.004093</td>\n",
       "    </tr>\n",
       "    <tr>\n",
       "      <th>1</th>\n",
       "      <td>grid</td>\n",
       "      <td>50</td>\n",
       "      <td>0.008708</td>\n",
       "    </tr>\n",
       "    <tr>\n",
       "      <th>2</th>\n",
       "      <td>grid</td>\n",
       "      <td>10</td>\n",
       "      <td>0.060957</td>\n",
       "    </tr>\n",
       "    <tr>\n",
       "      <th>3</th>\n",
       "      <td>grid</td>\n",
       "      <td>5</td>\n",
       "      <td>0.204861</td>\n",
       "    </tr>\n",
       "    <tr>\n",
       "      <th>4</th>\n",
       "      <td>random</td>\n",
       "      <td>100</td>\n",
       "      <td>0.002874</td>\n",
       "    </tr>\n",
       "    <tr>\n",
       "      <th>5</th>\n",
       "      <td>random</td>\n",
       "      <td>50</td>\n",
       "      <td>0.011180</td>\n",
       "    </tr>\n",
       "    <tr>\n",
       "      <th>6</th>\n",
       "      <td>random</td>\n",
       "      <td>10</td>\n",
       "      <td>0.033466</td>\n",
       "    </tr>\n",
       "    <tr>\n",
       "      <th>7</th>\n",
       "      <td>random</td>\n",
       "      <td>5</td>\n",
       "      <td>0.098165</td>\n",
       "    </tr>\n",
       "    <tr>\n",
       "      <th>8</th>\n",
       "      <td>latin_hypercube</td>\n",
       "      <td>100</td>\n",
       "      <td>0.000058</td>\n",
       "    </tr>\n",
       "    <tr>\n",
       "      <th>9</th>\n",
       "      <td>latin_hypercube</td>\n",
       "      <td>50</td>\n",
       "      <td>0.000224</td>\n",
       "    </tr>\n",
       "    <tr>\n",
       "      <th>10</th>\n",
       "      <td>latin_hypercube</td>\n",
       "      <td>10</td>\n",
       "      <td>0.005263</td>\n",
       "    </tr>\n",
       "    <tr>\n",
       "      <th>11</th>\n",
       "      <td>latin_hypercube</td>\n",
       "      <td>5</td>\n",
       "      <td>0.019957</td>\n",
       "    </tr>\n",
       "    <tr>\n",
       "      <th>12</th>\n",
       "      <td>sobol</td>\n",
       "      <td>100</td>\n",
       "      <td>0.000106</td>\n",
       "    </tr>\n",
       "    <tr>\n",
       "      <th>13</th>\n",
       "      <td>sobol</td>\n",
       "      <td>50</td>\n",
       "      <td>0.000440</td>\n",
       "    </tr>\n",
       "    <tr>\n",
       "      <th>14</th>\n",
       "      <td>sobol</td>\n",
       "      <td>10</td>\n",
       "      <td>0.007685</td>\n",
       "    </tr>\n",
       "    <tr>\n",
       "      <th>15</th>\n",
       "      <td>sobol</td>\n",
       "      <td>5</td>\n",
       "      <td>0.024782</td>\n",
       "    </tr>\n",
       "  </tbody>\n",
       "</table>\n",
       "</div>"
      ],
      "text/plain": [
       "               name  num_samples  discrepancy\n",
       "0              grid          100     0.004093\n",
       "1              grid           50     0.008708\n",
       "2              grid           10     0.060957\n",
       "3              grid            5     0.204861\n",
       "4            random          100     0.002874\n",
       "5            random           50     0.011180\n",
       "6            random           10     0.033466\n",
       "7            random            5     0.098165\n",
       "8   latin_hypercube          100     0.000058\n",
       "9   latin_hypercube           50     0.000224\n",
       "10  latin_hypercube           10     0.005263\n",
       "11  latin_hypercube            5     0.019957\n",
       "12            sobol          100     0.000106\n",
       "13            sobol           50     0.000440\n",
       "14            sobol           10     0.007685\n",
       "15            sobol            5     0.024782"
      ]
     },
     "execution_count": 19,
     "metadata": {},
     "output_type": "execute_result"
    }
   ],
   "source": [
    "discrepancies = []\n",
    "for name, sampling_fn in sampling_fns.items():\n",
    "    for num_samples in sample_nums:\n",
    "        sample_df = compare_df.query(\"name == @name and num_samples == @num_samples\")\n",
    "        discrepancies.append(\n",
    "            dict(\n",
    "                name=name,\n",
    "                num_samples=num_samples,\n",
    "                discrepancy=qmc.discrepancy(sample_df[[\"x1\", \"x2\"]].values),\n",
    "            )\n",
    "        )\n",
    "        \n",
    "discrepancy_df = pd.DataFrame(discrepancies)\n",
    "discrepancy_df"
   ]
  },
  {
   "cell_type": "code",
   "execution_count": 20,
   "metadata": {},
   "outputs": [
    {
     "data": {
      "application/vnd.plotly.v1+json": {
       "config": {
        "plotlyServerURL": "https://plot.ly"
       },
       "data": [
        {
         "hovertemplate": "num_samples=100<br>name=grid<br>x1=%{x}<br>x2=%{y}<extra></extra>",
         "legendgroup": "",
         "marker": {
          "color": "#636efa",
          "symbol": "circle"
         },
         "mode": "markers",
         "name": "",
         "orientation": "v",
         "showlegend": false,
         "type": "scatter",
         "x": [
          0,
          0,
          0,
          0,
          0,
          0,
          0,
          0,
          0,
          0,
          0.1111111111111111,
          0.1111111111111111,
          0.1111111111111111,
          0.1111111111111111,
          0.1111111111111111,
          0.1111111111111111,
          0.1111111111111111,
          0.1111111111111111,
          0.1111111111111111,
          0.1111111111111111,
          0.2222222222222222,
          0.2222222222222222,
          0.2222222222222222,
          0.2222222222222222,
          0.2222222222222222,
          0.2222222222222222,
          0.2222222222222222,
          0.2222222222222222,
          0.2222222222222222,
          0.2222222222222222,
          0.3333333333333333,
          0.3333333333333333,
          0.3333333333333333,
          0.3333333333333333,
          0.3333333333333333,
          0.3333333333333333,
          0.3333333333333333,
          0.3333333333333333,
          0.3333333333333333,
          0.3333333333333333,
          0.4444444444444444,
          0.4444444444444444,
          0.4444444444444444,
          0.4444444444444444,
          0.4444444444444444,
          0.4444444444444444,
          0.4444444444444444,
          0.4444444444444444,
          0.4444444444444444,
          0.4444444444444444,
          0.5555555555555556,
          0.5555555555555556,
          0.5555555555555556,
          0.5555555555555556,
          0.5555555555555556,
          0.5555555555555556,
          0.5555555555555556,
          0.5555555555555556,
          0.5555555555555556,
          0.5555555555555556,
          0.6666666666666666,
          0.6666666666666666,
          0.6666666666666666,
          0.6666666666666666,
          0.6666666666666666,
          0.6666666666666666,
          0.6666666666666666,
          0.6666666666666666,
          0.6666666666666666,
          0.6666666666666666,
          0.7777777777777777,
          0.7777777777777777,
          0.7777777777777777,
          0.7777777777777777,
          0.7777777777777777,
          0.7777777777777777,
          0.7777777777777777,
          0.7777777777777777,
          0.7777777777777777,
          0.7777777777777777,
          0.8888888888888888,
          0.8888888888888888,
          0.8888888888888888,
          0.8888888888888888,
          0.8888888888888888,
          0.8888888888888888,
          0.8888888888888888,
          0.8888888888888888,
          0.8888888888888888,
          0.8888888888888888,
          1,
          1,
          1,
          1,
          1,
          1,
          1,
          1,
          1,
          1
         ],
         "xaxis": "x13",
         "y": [
          0,
          0.1111111111111111,
          0.2222222222222222,
          0.3333333333333333,
          0.4444444444444444,
          0.5555555555555556,
          0.6666666666666666,
          0.7777777777777777,
          0.8888888888888888,
          1,
          0,
          0.1111111111111111,
          0.2222222222222222,
          0.3333333333333333,
          0.4444444444444444,
          0.5555555555555556,
          0.6666666666666666,
          0.7777777777777777,
          0.8888888888888888,
          1,
          0,
          0.1111111111111111,
          0.2222222222222222,
          0.3333333333333333,
          0.4444444444444444,
          0.5555555555555556,
          0.6666666666666666,
          0.7777777777777777,
          0.8888888888888888,
          1,
          0,
          0.1111111111111111,
          0.2222222222222222,
          0.3333333333333333,
          0.4444444444444444,
          0.5555555555555556,
          0.6666666666666666,
          0.7777777777777777,
          0.8888888888888888,
          1,
          0,
          0.1111111111111111,
          0.2222222222222222,
          0.3333333333333333,
          0.4444444444444444,
          0.5555555555555556,
          0.6666666666666666,
          0.7777777777777777,
          0.8888888888888888,
          1,
          0,
          0.1111111111111111,
          0.2222222222222222,
          0.3333333333333333,
          0.4444444444444444,
          0.5555555555555556,
          0.6666666666666666,
          0.7777777777777777,
          0.8888888888888888,
          1,
          0,
          0.1111111111111111,
          0.2222222222222222,
          0.3333333333333333,
          0.4444444444444444,
          0.5555555555555556,
          0.6666666666666666,
          0.7777777777777777,
          0.8888888888888888,
          1,
          0,
          0.1111111111111111,
          0.2222222222222222,
          0.3333333333333333,
          0.4444444444444444,
          0.5555555555555556,
          0.6666666666666666,
          0.7777777777777777,
          0.8888888888888888,
          1,
          0,
          0.1111111111111111,
          0.2222222222222222,
          0.3333333333333333,
          0.4444444444444444,
          0.5555555555555556,
          0.6666666666666666,
          0.7777777777777777,
          0.8888888888888888,
          1,
          0,
          0.1111111111111111,
          0.2222222222222222,
          0.3333333333333333,
          0.4444444444444444,
          0.5555555555555556,
          0.6666666666666666,
          0.7777777777777777,
          0.8888888888888888,
          1
         ],
         "yaxis": "y13"
        },
        {
         "hovertemplate": "num_samples=100<br>name=random<br>x1=%{x}<br>x2=%{y}<extra></extra>",
         "legendgroup": "",
         "marker": {
          "color": "#636efa",
          "symbol": "circle"
         },
         "mode": "markers",
         "name": "",
         "orientation": "v",
         "showlegend": false,
         "type": "scatter",
         "x": [
          0.4576876508235155,
          0.34902685668377453,
          0.07741777222351842,
          0.6014040287131306,
          0.2919750156473142,
          0.8679191793250794,
          0.3701206410963347,
          0.14905050201685544,
          0.07750709861067295,
          0.3779442522344644,
          0.979462535887623,
          0.6483139293385219,
          0.007166927432209813,
          0.9518497866816836,
          0.17631118902572707,
          0.8820759497927534,
          0.6636796057766131,
          0.5970836211467748,
          0.9713564184123186,
          0.5869989776074919,
          0.23624574618681649,
          0.5032966833535512,
          0.2936543439019539,
          0.9711476047397218,
          0.759005988054046,
          0.9273402748148959,
          0.6085907097464426,
          0.27022843177433087,
          0.5177827769598299,
          0.0889468277014056,
          0.5089340261166634,
          0.7061516640960142,
          0.8467381786832393,
          0.12976784736315627,
          0.9186492463766607,
          0.09182677695216535,
          0.6916885537888906,
          0.3836911981655641,
          0.14306410518428048,
          0.7129276527329013,
          0.2626878897148658,
          0.8958799451649784,
          0.2031026581593829,
          0.5545169380360572,
          0.05197685731926571,
          0.7655352403878569,
          0.8998309769989333,
          0.0875111729851723,
          0.7067037241365592,
          0.2850405569604315,
          0.22816472426005552,
          0.6379902266942691,
          0.19938894292226128,
          0.12059810654550818,
          0.9409219106088285,
          0.6142500238987101,
          0.518904115252969,
          0.5739272295561726,
          0.8913373092205727,
          0.38672193350480555,
          0.25032807316598327,
          0.4527302745979115,
          0.9965298753141855,
          0.8185523301193249,
          0.8653049901312782,
          0.6183561708245342,
          0.390832387680933,
          0.09748231413020336,
          0.12484868387096293,
          0.5974182729009587,
          0.5658785166699358,
          0.04749044896741805,
          0.681751386509522,
          0.6434887857228073,
          0.2516807260980113,
          0.6155236521541799,
          0.3480086134014865,
          0.2723099478845741,
          0.9976406969620446,
          0.13014811204286603,
          0.7259869871103243,
          0.3240048816005737,
          0.668135850428744,
          0.5980679800778326,
          0.610208483252867,
          0.4907666796842499,
          0.05379520005869887,
          0.3159154335410478,
          0.9044903170853485,
          0.04047020465815909,
          0.01876097882293637,
          0.8065610120044863,
          0.44267460878921305,
          0.6899325506338837,
          0.30541403277791523,
          0.955931612748407,
          0.17105885906223728,
          0.6105976072843661,
          0.25686857161727705,
          0.05989489086731181
         ],
         "xaxis": "x14",
         "y": [
          0.49437217709832915,
          0.4512493001257727,
          0.4995931350532169,
          0.4985795117053474,
          0.3095103721209238,
          0.8995483765065933,
          0.4930226528854763,
          0.7392889655658353,
          0.25397534136746125,
          0.5334222750606318,
          0.7390171588150249,
          0.582938790619008,
          0.6543260779976062,
          0.42189040380650156,
          0.14361981683493985,
          0.6169672545954745,
          0.7872251936139819,
          0.35631711094054164,
          0.9312199701872433,
          0.6223717966780549,
          0.7319099741715964,
          0.27680016123444817,
          0.4384161480674357,
          0.357546524145805,
          0.9111969011803344,
          0.7637266523061699,
          0.33816997601323895,
          0.23953734996076748,
          0.5908295565650578,
          0.0713225923794758,
          0.03742415636285601,
          0.10276353728361665,
          0.035261313359547075,
          0.7655109405283497,
          0.7562847850427554,
          0.7106317296153692,
          0.7540787033052405,
          0.3673509126433151,
          0.10610005270262868,
          0.1467297514444289,
          0.4847653667316254,
          0.4407939055914025,
          0.6824498277464516,
          0.25383469056840624,
          0.06261862729176038,
          0.4483876706339541,
          0.8231179307622555,
          0.7880159300851757,
          0.23872866720958674,
          0.499073092325541,
          0.37096235256521737,
          0.08982168360619236,
          0.5988763662016687,
          0.6118393922733213,
          0.15169932201642278,
          0.6716480583097444,
          0.6337356521791119,
          0.13616606299403167,
          0.7058968592449127,
          0.47024239403427615,
          0.5431439914830036,
          0.6737552874113228,
          0.5516071251083198,
          0.5964407464860563,
          0.19191849598501876,
          0.1347879605832938,
          0.5180961479525406,
          0.026044793307665737,
          0.2574816190291118,
          0.3665262214304714,
          0.43329509228953844,
          0.08639153786683063,
          0.8595905600046774,
          0.7885268271544168,
          0.08195192276193908,
          0.12896938929396495,
          0.336311740332511,
          0.40218882548079926,
          0.08561576214800715,
          0.8333670197991108,
          0.42619082088360005,
          0.576089293063736,
          0.6666490522177074,
          0.7947054540112785,
          0.3895751404024297,
          0.10900408357864833,
          0.34712460220393637,
          0.8883293110561071,
          0.8098045722185849,
          0.314152846153696,
          0.08220212441305841,
          0.580607755436709,
          0.4191639648706815,
          0.39571122043941076,
          0.01730199710750957,
          0.977548954803554,
          0.9538372506128113,
          0.9186035550596036,
          0.5016657454938527,
          0.7347742077126989
         ],
         "yaxis": "y14"
        },
        {
         "hovertemplate": "num_samples=100<br>name=latin_hypercube<br>x1=%{x}<br>x2=%{y}<extra></extra>",
         "legendgroup": "",
         "marker": {
          "color": "#636efa",
          "symbol": "circle"
         },
         "mode": "markers",
         "name": "",
         "orientation": "v",
         "showlegend": false,
         "type": "scatter",
         "x": [
          0.4708795607396033,
          0.07121520539428744,
          0.45618307119965834,
          0.39967297496875803,
          0.24570801558425187,
          0.9020077099049488,
          0.9174237953379096,
          0.10098807304667513,
          0.5423619255554817,
          0.6849733673918244,
          0.2908977433123423,
          0.7558499413709996,
          0.5342856961286355,
          0.6463396945068048,
          0.14411219910154582,
          0.6905538005262735,
          0.22149422762212634,
          0.08155248727725367,
          0.02590507803640985,
          0.35475477187475124,
          0.8054901772297184,
          0.7032542821989195,
          0.20291140741900549,
          0.9622911685959318,
          0.9917214693975649,
          0.1330990954452057,
          0.5209346539015777,
          0.7908648512611713,
          0.5921743967947691,
          0.6607882315339243,
          0.941710338494659,
          0.8689118974380118,
          0.4300256009864875,
          0.4994740652589313,
          0.09686733507133778,
          0.9730446681872036,
          0.506318095278772,
          0.8439472802193522,
          0.6351860327173076,
          0.9316961360553176,
          0.25446377243326856,
          0.15210416477991134,
          0.03009157560745817,
          0.11783249177332111,
          0.33323685526947977,
          0.5787807274830269,
          0.7371304901827578,
          0.18946686430083823,
          0.23101273502770464,
          0.7677675363828709,
          0.01838782226795106,
          0.9274565354316067,
          0.21193792375200896,
          0.6574434650591193,
          0.7295215601791807,
          0.4847009217996843,
          0.6024788223145178,
          0.12827479177615297,
          0.8266083924881409,
          0.1963226476257361,
          0.3231692402551426,
          0.8399317429142577,
          0.5603799629692598,
          0.16555951468168953,
          0.6137922415563828,
          0.3155981989422502,
          0.007947218199831827,
          0.8974040835952217,
          0.787013745227839,
          0.9872570523252086,
          0.27345461581817676,
          0.9543318408149537,
          0.40496688249198776,
          0.049927351810563465,
          0.4427997572692219,
          0.7197993951066638,
          0.42860612056918757,
          0.30423448086226607,
          0.46546839424420156,
          0.7424455581828546,
          0.7797346241145072,
          0.412311100830799,
          0.8192553879495766,
          0.26104081773489424,
          0.36221830975087294,
          0.0542064861070183,
          0.8748195397323352,
          0.6261306786121935,
          0.1782914552878426,
          0.06667647667398985,
          0.8503701274542034,
          0.344633321892197,
          0.8830632819999377,
          0.37971717735591204,
          0.6779931205668959,
          0.3814743813648811,
          0.5864871972350479,
          0.5186387975904124,
          0.2835731291630668,
          0.5566199300940834
         ],
         "xaxis": "x15",
         "y": [
          0.2628688837714194,
          0.035096319364765136,
          0.6021762532633061,
          0.6512515834565997,
          0.6234644165005919,
          0.3368232169694837,
          0.9161616942172539,
          0.8804039921874229,
          0.3909674891424084,
          0.962320137696867,
          0.7657260757651696,
          0.23740380961748045,
          0.891384719115176,
          0.8589210596882104,
          0.9758851607176448,
          0.12101554584304557,
          0.40952184317782164,
          0.4542813517862871,
          0.9254162231487085,
          0.5023364877998274,
          0.3862301595411688,
          0.6105598373477737,
          0.8429152392952759,
          0.6341263187653506,
          0.1929429925101305,
          0.3290729082008661,
          0.5335698529938766,
          0.7720840055354613,
          0.10612318519970239,
          0.6720407887303392,
          0.7426393307462077,
          0.7104336683401824,
          0.808003953800692,
          0.04243858500555275,
          0.42041611891558184,
          0.4601042336979836,
          0.8379218358300424,
          0.1377297765978229,
          0.007898521825325898,
          0.5524159229304416,
          0.9049612843764098,
          0.5420617998160292,
          0.36515710490024555,
          0.6406524954223463,
          0.7853508523260208,
          0.9561361999343935,
          0.8101662765360486,
          0.06534599770017556,
          0.18726712695827494,
          0.05436968913792931,
          0.5991789445598479,
          0.2583929964003701,
          0.6830124422020409,
          0.49532413287637306,
          0.586110323726692,
          0.726359391551873,
          0.43588599758225127,
          0.11923178100240023,
          0.6652416159484515,
          0.48157063307419135,
          0.34776842580316725,
          0.9858036101541795,
          0.1535320863722975,
          0.21078839360049245,
          0.7520982794086758,
          0.014341136142472188,
          0.16751088391844163,
          0.8263638999636043,
          0.1749561599720804,
          0.8738945411328847,
          0.5237884420902312,
          0.07196213670805934,
          0.37785270779377206,
          0.7312795195622607,
          0.14753585932658259,
          0.357890607290585,
          0.44497538453391683,
          0.9939388640744683,
          0.8653121273683868,
          0.47439396537654455,
          0.9306618531785277,
          0.09360612986179939,
          0.4128825566982735,
          0.08684578956864789,
          0.9418999078300933,
          0.27371535405063174,
          0.31935626396969496,
          0.2275087351427203,
          0.700562736279394,
          0.7959847479373443,
          0.5186137127813002,
          0.30174234521080157,
          0.026979288780546232,
          0.20042878367078476,
          0.2873340036805888,
          0.5639823603781056,
          0.6957213554663564,
          0.29910261105657865,
          0.24823880655915684,
          0.578797045212751
         ],
         "yaxis": "y15"
        },
        {
         "hovertemplate": "num_samples=100<br>name=sobol<br>x1=%{x}<br>x2=%{y}<extra></extra>",
         "legendgroup": "",
         "marker": {
          "color": "#636efa",
          "symbol": "circle"
         },
         "mode": "markers",
         "name": "",
         "orientation": "v",
         "showlegend": false,
         "type": "scatter",
         "x": [
          0.8405356276780367,
          0.40913079865276814,
          0.0016598105430603027,
          0.7499596476554871,
          0.5625586230307817,
          0.1858260352164507,
          0.27835507690906525,
          0.9719826728105545,
          0.8847877597436309,
          0.36353965755552053,
          0.20997450221329927,
          0.5403060661628842,
          0.6472160285338759,
          0.10251516755670309,
          0.4489500420168042,
          0.8027343647554517,
          0.7527160430327058,
          0.4965879702940583,
          0.09351250063627958,
          0.6577446116134524,
          0.5297775203362107,
          0.21897720638662577,
          0.31590170692652464,
          0.934806059114635,
          0.9574868194758892,
          0.29120297357439995,
          0.13422083668410778,
          0.6164221744984388,
          0.6960961483418941,
          0.05326506122946739,
          0.39628289453685284,
          0.8550314735621214,
          0.8604773636907339,
          0.39003959856927395,
          0.04311646893620491,
          0.7054473347961903,
          0.6070365216583014,
          0.1443959977477789,
          0.29747283831238747,
          0.9520064629614353,
          0.9136368064209819,
          0.3377307681366801,
          0.24471347127109766,
          0.5047010639682412,
          0.6827789722010493,
          0.06779517512768507,
          0.4747778484597802,
          0.7738431999459863,
          0.7962126107886434,
          0.4541785093024373,
          0.11164893116801977,
          0.636788978241384,
          0.5506910504773259,
          0.20085970778018236,
          0.3583301594480872,
          0.891267447732389,
          0.9940291866660118,
          0.25746431201696396,
          0.161028066650033,
          0.5885123405605555,
          0.7239714935421944,
          0.026484377682209015,
          0.43004816211760044,
          0.8184546772390604,
          0.8265566527843475,
          0.422007292509079,
          0.018930869176983833,
          0.7315861750394106,
          0.580928310751915,
          0.16855119168758392,
          0.2654747385531664,
          0.9859578032046556,
          0.8992473529651761,
          0.35016721952706575,
          0.19318412896245718,
          0.5581836616620421,
          0.6293270187452435,
          0.1192941265180707,
          0.46231100615113974,
          0.7882632976397872,
          0.7657108260318637,
          0.48272728454321623,
          0.0752572501078248,
          0.6751338923349977,
          0.5123767657205462,
          0.23722098302096128,
          0.32975097838789225,
          0.9217998618260026,
          0.9439961593598127,
          0.3055443447083235,
          0.15198014304041862,
          0.5995135121047497,
          0.7130009662359953,
          0.035501910373568535,
          0.38193773850798607,
          0.8685183487832546,
          0.8476008661091328,
          0.4040185697376728,
          0.06148994527757168,
          0.688176279887557
         ],
         "xaxis": "x16",
         "y": [
          0.06982214003801346,
          0.8958832994103432,
          0.34589293133467436,
          0.6720461202785373,
          0.4165923837572336,
          0.6177145782858133,
          0.14047820214182138,
          0.8415703559294343,
          0.30285038612782955,
          0.7226694133132696,
          0.01886314619332552,
          0.9387732492759824,
          0.21480626240372658,
          0.7596863247454166,
          0.4987510656937957,
          0.5436001336202025,
          0.4597140122205019,
          0.5045256484299898,
          0.23822760675102472,
          0.7831303188577294,
          0.057949066162109375,
          0.9778217375278473,
          0.27939494233578444,
          0.6992366192862391,
          0.1639341227710247,
          0.8650026731193066,
          0.37750598695129156,
          0.5786665668711066,
          0.3224720638245344,
          0.6486016493290663,
          0.10885871667414904,
          0.9349582614377141,
          0.3701706677675247,
          0.6651120036840439,
          0.09204364102333784,
          0.8870760528370738,
          0.1473627109080553,
          0.8173650819808245,
          0.42544920835644007,
          0.595420585013926,
          0.010189427062869072,
          0.9613724183291197,
          0.29602691251784563,
          0.7473019333556294,
          0.4761023186147213,
          0.5523463450372219,
          0.19022335018962622,
          0.76643733587116,
          0.22930223681032658,
          0.8054930958896875,
          0.4526386493816972,
          0.5289215380325913,
          0.25698258727788925,
          0.7082344815135002,
          0.033602784387767315,
          0.9848246378824115,
          0.4020353741943836,
          0.5719688422977924,
          0.1864075129851699,
          0.8564320569857955,
          0.11550683341920376,
          0.9105013366788626,
          0.33109225798398256,
          0.6260557668283582,
          0.43059181328862906,
          0.6044314717873931,
          0.15394488349556923,
          0.8278756178915501,
          0.08302799332886934,
          0.8819286869838834,
          0.35966490767896175,
          0.6585346069186926,
          0.19682339671999216,
          0.7769204461947083,
          0.48121129907667637,
          0.5614003781229258,
          0.2855390263721347,
          0.7406971110031009,
          0.0011401548981666565,
          0.956268198788166,
          0.040211659856140614,
          0.9953008415177464,
          0.26209848932921886,
          0.7172797005623579,
          0.4421595921739936,
          0.5223098089918494,
          0.2202598862349987,
          0.8003800623118877,
          0.336227941326797,
          0.6350754676386714,
          0.12208017706871033,
          0.9210187792778015,
          0.17738494370132685,
          0.8512935051694512,
          0.3915207851678133,
          0.5653983522206545,
          0.12950323428958654,
          0.8344779750332236,
          0.4080306850373745,
          0.6130974553525448
         ],
         "yaxis": "y16"
        },
        {
         "hovertemplate": "num_samples=50<br>name=grid<br>x1=%{x}<br>x2=%{y}<extra></extra>",
         "legendgroup": "",
         "marker": {
          "color": "#636efa",
          "symbol": "circle"
         },
         "mode": "markers",
         "name": "",
         "orientation": "v",
         "showlegend": false,
         "type": "scatter",
         "x": [
          0,
          0,
          0,
          0,
          0,
          0,
          0,
          0.16666666666666666,
          0.16666666666666666,
          0.16666666666666666,
          0.16666666666666666,
          0.16666666666666666,
          0.16666666666666666,
          0.16666666666666666,
          0.3333333333333333,
          0.3333333333333333,
          0.3333333333333333,
          0.3333333333333333,
          0.3333333333333333,
          0.3333333333333333,
          0.3333333333333333,
          0.5,
          0.5,
          0.5,
          0.5,
          0.5,
          0.5,
          0.5,
          0.6666666666666666,
          0.6666666666666666,
          0.6666666666666666,
          0.6666666666666666,
          0.6666666666666666,
          0.6666666666666666,
          0.6666666666666666,
          0.8333333333333333,
          0.8333333333333333,
          0.8333333333333333,
          0.8333333333333333,
          0.8333333333333333,
          0.8333333333333333,
          0.8333333333333333,
          1,
          1,
          1,
          1,
          1,
          1,
          1
         ],
         "xaxis": "x9",
         "y": [
          0,
          0.16666666666666666,
          0.3333333333333333,
          0.5,
          0.6666666666666666,
          0.8333333333333333,
          1,
          0,
          0.16666666666666666,
          0.3333333333333333,
          0.5,
          0.6666666666666666,
          0.8333333333333333,
          1,
          0,
          0.16666666666666666,
          0.3333333333333333,
          0.5,
          0.6666666666666666,
          0.8333333333333333,
          1,
          0,
          0.16666666666666666,
          0.3333333333333333,
          0.5,
          0.6666666666666666,
          0.8333333333333333,
          1,
          0,
          0.16666666666666666,
          0.3333333333333333,
          0.5,
          0.6666666666666666,
          0.8333333333333333,
          1,
          0,
          0.16666666666666666,
          0.3333333333333333,
          0.5,
          0.6666666666666666,
          0.8333333333333333,
          1,
          0,
          0.16666666666666666,
          0.3333333333333333,
          0.5,
          0.6666666666666666,
          0.8333333333333333,
          1
         ],
         "yaxis": "y9"
        },
        {
         "hovertemplate": "num_samples=50<br>name=random<br>x1=%{x}<br>x2=%{y}<extra></extra>",
         "legendgroup": "",
         "marker": {
          "color": "#636efa",
          "symbol": "circle"
         },
         "mode": "markers",
         "name": "",
         "orientation": "v",
         "showlegend": false,
         "type": "scatter",
         "x": [
          0.1794639558412412,
          0.5581274555381862,
          0.03394473843050272,
          0.10545456948104082,
          0.6165242309208334,
          0.8414485963281885,
          0.486334224777521,
          0.3765733116695218,
          0.8610974619043088,
          0.1984357396716595,
          0.5942685943302205,
          0.5928927791264931,
          0.0940834934807151,
          0.2799899025612309,
          0.6318157671717738,
          0.0787649401185283,
          0.2633142860413805,
          0.18027804870243047,
          0.9655164973570199,
          0.38873570534212176,
          0.9622019925941082,
          0.4498588167797254,
          0.4917218462862596,
          0.554545903364071,
          0.6857053925115444,
          0.615313007248447,
          0.4653630303411328,
          0.2343749476088649,
          0.8955298119893073,
          0.791846321523572,
          0.09348813609627071,
          0.5188224495743939,
          0.1098148436827382,
          0.37821267199885744,
          0.35300376602376904,
          0.23740254058475907,
          0.5040876953332194,
          0.7922750415193349,
          0.8546401562846707,
          0.9282665282110694,
          0.9502861332596496,
          0.47890994096450656,
          0.7021412515221758,
          0.4583830701622492,
          0.7956304077874494,
          0.8126195812930227,
          0.936816255886886,
          0.46885231746410594,
          0.650309614442725,
          0.4552977447487876
         ],
         "xaxis": "x10",
         "y": [
          0.5498749137387259,
          0.9172890049192844,
          0.34430436277487064,
          0.26957909344217357,
          0.011562732204363546,
          0.47722059809624284,
          0.2380339853390444,
          0.6633340244053708,
          0.6161928801831046,
          0.6134189448293013,
          0.5961208655121695,
          0.7032033334884,
          0.6108121281257967,
          0.3833824968099586,
          0.4573992757771139,
          0.38355628061023095,
          0.4244625515241386,
          0.9348783652492606,
          0.6047290797764253,
          0.357788345005593,
          0.891998338322468,
          0.8714359642410914,
          0.2181820872128334,
          0.7292076987748042,
          0.23454122442388547,
          0.9379803590302361,
          0.3633995784529661,
          0.4746131767096403,
          0.06049121513586009,
          0.38661221130569956,
          0.02597656971899298,
          0.1765229831562829,
          0.3852331371390849,
          0.10215409867411462,
          0.7006454354040921,
          0.22186195387583074,
          0.189954539140054,
          0.33582280279300114,
          0.10069020171190901,
          0.5687596028622921,
          0.2747796718055313,
          0.9044692538417397,
          0.05324607648936197,
          0.5193703073645957,
          0.21259620386132438,
          0.35827414299379357,
          0.2719689093862946,
          0.468750583173953,
          0.22204299770327252,
          0.03056803787438178
         ],
         "yaxis": "y10"
        },
        {
         "hovertemplate": "num_samples=50<br>name=latin_hypercube<br>x1=%{x}<br>x2=%{y}<extra></extra>",
         "legendgroup": "",
         "marker": {
          "color": "#636efa",
          "symbol": "circle"
         },
         "mode": "markers",
         "name": "",
         "orientation": "v",
         "showlegend": false,
         "type": "scatter",
         "x": [
          0.9171719746348724,
          0.9797039874701023,
          0.44086897608735454,
          0.022022888165135625,
          0.1455133568081482,
          0.8966924213226549,
          0.9926268241292615,
          0.7751744930082494,
          0.10464405858447057,
          0.5966852705064303,
          0.5157644539764499,
          0.6069346469233874,
          0.3376957652286625,
          0.3990637245250874,
          0.284539299882665,
          0.229299474800195,
          0.6337076235653948,
          0.3158083954582759,
          0.5735528501720647,
          0.5283715385463562,
          0.07783455198079374,
          0.46301530348728215,
          0.087106676427616,
          0.37718893781578744,
          0.5532227854153156,
          0.6795593356645181,
          0.8329506050159368,
          0.26652513247542736,
          0.7162657954977384,
          0.6574088676986234,
          0.4980273605152211,
          0.7874836787339791,
          0.818668737674883,
          0.7505845325199216,
          0.9277423692278188,
          0.43360225652881046,
          0.05881806849463328,
          0.0068199370005000625,
          0.251596818117667,
          0.6951985686483734,
          0.20000260934053,
          0.40387381529766064,
          0.7301960622661823,
          0.9409024800843802,
          0.1930104127399905,
          0.8677646959379625,
          0.8592259862011182,
          0.17866013096514344,
          0.3573180617448687,
          0.1213306312076499
         ],
         "xaxis": "x11",
         "y": [
          0.7537087389294592,
          0.13196460187709796,
          0.8705793236373374,
          0.6109164983266805,
          0.16082097595374859,
          0.2638490627555713,
          0.635281730442558,
          0.6949284201394537,
          0.3616447621321769,
          0.7867166318955536,
          0.30715812260984293,
          0.4625429232705418,
          0.2174068810706943,
          0.5668191403822571,
          0.4389865962530582,
          0.4993520994128658,
          0.23629584252419605,
          0.7342755844558725,
          0.10228742431484981,
          0.8409617642285997,
          0.09875603318672757,
          0.14596103647866326,
          0.5265167472274869,
          0.04353897714458048,
          0.7090791038362332,
          0.3406685772912732,
          0.0224603124981142,
          0.9729642817837315,
          0.07555640156131024,
          0.9955931661917644,
          0.4584553621339594,
          0.197686633493323,
          0.9012269052956955,
          0.4156361385247539,
          0.386729259970151,
          0.2878119982494555,
          0.9300507855140357,
          0.25251974070899236,
          0.010395913997533469,
          0.5856078026892564,
          0.3247704782732951,
          0.6409524225140276,
          0.8378101720395962,
          0.9426971736374671,
          0.6679816385434469,
          0.504808108994434,
          0.5444993177553971,
          0.7791126024354292,
          0.809606079940095,
          0.8860595441206135
         ],
         "yaxis": "y11"
        },
        {
         "hovertemplate": "num_samples=50<br>name=sobol<br>x1=%{x}<br>x2=%{y}<extra></extra>",
         "legendgroup": "",
         "marker": {
          "color": "#636efa",
          "symbol": "circle"
         },
         "mode": "markers",
         "name": "",
         "orientation": "v",
         "showlegend": false,
         "type": "scatter",
         "x": [
          0.43656153976917267,
          0.6186162335798144,
          0.9419532679021358,
          0.002868897281587124,
          0.2069062376394868,
          0.7711193431168795,
          0.6644044267013669,
          0.35757005028426647,
          0.29137582145631313,
          0.7305950196459889,
          0.829929182305932,
          0.14809991512447596,
          0.06888073589652777,
          0.8759455420076847,
          0.5596244810149074,
          0.4955492988228798,
          0.45795701537281275,
          0.5181192550808191,
          0.9213417740538716,
          0.10258201323449612,
          0.17982638627290726,
          0.8733944473788142,
          0.6910512484610081,
          0.2557278564199805,
          0.31410691794008017,
          0.6326686702668667,
          0.8067766232416034,
          0.2464478462934494,
          0.04438772611320019,
          0.9795400546863675,
          0.5849204231053591,
          0.3911517346277833,
          0.38463502656668425,
          0.5777691304683685,
          0.9866766249760985,
          0.05091927573084831,
          0.2236748356372118,
          0.7846238845959306,
          0.6548370849341154,
          0.3368641333654523,
          0.2778714122250676,
          0.7138258125633001,
          0.8506347248330712,
          0.15766810812056065,
          0.10972817614674568,
          0.9278712412342429,
          0.5115739926695824,
          0.4508265284821391,
          0.4708502534776926,
          0.5354991564527154
         ],
         "xaxis": "x12",
         "y": [
          0.07429652102291584,
          0.5146026602014899,
          0.4241181379184127,
          0.9850296173244715,
          0.3640266479924321,
          0.802875429391861,
          0.13535695523023605,
          0.6957878964021802,
          0.48524452187120914,
          0.9238449996337295,
          0.014387457631528378,
          0.5745698381215334,
          0.19551451969891787,
          0.6355720981955528,
          0.3031485080718994,
          0.8638116838410497,
          0.2666256073862314,
          0.8319161152467132,
          0.23375762905925512,
          0.6696537155658007,
          0.040837411768734455,
          0.6047013476490974,
          0.46048422157764435,
          0.8959300788119435,
          0.1698679644614458,
          0.7334833582863212,
          0.3317021643742919,
          0.7668996993452311,
          0.3956560464575887,
          0.9606982320547104,
          0.10497567802667618,
          0.5406232224777341,
          0.40797867253422737,
          0.9718120926991105,
          0.09337347839027643,
          0.5287888161838055,
          0.1494833929464221,
          0.7148044165223837,
          0.35086932592093945,
          0.7867959318682551,
          0.0285138301551342,
          0.5935865351930261,
          0.47208737675100565,
          0.9077654369175434,
          0.2870092270895839,
          0.8505941014736891,
          0.21459141932427883,
          0.6497584385797381,
          0.24691402539610863,
          0.6857322910800576
         ],
         "yaxis": "y12"
        },
        {
         "hovertemplate": "num_samples=10<br>name=grid<br>x1=%{x}<br>x2=%{y}<extra></extra>",
         "legendgroup": "",
         "marker": {
          "color": "#636efa",
          "symbol": "circle"
         },
         "mode": "markers",
         "name": "",
         "orientation": "v",
         "showlegend": false,
         "type": "scatter",
         "x": [
          0,
          0,
          0,
          0.5,
          0.5,
          0.5,
          1,
          1,
          1
         ],
         "xaxis": "x5",
         "y": [
          0,
          0.5,
          1,
          0,
          0.5,
          1,
          0,
          0.5,
          1
         ],
         "yaxis": "y5"
        },
        {
         "hovertemplate": "num_samples=10<br>name=random<br>x1=%{x}<br>x2=%{y}<extra></extra>",
         "legendgroup": "",
         "marker": {
          "color": "#636efa",
          "symbol": "circle"
         },
         "mode": "markers",
         "name": "",
         "orientation": "v",
         "showlegend": false,
         "type": "scatter",
         "x": [
          0.3667940724868326,
          0.9207452263655252,
          0.20601588845403718,
          0.8415563465540999,
          0.5890001504055988,
          0.8579598954678741,
          0.7149421677608118,
          0.4231993848627422,
          0.023298242129649815,
          0.8433954115633044
         ],
         "xaxis": "x6",
         "y": [
          0.09612791484490435,
          0.3371205339992682,
          0.284609690840677,
          0.9240652897547533,
          0.059527670717528736,
          0.5501569306143618,
          0.6835076034173031,
          0.27861823673771413,
          0.570414256852251,
          0.11503255058940598
         ],
         "yaxis": "y6"
        },
        {
         "hovertemplate": "num_samples=10<br>name=latin_hypercube<br>x1=%{x}<br>x2=%{y}<extra></extra>",
         "legendgroup": "",
         "marker": {
          "color": "#636efa",
          "symbol": "circle"
         },
         "mode": "markers",
         "name": "",
         "orientation": "v",
         "showlegend": false,
         "type": "scatter",
         "x": [
          0.602638911800916,
          0.29449228052148946,
          0.8026900184142824,
          0.7385218434946849,
          0.43737639909613735,
          0.540812978782059,
          0.36012744424897897,
          0.020834365019661284,
          0.14453490822723714,
          0.9904159509032272
         ],
         "xaxis": "x7",
         "y": [
          0.617501032591252,
          0.18611680040953021,
          0.8649477297636359,
          0.4954927959830272,
          0.5153755433174642,
          0.22000853758271982,
          0.9661363268532224,
          0.33154009363821535,
          0.7096604445907907,
          0.0587640408651939
         ],
         "yaxis": "y7"
        },
        {
         "hovertemplate": "num_samples=10<br>name=sobol<br>x1=%{x}<br>x2=%{y}<extra></extra>",
         "legendgroup": "",
         "marker": {
          "color": "#636efa",
          "symbol": "circle"
         },
         "mode": "markers",
         "name": "",
         "orientation": "v",
         "showlegend": false,
         "type": "scatter",
         "x": [
          0.4518014267086983,
          0.8872913997620344,
          0.5211723539978266,
          0.08556034788489342,
          0.23962384462356567,
          0.6791262831538916,
          0.7952452916651964,
          0.3558649607002735,
          0.2714141719043255,
          0.8358099106699228
         ],
         "xaxis": "x8",
         "y": [
          0.8098986018449068,
          0.29863094445317984,
          0.7392247542738914,
          0.24260362703353167,
          0.5988168818876147,
          0.1031875740736723,
          0.9185222694650292,
          0.4062933064997196,
          0.6782993283122778,
          0.18169535975903273
         ],
         "yaxis": "y8"
        },
        {
         "hovertemplate": "num_samples=5<br>name=grid<br>x1=%{x}<br>x2=%{y}<extra></extra>",
         "legendgroup": "",
         "marker": {
          "color": "#636efa",
          "symbol": "circle"
         },
         "mode": "markers",
         "name": "",
         "orientation": "v",
         "showlegend": false,
         "type": "scatter",
         "x": [
          0,
          0,
          1,
          1
         ],
         "xaxis": "x",
         "y": [
          0,
          1,
          0,
          1
         ],
         "yaxis": "y"
        },
        {
         "hovertemplate": "num_samples=5<br>name=random<br>x1=%{x}<br>x2=%{y}<extra></extra>",
         "legendgroup": "",
         "marker": {
          "color": "#636efa",
          "symbol": "circle"
         },
         "mode": "markers",
         "name": "",
         "orientation": "v",
         "showlegend": false,
         "type": "scatter",
         "x": [
          0.8008479030598902,
          0.6322682862715094,
          0.9483874553780537,
          0.9272187808290357,
          0.22258250622259956
         ],
         "xaxis": "x2",
         "y": [
          0.23941739273057894,
          0.8674807903043585,
          0.1208694297420243,
          0.978710759586119,
          0.25184314404015806
         ],
         "yaxis": "y2"
        },
        {
         "hovertemplate": "num_samples=5<br>name=latin_hypercube<br>x1=%{x}<br>x2=%{y}<extra></extra>",
         "legendgroup": "",
         "marker": {
          "color": "#636efa",
          "symbol": "circle"
         },
         "mode": "markers",
         "name": "",
         "orientation": "v",
         "showlegend": false,
         "type": "scatter",
         "x": [
          0.5724575174370816,
          0.06118443747674849,
          0.20657560401167854,
          0.6208141984958724,
          0.8410561374205532
         ],
         "xaxis": "x3",
         "y": [
          0.05383729448892496,
          0.42991477768485,
          0.7625204464037013,
          0.9537597079452395,
          0.3555001087601105
         ],
         "yaxis": "y3"
        },
        {
         "hovertemplate": "num_samples=5<br>name=sobol<br>x1=%{x}<br>x2=%{y}<extra></extra>",
         "legendgroup": "",
         "marker": {
          "color": "#636efa",
          "symbol": "circle"
         },
         "mode": "markers",
         "name": "",
         "orientation": "v",
         "showlegend": false,
         "type": "scatter",
         "x": [
          0.9244714472442865,
          0.3217450035735965,
          0.11972394026815891,
          0.6262503964826465,
          0.5574493706226349
         ],
         "xaxis": "x4",
         "y": [
          0.3798405956476927,
          0.8166582891717553,
          0.06605710741132498,
          0.6280003413558006,
          0.14690967742353678
         ],
         "yaxis": "y4"
        }
       ],
       "layout": {
        "annotations": [
         {
          "showarrow": false,
          "text": "name=grid",
          "x": 0.11499999999999999,
          "xanchor": "center",
          "xref": "paper",
          "y": 1,
          "yanchor": "bottom",
          "yref": "paper"
         },
         {
          "showarrow": false,
          "text": "name=random",
          "x": 0.365,
          "xanchor": "center",
          "xref": "paper",
          "y": 1,
          "yanchor": "bottom",
          "yref": "paper"
         },
         {
          "showarrow": false,
          "text": "name=latin_hypercube",
          "x": 0.615,
          "xanchor": "center",
          "xref": "paper",
          "y": 1,
          "yanchor": "bottom",
          "yref": "paper"
         },
         {
          "showarrow": false,
          "text": "name=sobol",
          "x": 0.865,
          "xanchor": "center",
          "xref": "paper",
          "y": 1,
          "yanchor": "bottom",
          "yref": "paper"
         },
         {
          "showarrow": false,
          "text": "num_samples=5",
          "textangle": 90,
          "x": 0.98,
          "xanchor": "left",
          "xref": "paper",
          "y": 0.11375,
          "yanchor": "middle",
          "yref": "paper"
         },
         {
          "showarrow": false,
          "text": "num_samples=10",
          "textangle": 90,
          "x": 0.98,
          "xanchor": "left",
          "xref": "paper",
          "y": 0.37124999999999997,
          "yanchor": "middle",
          "yref": "paper"
         },
         {
          "showarrow": false,
          "text": "num_samples=50",
          "textangle": 90,
          "x": 0.98,
          "xanchor": "left",
          "xref": "paper",
          "y": 0.62875,
          "yanchor": "middle",
          "yref": "paper"
         },
         {
          "showarrow": false,
          "text": "num_samples=100",
          "textangle": 90,
          "x": 0.98,
          "xanchor": "left",
          "xref": "paper",
          "y": 0.88625,
          "yanchor": "middle",
          "yref": "paper"
         },
         {
          "bgcolor": "white",
          "showarrow": false,
          "text": " Discrepancy = 0.00409 ",
          "x": 0.5,
          "xref": "x13 domain",
          "y": -0.1,
          "yref": "y13 domain"
         },
         {
          "bgcolor": "white",
          "showarrow": false,
          "text": " Discrepancy = 0.00871 ",
          "x": 0.5,
          "xref": "x9 domain",
          "y": -0.1,
          "yref": "y9 domain"
         },
         {
          "bgcolor": "white",
          "showarrow": false,
          "text": " Discrepancy = 0.061 ",
          "x": 0.5,
          "xref": "x5 domain",
          "y": -0.1,
          "yref": "y5 domain"
         },
         {
          "bgcolor": "white",
          "showarrow": false,
          "text": " Discrepancy = 0.205 ",
          "x": 0.5,
          "xref": "x domain",
          "y": -0.1,
          "yref": "y domain"
         },
         {
          "bgcolor": "white",
          "showarrow": false,
          "text": " Discrepancy = 0.00287 ",
          "x": 0.5,
          "xref": "x14 domain",
          "y": -0.1,
          "yref": "y14 domain"
         },
         {
          "bgcolor": "white",
          "showarrow": false,
          "text": " Discrepancy = 0.0112 ",
          "x": 0.5,
          "xref": "x10 domain",
          "y": -0.1,
          "yref": "y10 domain"
         },
         {
          "bgcolor": "white",
          "showarrow": false,
          "text": " Discrepancy = 0.0335 ",
          "x": 0.5,
          "xref": "x6 domain",
          "y": -0.1,
          "yref": "y6 domain"
         },
         {
          "bgcolor": "white",
          "showarrow": false,
          "text": " Discrepancy = 0.0982 ",
          "x": 0.5,
          "xref": "x2 domain",
          "y": -0.1,
          "yref": "y2 domain"
         },
         {
          "bgcolor": "white",
          "showarrow": false,
          "text": " Discrepancy = 5.81e-05 ",
          "x": 0.5,
          "xref": "x15 domain",
          "y": -0.1,
          "yref": "y15 domain"
         },
         {
          "bgcolor": "white",
          "showarrow": false,
          "text": " Discrepancy = 0.000224 ",
          "x": 0.5,
          "xref": "x11 domain",
          "y": -0.1,
          "yref": "y11 domain"
         },
         {
          "bgcolor": "white",
          "showarrow": false,
          "text": " Discrepancy = 0.00526 ",
          "x": 0.5,
          "xref": "x7 domain",
          "y": -0.1,
          "yref": "y7 domain"
         },
         {
          "bgcolor": "white",
          "showarrow": false,
          "text": " Discrepancy = 0.02 ",
          "x": 0.5,
          "xref": "x3 domain",
          "y": -0.1,
          "yref": "y3 domain"
         },
         {
          "bgcolor": "white",
          "showarrow": false,
          "text": " Discrepancy = 0.000106 ",
          "x": 0.5,
          "xref": "x16 domain",
          "y": -0.1,
          "yref": "y16 domain"
         },
         {
          "bgcolor": "white",
          "showarrow": false,
          "text": " Discrepancy = 0.00044 ",
          "x": 0.5,
          "xref": "x12 domain",
          "y": -0.1,
          "yref": "y12 domain"
         },
         {
          "bgcolor": "white",
          "showarrow": false,
          "text": " Discrepancy = 0.00769 ",
          "x": 0.5,
          "xref": "x8 domain",
          "y": -0.1,
          "yref": "y8 domain"
         },
         {
          "bgcolor": "white",
          "showarrow": false,
          "text": " Discrepancy = 0.0248 ",
          "x": 0.5,
          "xref": "x4 domain",
          "y": -0.1,
          "yref": "y4 domain"
         }
        ],
        "height": 800,
        "legend": {
         "tracegroupgap": 0
        },
        "margin": {
         "b": 30,
         "r": 40,
         "t": 30
        },
        "template": {
         "data": {
          "bar": [
           {
            "error_x": {
             "color": "#2a3f5f"
            },
            "error_y": {
             "color": "#2a3f5f"
            },
            "marker": {
             "line": {
              "color": "#E5ECF6",
              "width": 0.5
             },
             "pattern": {
              "fillmode": "overlay",
              "size": 10,
              "solidity": 0.2
             }
            },
            "type": "bar"
           }
          ],
          "barpolar": [
           {
            "marker": {
             "line": {
              "color": "#E5ECF6",
              "width": 0.5
             },
             "pattern": {
              "fillmode": "overlay",
              "size": 10,
              "solidity": 0.2
             }
            },
            "type": "barpolar"
           }
          ],
          "carpet": [
           {
            "aaxis": {
             "endlinecolor": "#2a3f5f",
             "gridcolor": "white",
             "linecolor": "white",
             "minorgridcolor": "white",
             "startlinecolor": "#2a3f5f"
            },
            "baxis": {
             "endlinecolor": "#2a3f5f",
             "gridcolor": "white",
             "linecolor": "white",
             "minorgridcolor": "white",
             "startlinecolor": "#2a3f5f"
            },
            "type": "carpet"
           }
          ],
          "choropleth": [
           {
            "colorbar": {
             "outlinewidth": 0,
             "ticks": ""
            },
            "type": "choropleth"
           }
          ],
          "contour": [
           {
            "colorbar": {
             "outlinewidth": 0,
             "ticks": ""
            },
            "colorscale": [
             [
              0,
              "#0d0887"
             ],
             [
              0.1111111111111111,
              "#46039f"
             ],
             [
              0.2222222222222222,
              "#7201a8"
             ],
             [
              0.3333333333333333,
              "#9c179e"
             ],
             [
              0.4444444444444444,
              "#bd3786"
             ],
             [
              0.5555555555555556,
              "#d8576b"
             ],
             [
              0.6666666666666666,
              "#ed7953"
             ],
             [
              0.7777777777777778,
              "#fb9f3a"
             ],
             [
              0.8888888888888888,
              "#fdca26"
             ],
             [
              1,
              "#f0f921"
             ]
            ],
            "type": "contour"
           }
          ],
          "contourcarpet": [
           {
            "colorbar": {
             "outlinewidth": 0,
             "ticks": ""
            },
            "type": "contourcarpet"
           }
          ],
          "heatmap": [
           {
            "colorbar": {
             "outlinewidth": 0,
             "ticks": ""
            },
            "colorscale": [
             [
              0,
              "#0d0887"
             ],
             [
              0.1111111111111111,
              "#46039f"
             ],
             [
              0.2222222222222222,
              "#7201a8"
             ],
             [
              0.3333333333333333,
              "#9c179e"
             ],
             [
              0.4444444444444444,
              "#bd3786"
             ],
             [
              0.5555555555555556,
              "#d8576b"
             ],
             [
              0.6666666666666666,
              "#ed7953"
             ],
             [
              0.7777777777777778,
              "#fb9f3a"
             ],
             [
              0.8888888888888888,
              "#fdca26"
             ],
             [
              1,
              "#f0f921"
             ]
            ],
            "type": "heatmap"
           }
          ],
          "heatmapgl": [
           {
            "colorbar": {
             "outlinewidth": 0,
             "ticks": ""
            },
            "colorscale": [
             [
              0,
              "#0d0887"
             ],
             [
              0.1111111111111111,
              "#46039f"
             ],
             [
              0.2222222222222222,
              "#7201a8"
             ],
             [
              0.3333333333333333,
              "#9c179e"
             ],
             [
              0.4444444444444444,
              "#bd3786"
             ],
             [
              0.5555555555555556,
              "#d8576b"
             ],
             [
              0.6666666666666666,
              "#ed7953"
             ],
             [
              0.7777777777777778,
              "#fb9f3a"
             ],
             [
              0.8888888888888888,
              "#fdca26"
             ],
             [
              1,
              "#f0f921"
             ]
            ],
            "type": "heatmapgl"
           }
          ],
          "histogram": [
           {
            "marker": {
             "pattern": {
              "fillmode": "overlay",
              "size": 10,
              "solidity": 0.2
             }
            },
            "type": "histogram"
           }
          ],
          "histogram2d": [
           {
            "colorbar": {
             "outlinewidth": 0,
             "ticks": ""
            },
            "colorscale": [
             [
              0,
              "#0d0887"
             ],
             [
              0.1111111111111111,
              "#46039f"
             ],
             [
              0.2222222222222222,
              "#7201a8"
             ],
             [
              0.3333333333333333,
              "#9c179e"
             ],
             [
              0.4444444444444444,
              "#bd3786"
             ],
             [
              0.5555555555555556,
              "#d8576b"
             ],
             [
              0.6666666666666666,
              "#ed7953"
             ],
             [
              0.7777777777777778,
              "#fb9f3a"
             ],
             [
              0.8888888888888888,
              "#fdca26"
             ],
             [
              1,
              "#f0f921"
             ]
            ],
            "type": "histogram2d"
           }
          ],
          "histogram2dcontour": [
           {
            "colorbar": {
             "outlinewidth": 0,
             "ticks": ""
            },
            "colorscale": [
             [
              0,
              "#0d0887"
             ],
             [
              0.1111111111111111,
              "#46039f"
             ],
             [
              0.2222222222222222,
              "#7201a8"
             ],
             [
              0.3333333333333333,
              "#9c179e"
             ],
             [
              0.4444444444444444,
              "#bd3786"
             ],
             [
              0.5555555555555556,
              "#d8576b"
             ],
             [
              0.6666666666666666,
              "#ed7953"
             ],
             [
              0.7777777777777778,
              "#fb9f3a"
             ],
             [
              0.8888888888888888,
              "#fdca26"
             ],
             [
              1,
              "#f0f921"
             ]
            ],
            "type": "histogram2dcontour"
           }
          ],
          "mesh3d": [
           {
            "colorbar": {
             "outlinewidth": 0,
             "ticks": ""
            },
            "type": "mesh3d"
           }
          ],
          "parcoords": [
           {
            "line": {
             "colorbar": {
              "outlinewidth": 0,
              "ticks": ""
             }
            },
            "type": "parcoords"
           }
          ],
          "pie": [
           {
            "automargin": true,
            "type": "pie"
           }
          ],
          "scatter": [
           {
            "fillpattern": {
             "fillmode": "overlay",
             "size": 10,
             "solidity": 0.2
            },
            "type": "scatter"
           }
          ],
          "scatter3d": [
           {
            "line": {
             "colorbar": {
              "outlinewidth": 0,
              "ticks": ""
             }
            },
            "marker": {
             "colorbar": {
              "outlinewidth": 0,
              "ticks": ""
             }
            },
            "type": "scatter3d"
           }
          ],
          "scattercarpet": [
           {
            "marker": {
             "colorbar": {
              "outlinewidth": 0,
              "ticks": ""
             }
            },
            "type": "scattercarpet"
           }
          ],
          "scattergeo": [
           {
            "marker": {
             "colorbar": {
              "outlinewidth": 0,
              "ticks": ""
             }
            },
            "type": "scattergeo"
           }
          ],
          "scattergl": [
           {
            "marker": {
             "colorbar": {
              "outlinewidth": 0,
              "ticks": ""
             }
            },
            "type": "scattergl"
           }
          ],
          "scattermapbox": [
           {
            "marker": {
             "colorbar": {
              "outlinewidth": 0,
              "ticks": ""
             }
            },
            "type": "scattermapbox"
           }
          ],
          "scatterpolar": [
           {
            "marker": {
             "colorbar": {
              "outlinewidth": 0,
              "ticks": ""
             }
            },
            "type": "scatterpolar"
           }
          ],
          "scatterpolargl": [
           {
            "marker": {
             "colorbar": {
              "outlinewidth": 0,
              "ticks": ""
             }
            },
            "type": "scatterpolargl"
           }
          ],
          "scatterternary": [
           {
            "marker": {
             "colorbar": {
              "outlinewidth": 0,
              "ticks": ""
             }
            },
            "type": "scatterternary"
           }
          ],
          "surface": [
           {
            "colorbar": {
             "outlinewidth": 0,
             "ticks": ""
            },
            "colorscale": [
             [
              0,
              "#0d0887"
             ],
             [
              0.1111111111111111,
              "#46039f"
             ],
             [
              0.2222222222222222,
              "#7201a8"
             ],
             [
              0.3333333333333333,
              "#9c179e"
             ],
             [
              0.4444444444444444,
              "#bd3786"
             ],
             [
              0.5555555555555556,
              "#d8576b"
             ],
             [
              0.6666666666666666,
              "#ed7953"
             ],
             [
              0.7777777777777778,
              "#fb9f3a"
             ],
             [
              0.8888888888888888,
              "#fdca26"
             ],
             [
              1,
              "#f0f921"
             ]
            ],
            "type": "surface"
           }
          ],
          "table": [
           {
            "cells": {
             "fill": {
              "color": "#EBF0F8"
             },
             "line": {
              "color": "white"
             }
            },
            "header": {
             "fill": {
              "color": "#C8D4E3"
             },
             "line": {
              "color": "white"
             }
            },
            "type": "table"
           }
          ]
         },
         "layout": {
          "annotationdefaults": {
           "arrowcolor": "#2a3f5f",
           "arrowhead": 0,
           "arrowwidth": 1
          },
          "autotypenumbers": "strict",
          "coloraxis": {
           "colorbar": {
            "outlinewidth": 0,
            "ticks": ""
           }
          },
          "colorscale": {
           "diverging": [
            [
             0,
             "#8e0152"
            ],
            [
             0.1,
             "#c51b7d"
            ],
            [
             0.2,
             "#de77ae"
            ],
            [
             0.3,
             "#f1b6da"
            ],
            [
             0.4,
             "#fde0ef"
            ],
            [
             0.5,
             "#f7f7f7"
            ],
            [
             0.6,
             "#e6f5d0"
            ],
            [
             0.7,
             "#b8e186"
            ],
            [
             0.8,
             "#7fbc41"
            ],
            [
             0.9,
             "#4d9221"
            ],
            [
             1,
             "#276419"
            ]
           ],
           "sequential": [
            [
             0,
             "#0d0887"
            ],
            [
             0.1111111111111111,
             "#46039f"
            ],
            [
             0.2222222222222222,
             "#7201a8"
            ],
            [
             0.3333333333333333,
             "#9c179e"
            ],
            [
             0.4444444444444444,
             "#bd3786"
            ],
            [
             0.5555555555555556,
             "#d8576b"
            ],
            [
             0.6666666666666666,
             "#ed7953"
            ],
            [
             0.7777777777777778,
             "#fb9f3a"
            ],
            [
             0.8888888888888888,
             "#fdca26"
            ],
            [
             1,
             "#f0f921"
            ]
           ],
           "sequentialminus": [
            [
             0,
             "#0d0887"
            ],
            [
             0.1111111111111111,
             "#46039f"
            ],
            [
             0.2222222222222222,
             "#7201a8"
            ],
            [
             0.3333333333333333,
             "#9c179e"
            ],
            [
             0.4444444444444444,
             "#bd3786"
            ],
            [
             0.5555555555555556,
             "#d8576b"
            ],
            [
             0.6666666666666666,
             "#ed7953"
            ],
            [
             0.7777777777777778,
             "#fb9f3a"
            ],
            [
             0.8888888888888888,
             "#fdca26"
            ],
            [
             1,
             "#f0f921"
            ]
           ]
          },
          "colorway": [
           "#636efa",
           "#EF553B",
           "#00cc96",
           "#ab63fa",
           "#FFA15A",
           "#19d3f3",
           "#FF6692",
           "#B6E880",
           "#FF97FF",
           "#FECB52"
          ],
          "font": {
           "color": "#2a3f5f"
          },
          "geo": {
           "bgcolor": "white",
           "lakecolor": "white",
           "landcolor": "#E5ECF6",
           "showlakes": true,
           "showland": true,
           "subunitcolor": "white"
          },
          "hoverlabel": {
           "align": "left"
          },
          "hovermode": "closest",
          "mapbox": {
           "style": "light"
          },
          "paper_bgcolor": "white",
          "plot_bgcolor": "#E5ECF6",
          "polar": {
           "angularaxis": {
            "gridcolor": "white",
            "linecolor": "white",
            "ticks": ""
           },
           "bgcolor": "#E5ECF6",
           "radialaxis": {
            "gridcolor": "white",
            "linecolor": "white",
            "ticks": ""
           }
          },
          "scene": {
           "xaxis": {
            "backgroundcolor": "#E5ECF6",
            "gridcolor": "white",
            "gridwidth": 2,
            "linecolor": "white",
            "showbackground": true,
            "ticks": "",
            "zerolinecolor": "white"
           },
           "yaxis": {
            "backgroundcolor": "#E5ECF6",
            "gridcolor": "white",
            "gridwidth": 2,
            "linecolor": "white",
            "showbackground": true,
            "ticks": "",
            "zerolinecolor": "white"
           },
           "zaxis": {
            "backgroundcolor": "#E5ECF6",
            "gridcolor": "white",
            "gridwidth": 2,
            "linecolor": "white",
            "showbackground": true,
            "ticks": "",
            "zerolinecolor": "white"
           }
          },
          "shapedefaults": {
           "line": {
            "color": "#2a3f5f"
           }
          },
          "ternary": {
           "aaxis": {
            "gridcolor": "white",
            "linecolor": "white",
            "ticks": ""
           },
           "baxis": {
            "gridcolor": "white",
            "linecolor": "white",
            "ticks": ""
           },
           "bgcolor": "#E5ECF6",
           "caxis": {
            "gridcolor": "white",
            "linecolor": "white",
            "ticks": ""
           }
          },
          "title": {
           "x": 0.05
          },
          "xaxis": {
           "automargin": true,
           "gridcolor": "white",
           "linecolor": "white",
           "ticks": "",
           "title": {
            "standoff": 15
           },
           "zerolinecolor": "white",
           "zerolinewidth": 2
          },
          "yaxis": {
           "automargin": true,
           "gridcolor": "white",
           "linecolor": "white",
           "ticks": "",
           "title": {
            "standoff": 15
           },
           "zerolinecolor": "white",
           "zerolinewidth": 2
          }
         }
        },
        "width": 800,
        "xaxis": {
         "anchor": "y",
         "domain": [
          0,
          0.22999999999999998
         ],
         "title": {
          "text": "x1"
         }
        },
        "xaxis10": {
         "anchor": "y10",
         "domain": [
          0.24999999999999997,
          0.48
         ],
         "matches": "x",
         "showticklabels": false
        },
        "xaxis11": {
         "anchor": "y11",
         "domain": [
          0.49999999999999994,
          0.73
         ],
         "matches": "x",
         "showticklabels": false
        },
        "xaxis12": {
         "anchor": "y12",
         "domain": [
          0.75,
          0.98
         ],
         "matches": "x",
         "showticklabels": false
        },
        "xaxis13": {
         "anchor": "y13",
         "domain": [
          0,
          0.22999999999999998
         ],
         "matches": "x",
         "showticklabels": false
        },
        "xaxis14": {
         "anchor": "y14",
         "domain": [
          0.24999999999999997,
          0.48
         ],
         "matches": "x",
         "showticklabels": false
        },
        "xaxis15": {
         "anchor": "y15",
         "domain": [
          0.49999999999999994,
          0.73
         ],
         "matches": "x",
         "showticklabels": false
        },
        "xaxis16": {
         "anchor": "y16",
         "domain": [
          0.75,
          0.98
         ],
         "matches": "x",
         "showticklabels": false
        },
        "xaxis2": {
         "anchor": "y2",
         "domain": [
          0.24999999999999997,
          0.48
         ],
         "matches": "x",
         "title": {
          "text": "x1"
         }
        },
        "xaxis3": {
         "anchor": "y3",
         "domain": [
          0.49999999999999994,
          0.73
         ],
         "matches": "x",
         "title": {
          "text": "x1"
         }
        },
        "xaxis4": {
         "anchor": "y4",
         "domain": [
          0.75,
          0.98
         ],
         "matches": "x",
         "title": {
          "text": "x1"
         }
        },
        "xaxis5": {
         "anchor": "y5",
         "domain": [
          0,
          0.22999999999999998
         ],
         "matches": "x",
         "showticklabels": false
        },
        "xaxis6": {
         "anchor": "y6",
         "domain": [
          0.24999999999999997,
          0.48
         ],
         "matches": "x",
         "showticklabels": false
        },
        "xaxis7": {
         "anchor": "y7",
         "domain": [
          0.49999999999999994,
          0.73
         ],
         "matches": "x",
         "showticklabels": false
        },
        "xaxis8": {
         "anchor": "y8",
         "domain": [
          0.75,
          0.98
         ],
         "matches": "x",
         "showticklabels": false
        },
        "xaxis9": {
         "anchor": "y9",
         "domain": [
          0,
          0.22999999999999998
         ],
         "matches": "x",
         "showticklabels": false
        },
        "yaxis": {
         "anchor": "x",
         "domain": [
          0,
          0.2275
         ],
         "title": {
          "text": "x2"
         }
        },
        "yaxis10": {
         "anchor": "x10",
         "domain": [
          0.515,
          0.7425
         ],
         "matches": "y",
         "showticklabels": false
        },
        "yaxis11": {
         "anchor": "x11",
         "domain": [
          0.515,
          0.7425
         ],
         "matches": "y",
         "showticklabels": false
        },
        "yaxis12": {
         "anchor": "x12",
         "domain": [
          0.515,
          0.7425
         ],
         "matches": "y",
         "showticklabels": false
        },
        "yaxis13": {
         "anchor": "x13",
         "domain": [
          0.7725,
          1
         ],
         "matches": "y",
         "title": {
          "text": "x2"
         }
        },
        "yaxis14": {
         "anchor": "x14",
         "domain": [
          0.7725,
          1
         ],
         "matches": "y",
         "showticklabels": false
        },
        "yaxis15": {
         "anchor": "x15",
         "domain": [
          0.7725,
          1
         ],
         "matches": "y",
         "showticklabels": false
        },
        "yaxis16": {
         "anchor": "x16",
         "domain": [
          0.7725,
          1
         ],
         "matches": "y",
         "showticklabels": false
        },
        "yaxis2": {
         "anchor": "x2",
         "domain": [
          0,
          0.2275
         ],
         "matches": "y",
         "showticklabels": false
        },
        "yaxis3": {
         "anchor": "x3",
         "domain": [
          0,
          0.2275
         ],
         "matches": "y",
         "showticklabels": false
        },
        "yaxis4": {
         "anchor": "x4",
         "domain": [
          0,
          0.2275
         ],
         "matches": "y",
         "showticklabels": false
        },
        "yaxis5": {
         "anchor": "x5",
         "domain": [
          0.2575,
          0.485
         ],
         "matches": "y",
         "title": {
          "text": "x2"
         }
        },
        "yaxis6": {
         "anchor": "x6",
         "domain": [
          0.2575,
          0.485
         ],
         "matches": "y",
         "showticklabels": false
        },
        "yaxis7": {
         "anchor": "x7",
         "domain": [
          0.2575,
          0.485
         ],
         "matches": "y",
         "showticklabels": false
        },
        "yaxis8": {
         "anchor": "x8",
         "domain": [
          0.2575,
          0.485
         ],
         "matches": "y",
         "showticklabels": false
        },
        "yaxis9": {
         "anchor": "x9",
         "domain": [
          0.515,
          0.7425
         ],
         "matches": "y",
         "title": {
          "text": "x2"
         }
        }
       }
      }
     },
     "metadata": {},
     "output_type": "display_data"
    }
   ],
   "source": [
    "fig = px.scatter(\n",
    "    compare_df,\n",
    "    x=\"x1\",\n",
    "    y=\"x2\",\n",
    "    facet_row=\"num_samples\",\n",
    "    facet_col=\"name\",\n",
    "    width=800,\n",
    "    height=800,\n",
    ")\n",
    "\n",
    "for col, (name, sampling_fn) in enumerate(sampling_fns.items()):\n",
    "    col = col+1\n",
    "    for row, num_samples in enumerate(sample_nums):\n",
    "        row = 4 - row\n",
    "        fig.add_annotation(\n",
    "            xref=\"x domain\",\n",
    "            yref=\"y domain\",\n",
    "            x=0.5,\n",
    "            y=-0.1,\n",
    "            text=f' Discrepancy = {discrepancy_df.query(\"name == @name and num_samples == @num_samples\").iloc[0][\"discrepancy\"]:.3g} ',\n",
    "            # text = f\"row={row}, col={col}\",\n",
    "            showarrow=False,\n",
    "            bgcolor=\"white\",\n",
    "            row=row,\n",
    "            col=col,\n",
    "        )\n",
    "\n",
    "fig_path = \"traditional-doe-compare-discrepancy\"\n",
    "fig.update_layout(\n",
    "    margin=dict(r=40, t=30, b=30),\n",
    ")\n",
    "fig.write_html(fig_path + \".html\")\n",
    "fig.write_image(fig_path + \".png\")\n",
    "fig.show()\n"
   ]
  },
  {
   "cell_type": "code",
   "execution_count": 21,
   "metadata": {},
   "outputs": [
    {
     "name": "stdout",
     "output_type": "stream",
     "text": [
      "10\n",
      "4\n",
      "1\n",
      "1\n"
     ]
    },
    {
     "name": "stderr",
     "output_type": "stream",
     "text": [
      "C:\\Users\\sterg\\AppData\\Local\\Temp\\ipykernel_29488\\2746881076.py:5: UserWarning:\n",
      "\n",
      "The balance properties of Sobol' points require n to be a power of 2.\n",
      "\n",
      "C:\\Users\\sterg\\AppData\\Local\\Temp\\ipykernel_29488\\2746881076.py:5: UserWarning:\n",
      "\n",
      "The balance properties of Sobol' points require n to be a power of 2.\n",
      "\n",
      "C:\\Users\\sterg\\AppData\\Local\\Temp\\ipykernel_29488\\2746881076.py:5: UserWarning:\n",
      "\n",
      "The balance properties of Sobol' points require n to be a power of 2.\n",
      "\n",
      "C:\\Users\\sterg\\AppData\\Local\\Temp\\ipykernel_29488\\2746881076.py:5: UserWarning:\n",
      "\n",
      "The balance properties of Sobol' points require n to be a power of 2.\n",
      "\n"
     ]
    },
    {
     "data": {
      "text/html": [
       "<div>\n",
       "<style scoped>\n",
       "    .dataframe tbody tr th:only-of-type {\n",
       "        vertical-align: middle;\n",
       "    }\n",
       "\n",
       "    .dataframe tbody tr th {\n",
       "        vertical-align: top;\n",
       "    }\n",
       "\n",
       "    .dataframe thead th {\n",
       "        text-align: right;\n",
       "    }\n",
       "</style>\n",
       "<table border=\"1\" class=\"dataframe\">\n",
       "  <thead>\n",
       "    <tr style=\"text-align: right;\">\n",
       "      <th></th>\n",
       "      <th></th>\n",
       "      <th></th>\n",
       "    </tr>\n",
       "    <tr>\n",
       "      <th>num_dims</th>\n",
       "      <th>discrepancy</th>\n",
       "      <th>name</th>\n",
       "    </tr>\n",
       "  </thead>\n",
       "  <tbody>\n",
       "    <tr>\n",
       "      <th rowspan=\"4\" valign=\"top\">2</th>\n",
       "      <th>0.000064</th>\n",
       "      <th>latin_hypercube</th>\n",
       "    </tr>\n",
       "    <tr>\n",
       "      <th>0.000134</th>\n",
       "      <th>sobol</th>\n",
       "    </tr>\n",
       "    <tr>\n",
       "      <th>0.004093</th>\n",
       "      <th>grid</th>\n",
       "    </tr>\n",
       "    <tr>\n",
       "      <th>0.006478</th>\n",
       "      <th>random</th>\n",
       "    </tr>\n",
       "    <tr>\n",
       "      <th rowspan=\"4\" valign=\"top\">3</th>\n",
       "      <th>0.000210</th>\n",
       "      <th>latin_hypercube</th>\n",
       "    </tr>\n",
       "    <tr>\n",
       "      <th>0.000324</th>\n",
       "      <th>sobol</th>\n",
       "    </tr>\n",
       "    <tr>\n",
       "      <th>0.010809</th>\n",
       "      <th>random</th>\n",
       "    </tr>\n",
       "    <tr>\n",
       "      <th>0.053356</th>\n",
       "      <th>grid</th>\n",
       "    </tr>\n",
       "    <tr>\n",
       "      <th rowspan=\"4\" valign=\"top\">10</th>\n",
       "      <th>0.018654</th>\n",
       "      <th>latin_hypercube</th>\n",
       "    </tr>\n",
       "    <tr>\n",
       "      <th>0.022224</th>\n",
       "      <th>sobol</th>\n",
       "    </tr>\n",
       "    <tr>\n",
       "      <th>0.068428</th>\n",
       "      <th>random</th>\n",
       "    </tr>\n",
       "    <tr>\n",
       "      <th>53.396889</th>\n",
       "      <th>grid</th>\n",
       "    </tr>\n",
       "    <tr>\n",
       "      <th rowspan=\"4\" valign=\"top\">20</th>\n",
       "      <th>0.454235</th>\n",
       "      <th>latin_hypercube</th>\n",
       "    </tr>\n",
       "    <tr>\n",
       "      <th>0.571777</th>\n",
       "      <th>sobol</th>\n",
       "    </tr>\n",
       "    <tr>\n",
       "      <th>0.840589</th>\n",
       "      <th>random</th>\n",
       "    </tr>\n",
       "    <tr>\n",
       "      <th>3309.123807</th>\n",
       "      <th>grid</th>\n",
       "    </tr>\n",
       "  </tbody>\n",
       "</table>\n",
       "</div>"
      ],
      "text/plain": [
       "Empty DataFrame\n",
       "Columns: []\n",
       "Index: [(2, 6.409265931739405e-05, latin_hypercube), (2, 0.00013419647223589237, sobol), (2, 0.004092935528052344, grid), (2, 0.006477791186335402, random), (3, 0.0002103949356229151, latin_hypercube), (3, 0.0003235892122264161, sobol), (3, 0.010809351752242069, random), (3, 0.05335594564475454, grid), (10, 0.018653897714654644, latin_hypercube), (10, 0.022224334095691134, sobol), (10, 0.06842806743129515, random), (10, 53.396888619801956, grid), (20, 0.45423472936956166, latin_hypercube), (20, 0.5717774649791076, sobol), (20, 0.8405888642021928, random), (20, 3309.1238072763103, grid)]"
      ]
     },
     "execution_count": 21,
     "metadata": {},
     "output_type": "execute_result"
    }
   ],
   "source": [
    "dim_discrepancies = []\n",
    "# sample_dfs = []\n",
    "dim_nums = [2, 3, 10, 20]\n",
    "num_samples = 100\n",
    "for name, sampling_fn in sampling_fns.items():\n",
    "    for num_dims in dim_nums:\n",
    "        bounds = {f\"x{i+1}\": [0, 1] for i in range(num_dims)}\n",
    "        sample_df = sampling_fn(bounds, num_samples, seed=0)\n",
    "        discrepancy = qmc.discrepancy(sample_df.values)\n",
    "        dim_discrepancies.append(dict(name=name, num_samples=sample_df.shape[0], discrepancy=discrepancy, num_dims=num_dims))\n",
    "        # sample_dfs.append(sample_df)\n",
    "\n",
    "dim_discrepancy_df = pd.DataFrame(dim_discrepancies)\n",
    "pd.pivot_table(\n",
    "    dim_discrepancy_df.drop(\"num_samples\", axis=1),\n",
    "    index=[\"num_dims\", \"discrepancy\", \"name\"],\n",
    ")\n"
   ]
  },
  {
   "cell_type": "code",
   "execution_count": 22,
   "metadata": {},
   "outputs": [
    {
     "name": "stdout",
     "output_type": "stream",
     "text": [
      "3\n",
      "2\n",
      "1\n",
      "1\n"
     ]
    },
    {
     "name": "stderr",
     "output_type": "stream",
     "text": [
      "C:\\Users\\sterg\\AppData\\Local\\Temp\\ipykernel_29488\\2746881076.py:5: UserWarning:\n",
      "\n",
      "The balance properties of Sobol' points require n to be a power of 2.\n",
      "\n",
      "C:\\Users\\sterg\\AppData\\Local\\Temp\\ipykernel_29488\\2746881076.py:5: UserWarning:\n",
      "\n",
      "The balance properties of Sobol' points require n to be a power of 2.\n",
      "\n",
      "C:\\Users\\sterg\\AppData\\Local\\Temp\\ipykernel_29488\\2746881076.py:5: UserWarning:\n",
      "\n",
      "The balance properties of Sobol' points require n to be a power of 2.\n",
      "\n",
      "C:\\Users\\sterg\\AppData\\Local\\Temp\\ipykernel_29488\\2746881076.py:5: UserWarning:\n",
      "\n",
      "The balance properties of Sobol' points require n to be a power of 2.\n",
      "\n"
     ]
    },
    {
     "data": {
      "text/html": [
       "<div>\n",
       "<style scoped>\n",
       "    .dataframe tbody tr th:only-of-type {\n",
       "        vertical-align: middle;\n",
       "    }\n",
       "\n",
       "    .dataframe tbody tr th {\n",
       "        vertical-align: top;\n",
       "    }\n",
       "\n",
       "    .dataframe thead th {\n",
       "        text-align: right;\n",
       "    }\n",
       "</style>\n",
       "<table border=\"1\" class=\"dataframe\">\n",
       "  <thead>\n",
       "    <tr style=\"text-align: right;\">\n",
       "      <th></th>\n",
       "      <th></th>\n",
       "      <th></th>\n",
       "    </tr>\n",
       "    <tr>\n",
       "      <th>num_dims</th>\n",
       "      <th>discrepancy</th>\n",
       "      <th>name</th>\n",
       "    </tr>\n",
       "  </thead>\n",
       "  <tbody>\n",
       "    <tr>\n",
       "      <th rowspan=\"4\" valign=\"top\">2</th>\n",
       "      <th>0.005237</th>\n",
       "      <th>latin_hypercube</th>\n",
       "    </tr>\n",
       "    <tr>\n",
       "      <th>0.007647</th>\n",
       "      <th>sobol</th>\n",
       "    </tr>\n",
       "    <tr>\n",
       "      <th>0.019628</th>\n",
       "      <th>random</th>\n",
       "    </tr>\n",
       "    <tr>\n",
       "      <th>0.060957</th>\n",
       "      <th>grid</th>\n",
       "    </tr>\n",
       "    <tr>\n",
       "      <th rowspan=\"4\" valign=\"top\">3</th>\n",
       "      <th>0.011434</th>\n",
       "      <th>latin_hypercube</th>\n",
       "    </tr>\n",
       "    <tr>\n",
       "      <th>0.014515</th>\n",
       "      <th>sobol</th>\n",
       "    </tr>\n",
       "    <tr>\n",
       "      <th>0.045862</th>\n",
       "      <th>random</th>\n",
       "    </tr>\n",
       "    <tr>\n",
       "      <th>0.376881</th>\n",
       "      <th>grid</th>\n",
       "    </tr>\n",
       "    <tr>\n",
       "      <th rowspan=\"4\" valign=\"top\">10</th>\n",
       "      <th>0.304143</th>\n",
       "      <th>latin_hypercube</th>\n",
       "    </tr>\n",
       "    <tr>\n",
       "      <th>0.437433</th>\n",
       "      <th>sobol</th>\n",
       "    </tr>\n",
       "    <tr>\n",
       "      <th>0.997640</th>\n",
       "      <th>random</th>\n",
       "    </tr>\n",
       "    <tr>\n",
       "      <th>53.396889</th>\n",
       "      <th>grid</th>\n",
       "    </tr>\n",
       "    <tr>\n",
       "      <th rowspan=\"4\" valign=\"top\">20</th>\n",
       "      <th>6.131461</th>\n",
       "      <th>latin_hypercube</th>\n",
       "    </tr>\n",
       "    <tr>\n",
       "      <th>7.369506</th>\n",
       "      <th>sobol</th>\n",
       "    </tr>\n",
       "    <tr>\n",
       "      <th>11.771547</th>\n",
       "      <th>random</th>\n",
       "    </tr>\n",
       "    <tr>\n",
       "      <th>3309.123807</th>\n",
       "      <th>grid</th>\n",
       "    </tr>\n",
       "  </tbody>\n",
       "</table>\n",
       "</div>"
      ],
      "text/plain": [
       "Empty DataFrame\n",
       "Columns: []\n",
       "Index: [(2, 0.005236766705729812, latin_hypercube), (2, 0.0076472324046004125, sobol), (2, 0.019627671148842563, random), (2, 0.060956790123456894, grid), (3, 0.011434040866014517, latin_hypercube), (3, 0.01451538370993033, sobol), (3, 0.04586154399146114, random), (3, 0.37688078703703676, grid), (10, 0.30414326400414193, latin_hypercube), (10, 0.43743273730096544, sobol), (10, 0.9976404884270602, random), (10, 53.396888619801956, grid), (20, 6.131461128328029, latin_hypercube), (20, 7.369505984936929, sobol), (20, 11.771547486969345, random), (20, 3309.1238072763103, grid)]"
      ]
     },
     "execution_count": 22,
     "metadata": {},
     "output_type": "execute_result"
    }
   ],
   "source": [
    "dim_discrepancies = []\n",
    "# sample_dfs = []\n",
    "dim_nums = [2, 3, 10, 20]\n",
    "num_samples = 10\n",
    "for name, sampling_fn in sampling_fns.items():\n",
    "    for num_dims in dim_nums:\n",
    "        bounds = {f\"x{i+1}\": [0, 1] for i in range(num_dims)}\n",
    "        sample_df = sampling_fn(bounds, num_samples, seed=0)\n",
    "        discrepancy = qmc.discrepancy(sample_df.values)\n",
    "        dim_discrepancies.append(dict(name=name, num_samples=sample_df.shape[0], discrepancy=discrepancy, num_dims=num_dims))\n",
    "        # sample_dfs.append(sample_df)\n",
    "\n",
    "dim_discrepancy_df = pd.DataFrame(dim_discrepancies)\n",
    "pd.pivot_table(\n",
    "    dim_discrepancy_df.drop(\"num_samples\", axis=1),\n",
    "    index=[\"num_dims\", \"discrepancy\", \"name\"],\n",
    ")\n"
   ]
  },
  {
   "cell_type": "code",
   "execution_count": 23,
   "metadata": {},
   "outputs": [
    {
     "name": "stdout",
     "output_type": "stream",
     "text": [
      "31\n",
      "9\n",
      "1\n",
      "1\n"
     ]
    },
    {
     "name": "stderr",
     "output_type": "stream",
     "text": [
      "C:\\Users\\sterg\\AppData\\Local\\Temp\\ipykernel_29488\\2746881076.py:5: UserWarning:\n",
      "\n",
      "The balance properties of Sobol' points require n to be a power of 2.\n",
      "\n",
      "C:\\Users\\sterg\\AppData\\Local\\Temp\\ipykernel_29488\\2746881076.py:5: UserWarning:\n",
      "\n",
      "The balance properties of Sobol' points require n to be a power of 2.\n",
      "\n",
      "C:\\Users\\sterg\\AppData\\Local\\Temp\\ipykernel_29488\\2746881076.py:5: UserWarning:\n",
      "\n",
      "The balance properties of Sobol' points require n to be a power of 2.\n",
      "\n",
      "C:\\Users\\sterg\\AppData\\Local\\Temp\\ipykernel_29488\\2746881076.py:5: UserWarning:\n",
      "\n",
      "The balance properties of Sobol' points require n to be a power of 2.\n",
      "\n"
     ]
    },
    {
     "data": {
      "text/html": [
       "<div>\n",
       "<style scoped>\n",
       "    .dataframe tbody tr th:only-of-type {\n",
       "        vertical-align: middle;\n",
       "    }\n",
       "\n",
       "    .dataframe tbody tr th {\n",
       "        vertical-align: top;\n",
       "    }\n",
       "\n",
       "    .dataframe thead th {\n",
       "        text-align: right;\n",
       "    }\n",
       "</style>\n",
       "<table border=\"1\" class=\"dataframe\">\n",
       "  <thead>\n",
       "    <tr style=\"text-align: right;\">\n",
       "      <th></th>\n",
       "      <th></th>\n",
       "      <th></th>\n",
       "    </tr>\n",
       "    <tr>\n",
       "      <th>num_dims</th>\n",
       "      <th>discrepancy</th>\n",
       "      <th>name</th>\n",
       "    </tr>\n",
       "  </thead>\n",
       "  <tbody>\n",
       "    <tr>\n",
       "      <th rowspan=\"4\" valign=\"top\">2</th>\n",
       "      <th>0.000001</th>\n",
       "      <th>latin_hypercube</th>\n",
       "    </tr>\n",
       "    <tr>\n",
       "      <th>0.000002</th>\n",
       "      <th>sobol</th>\n",
       "    </tr>\n",
       "    <tr>\n",
       "      <th>0.000392</th>\n",
       "      <th>grid</th>\n",
       "    </tr>\n",
       "    <tr>\n",
       "      <th>0.001073</th>\n",
       "      <th>random</th>\n",
       "    </tr>\n",
       "    <tr>\n",
       "      <th rowspan=\"4\" valign=\"top\">3</th>\n",
       "      <th>0.000005</th>\n",
       "      <th>sobol</th>\n",
       "    </tr>\n",
       "    <tr>\n",
       "      <th>0.000009</th>\n",
       "      <th>latin_hypercube</th>\n",
       "    </tr>\n",
       "    <tr>\n",
       "      <th>0.001335</th>\n",
       "      <th>random</th>\n",
       "    </tr>\n",
       "    <tr>\n",
       "      <th>0.008351</th>\n",
       "      <th>grid</th>\n",
       "    </tr>\n",
       "    <tr>\n",
       "      <th rowspan=\"4\" valign=\"top\">10</th>\n",
       "      <th>0.000865</th>\n",
       "      <th>sobol</th>\n",
       "    </tr>\n",
       "    <tr>\n",
       "      <th>0.001360</th>\n",
       "      <th>latin_hypercube</th>\n",
       "    </tr>\n",
       "    <tr>\n",
       "      <th>0.007363</th>\n",
       "      <th>random</th>\n",
       "    </tr>\n",
       "    <tr>\n",
       "      <th>53.396889</th>\n",
       "      <th>grid</th>\n",
       "    </tr>\n",
       "    <tr>\n",
       "      <th rowspan=\"4\" valign=\"top\">20</th>\n",
       "      <th>0.043370</th>\n",
       "      <th>sobol</th>\n",
       "    </tr>\n",
       "    <tr>\n",
       "      <th>0.044576</th>\n",
       "      <th>latin_hypercube</th>\n",
       "    </tr>\n",
       "    <tr>\n",
       "      <th>0.079098</th>\n",
       "      <th>random</th>\n",
       "    </tr>\n",
       "    <tr>\n",
       "      <th>3309.123807</th>\n",
       "      <th>grid</th>\n",
       "    </tr>\n",
       "  </tbody>\n",
       "</table>\n",
       "</div>"
      ],
      "text/plain": [
       "Empty DataFrame\n",
       "Columns: []\n",
       "Index: [(2, 1.3837207570865928e-06, latin_hypercube), (2, 1.6838481025072127e-06, sobol), (2, 0.0003923703424881797, grid), (2, 0.001073323450584196, random), (3, 4.8907254588392846e-06, sobol), (3, 8.754559247092786e-06, latin_hypercube), (3, 0.0013353502970596676, random), (3, 0.008351056258295353, grid), (10, 0.0008654031158545905, sobol), (10, 0.001360454305847636, latin_hypercube), (10, 0.007363398310313407, random), (10, 53.396888619801956, grid), (20, 0.043370026241586146, sobol), (20, 0.04457565812541375, latin_hypercube), (20, 0.07909763543233517, random), (20, 3309.1238072763103, grid)]"
      ]
     },
     "execution_count": 23,
     "metadata": {},
     "output_type": "execute_result"
    }
   ],
   "source": [
    "dim_discrepancies = []\n",
    "# sample_dfs = []\n",
    "dim_nums = [2, 3, 10, 20]\n",
    "num_samples = 1000\n",
    "for name, sampling_fn in sampling_fns.items():\n",
    "    for num_dims in dim_nums:\n",
    "        bounds = {f\"x{i+1}\": [0, 1] for i in range(num_dims)}\n",
    "        sample_df = sampling_fn(bounds, num_samples, seed=0)\n",
    "        discrepancy = qmc.discrepancy(sample_df.values)\n",
    "        dim_discrepancies.append(dict(name=name, num_samples=sample_df.shape[0], discrepancy=discrepancy, num_dims=num_dims))\n",
    "        # sample_dfs.append(sample_df)\n",
    "\n",
    "dim_discrepancy_df = pd.DataFrame(dim_discrepancies)\n",
    "pd.pivot_table(\n",
    "    dim_discrepancy_df.drop(\"num_samples\", axis=1),\n",
    "    index=[\"num_dims\", \"discrepancy\", \"name\"],\n",
    ")\n"
   ]
  }
 ],
 "metadata": {
  "kernelspec": {
   "display_name": "Python 3.9.13 ('sdl-demo')",
   "language": "python",
   "name": "python3"
  },
  "language_info": {
   "codemirror_mode": {
    "name": "ipython",
    "version": 3
   },
   "file_extension": ".py",
   "mimetype": "text/x-python",
   "name": "python",
   "nbconvert_exporter": "python",
   "pygments_lexer": "ipython3",
   "version": "3.9.6"
  },
  "orig_nbformat": 4,
  "vscode": {
   "interpreter": {
    "hash": "70cb6d4911b67e25d1487ebd620c5d1370239efaaf47f3851af44f5c5a26f988"
   }
  }
 },
 "nbformat": 4,
 "nbformat_minor": 2
}
